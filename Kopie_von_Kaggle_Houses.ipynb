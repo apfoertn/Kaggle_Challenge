{
  "nbformat": 4,
  "nbformat_minor": 0,
  "metadata": {
    "colab": {
      "name": "Kopie von Kaggle_Houses.ipynb",
      "provenance": [],
      "collapsed_sections": [
        "cq_E9cskTwEU",
        "dyZ4fHI2T6o5",
        "aP3UEz1TUeja",
        "iNS-ojudUwei",
        "SzQ1M37zU2Du",
        "dHuDHn7EHA1d",
        "4mK9k_zNQNhH"
      ],
      "authorship_tag": "ABX9TyO1X2RNucOyNKZFU+VucKYy",
      "include_colab_link": true
    },
    "kernelspec": {
      "name": "python3",
      "display_name": "Python 3"
    },
    "accelerator": "GPU"
  },
  "cells": [
    {
      "cell_type": "markdown",
      "metadata": {
        "id": "view-in-github",
        "colab_type": "text"
      },
      "source": [
        "<a href=\"https://colab.research.google.com/github/apfoertn/Kaggle_Challenge/blob/master/Kopie_von_Kaggle_Houses.ipynb\" target=\"_parent\"><img src=\"https://colab.research.google.com/assets/colab-badge.svg\" alt=\"Open In Colab\"/></a>"
      ]
    },
    {
      "cell_type": "markdown",
      "metadata": {
        "id": "w_ixYjVAS2A8",
        "colab_type": "text"
      },
      "source": [
        "# **Project description**"
      ]
    },
    {
      "cell_type": "markdown",
      "metadata": {
        "id": "cq_E9cskTwEU",
        "colab_type": "text"
      },
      "source": [
        "# 1. Import all necessary packages"
      ]
    },
    {
      "cell_type": "code",
      "metadata": {
        "id": "OwRMfBdRT8-2",
        "colab_type": "code",
        "colab": {
          "base_uri": "https://localhost:8080/",
          "height": 0
        },
        "outputId": "70d2b784-91bc-4c53-cc7b-eeb5eb02795f"
      },
      "source": [
        "#check if notebook runs in colab\n",
        "import sys\n",
        "IN_COLAB = 'google.colab' in sys.modules\n",
        "print('running in Colab:',IN_COLAB)\n",
        "path='..'\n",
        "if IN_COLAB:\n",
        "  #in colab, we need to clone the data from the repo\n",
        "  !git clone https://github.com/apfoertn/Kaggle_Challenge.git\n",
        "  path='Kaggle_Challenge'"
      ],
      "execution_count": 1,
      "outputs": [
        {
          "output_type": "stream",
          "text": [
            "running in Colab: True\n",
            "fatal: destination path 'Kaggle_Challenge' already exists and is not an empty directory.\n"
          ],
          "name": "stdout"
        }
      ]
    },
    {
      "cell_type": "code",
      "metadata": {
        "id": "MBVRxx7FT_It",
        "colab_type": "code",
        "colab": {
          "base_uri": "https://localhost:8080/",
          "height": 0
        },
        "outputId": "221d0e48-28b1-49b5-bd13-b11083f71e60"
      },
      "source": [
        "#import all necessary packages\n",
        "import pandas as pd\n",
        "import numpy as np\n",
        "import matplotlib.pyplot as plt \n",
        "import seaborn as sns\n",
        "from scipy.stats import skew \n",
        "from scipy.stats import boxcox_normmax\n",
        "from scipy.special import boxcox1p\n",
        "from sklearn.preprocessing import LabelEncoder \n",
        "\n",
        "#packages for modelling\n",
        "from sklearn.model_selection import train_test_split\n",
        "from sklearn.model_selection import cross_val_score\n",
        "from sklearn.metrics import mean_squared_error\n",
        "from sklearn.pipeline import make_pipeline\n",
        "from sklearn.preprocessing import RobustScaler\n",
        "\n",
        "#models\n",
        "from sklearn.linear_model import LassoCV\n",
        "from sklearn.linear_model import RidgeCV\n",
        "from sklearn.linear_model import ElasticNetCV\n",
        "from sklearn.ensemble import GradientBoostingRegressor\n",
        "from sklearn.ensemble import RandomForestRegressor\n",
        "from mlxtend.regressor import StackingCVRegressor\n",
        "\n",
        "import warnings\n",
        "warnings.filterwarnings('ignore')"
      ],
      "execution_count": 2,
      "outputs": [
        {
          "output_type": "stream",
          "text": [
            "/usr/local/lib/python3.6/dist-packages/statsmodels/tools/_testing.py:19: FutureWarning: pandas.util.testing is deprecated. Use the functions in the public API at pandas.testing instead.\n",
            "  import pandas.util.testing as tm\n"
          ],
          "name": "stderr"
        }
      ]
    },
    {
      "cell_type": "markdown",
      "metadata": {
        "id": "dyZ4fHI2T6o5",
        "colab_type": "text"
      },
      "source": [
        "# 2. Import data"
      ]
    },
    {
      "cell_type": "code",
      "metadata": {
        "id": "ecnTI0UESx-A",
        "colab_type": "code",
        "colab": {}
      },
      "source": [
        "#import data from GitHub\n",
        "train = pd.read_csv(path+'/data/train.csv')\n",
        "test = pd.read_csv(path+'/data/test.csv')"
      ],
      "execution_count": 3,
      "outputs": []
    },
    {
      "cell_type": "markdown",
      "metadata": {
        "id": "aP3UEz1TUeja",
        "colab_type": "text"
      },
      "source": [
        "# 3. Getting in touch with the data\n",
        "\n",
        "Having a first look on the data to get a first impression of the datasets."
      ]
    },
    {
      "cell_type": "code",
      "metadata": {
        "id": "eBrEWcLEV6wC",
        "colab_type": "code",
        "colab": {
          "base_uri": "https://localhost:8080/",
          "height": 0
        },
        "outputId": "5a281b2b-e4ef-4479-c186-242f08e70d22"
      },
      "source": [
        "print('Number of observations in train data:',train.shape[0])\n",
        "print('Number of colums in train data:', train.shape[1])"
      ],
      "execution_count": 4,
      "outputs": [
        {
          "output_type": "stream",
          "text": [
            "Number of observations in train data: 1460\n",
            "Number of colums in train data: 81\n"
          ],
          "name": "stdout"
        }
      ]
    },
    {
      "cell_type": "code",
      "metadata": {
        "id": "M3_13YOCWAAO",
        "colab_type": "code",
        "colab": {
          "base_uri": "https://localhost:8080/",
          "height": 0
        },
        "outputId": "a113ae98-c5fe-46d7-a118-1e2984bdfe32"
      },
      "source": [
        "#show the first 10 lines of train data\n",
        "train.head(10)"
      ],
      "execution_count": 5,
      "outputs": [
        {
          "output_type": "execute_result",
          "data": {
            "text/html": [
              "<div>\n",
              "<style scoped>\n",
              "    .dataframe tbody tr th:only-of-type {\n",
              "        vertical-align: middle;\n",
              "    }\n",
              "\n",
              "    .dataframe tbody tr th {\n",
              "        vertical-align: top;\n",
              "    }\n",
              "\n",
              "    .dataframe thead th {\n",
              "        text-align: right;\n",
              "    }\n",
              "</style>\n",
              "<table border=\"1\" class=\"dataframe\">\n",
              "  <thead>\n",
              "    <tr style=\"text-align: right;\">\n",
              "      <th></th>\n",
              "      <th>Id</th>\n",
              "      <th>MSSubClass</th>\n",
              "      <th>MSZoning</th>\n",
              "      <th>LotFrontage</th>\n",
              "      <th>LotArea</th>\n",
              "      <th>Street</th>\n",
              "      <th>Alley</th>\n",
              "      <th>LotShape</th>\n",
              "      <th>LandContour</th>\n",
              "      <th>Utilities</th>\n",
              "      <th>LotConfig</th>\n",
              "      <th>LandSlope</th>\n",
              "      <th>Neighborhood</th>\n",
              "      <th>Condition1</th>\n",
              "      <th>Condition2</th>\n",
              "      <th>BldgType</th>\n",
              "      <th>HouseStyle</th>\n",
              "      <th>OverallQual</th>\n",
              "      <th>OverallCond</th>\n",
              "      <th>YearBuilt</th>\n",
              "      <th>YearRemodAdd</th>\n",
              "      <th>RoofStyle</th>\n",
              "      <th>RoofMatl</th>\n",
              "      <th>Exterior1st</th>\n",
              "      <th>Exterior2nd</th>\n",
              "      <th>MasVnrType</th>\n",
              "      <th>MasVnrArea</th>\n",
              "      <th>ExterQual</th>\n",
              "      <th>ExterCond</th>\n",
              "      <th>Foundation</th>\n",
              "      <th>BsmtQual</th>\n",
              "      <th>BsmtCond</th>\n",
              "      <th>BsmtExposure</th>\n",
              "      <th>BsmtFinType1</th>\n",
              "      <th>BsmtFinSF1</th>\n",
              "      <th>BsmtFinType2</th>\n",
              "      <th>BsmtFinSF2</th>\n",
              "      <th>BsmtUnfSF</th>\n",
              "      <th>TotalBsmtSF</th>\n",
              "      <th>Heating</th>\n",
              "      <th>...</th>\n",
              "      <th>CentralAir</th>\n",
              "      <th>Electrical</th>\n",
              "      <th>1stFlrSF</th>\n",
              "      <th>2ndFlrSF</th>\n",
              "      <th>LowQualFinSF</th>\n",
              "      <th>GrLivArea</th>\n",
              "      <th>BsmtFullBath</th>\n",
              "      <th>BsmtHalfBath</th>\n",
              "      <th>FullBath</th>\n",
              "      <th>HalfBath</th>\n",
              "      <th>BedroomAbvGr</th>\n",
              "      <th>KitchenAbvGr</th>\n",
              "      <th>KitchenQual</th>\n",
              "      <th>TotRmsAbvGrd</th>\n",
              "      <th>Functional</th>\n",
              "      <th>Fireplaces</th>\n",
              "      <th>FireplaceQu</th>\n",
              "      <th>GarageType</th>\n",
              "      <th>GarageYrBlt</th>\n",
              "      <th>GarageFinish</th>\n",
              "      <th>GarageCars</th>\n",
              "      <th>GarageArea</th>\n",
              "      <th>GarageQual</th>\n",
              "      <th>GarageCond</th>\n",
              "      <th>PavedDrive</th>\n",
              "      <th>WoodDeckSF</th>\n",
              "      <th>OpenPorchSF</th>\n",
              "      <th>EnclosedPorch</th>\n",
              "      <th>3SsnPorch</th>\n",
              "      <th>ScreenPorch</th>\n",
              "      <th>PoolArea</th>\n",
              "      <th>PoolQC</th>\n",
              "      <th>Fence</th>\n",
              "      <th>MiscFeature</th>\n",
              "      <th>MiscVal</th>\n",
              "      <th>MoSold</th>\n",
              "      <th>YrSold</th>\n",
              "      <th>SaleType</th>\n",
              "      <th>SaleCondition</th>\n",
              "      <th>SalePrice</th>\n",
              "    </tr>\n",
              "  </thead>\n",
              "  <tbody>\n",
              "    <tr>\n",
              "      <th>0</th>\n",
              "      <td>1</td>\n",
              "      <td>60</td>\n",
              "      <td>RL</td>\n",
              "      <td>65.0</td>\n",
              "      <td>8450</td>\n",
              "      <td>Pave</td>\n",
              "      <td>NaN</td>\n",
              "      <td>Reg</td>\n",
              "      <td>Lvl</td>\n",
              "      <td>AllPub</td>\n",
              "      <td>Inside</td>\n",
              "      <td>Gtl</td>\n",
              "      <td>CollgCr</td>\n",
              "      <td>Norm</td>\n",
              "      <td>Norm</td>\n",
              "      <td>1Fam</td>\n",
              "      <td>2Story</td>\n",
              "      <td>7</td>\n",
              "      <td>5</td>\n",
              "      <td>2003</td>\n",
              "      <td>2003</td>\n",
              "      <td>Gable</td>\n",
              "      <td>CompShg</td>\n",
              "      <td>VinylSd</td>\n",
              "      <td>VinylSd</td>\n",
              "      <td>BrkFace</td>\n",
              "      <td>196.0</td>\n",
              "      <td>Gd</td>\n",
              "      <td>TA</td>\n",
              "      <td>PConc</td>\n",
              "      <td>Gd</td>\n",
              "      <td>TA</td>\n",
              "      <td>No</td>\n",
              "      <td>GLQ</td>\n",
              "      <td>706</td>\n",
              "      <td>Unf</td>\n",
              "      <td>0</td>\n",
              "      <td>150</td>\n",
              "      <td>856</td>\n",
              "      <td>GasA</td>\n",
              "      <td>...</td>\n",
              "      <td>Y</td>\n",
              "      <td>SBrkr</td>\n",
              "      <td>856</td>\n",
              "      <td>854</td>\n",
              "      <td>0</td>\n",
              "      <td>1710</td>\n",
              "      <td>1</td>\n",
              "      <td>0</td>\n",
              "      <td>2</td>\n",
              "      <td>1</td>\n",
              "      <td>3</td>\n",
              "      <td>1</td>\n",
              "      <td>Gd</td>\n",
              "      <td>8</td>\n",
              "      <td>Typ</td>\n",
              "      <td>0</td>\n",
              "      <td>NaN</td>\n",
              "      <td>Attchd</td>\n",
              "      <td>2003.0</td>\n",
              "      <td>RFn</td>\n",
              "      <td>2</td>\n",
              "      <td>548</td>\n",
              "      <td>TA</td>\n",
              "      <td>TA</td>\n",
              "      <td>Y</td>\n",
              "      <td>0</td>\n",
              "      <td>61</td>\n",
              "      <td>0</td>\n",
              "      <td>0</td>\n",
              "      <td>0</td>\n",
              "      <td>0</td>\n",
              "      <td>NaN</td>\n",
              "      <td>NaN</td>\n",
              "      <td>NaN</td>\n",
              "      <td>0</td>\n",
              "      <td>2</td>\n",
              "      <td>2008</td>\n",
              "      <td>WD</td>\n",
              "      <td>Normal</td>\n",
              "      <td>208500</td>\n",
              "    </tr>\n",
              "    <tr>\n",
              "      <th>1</th>\n",
              "      <td>2</td>\n",
              "      <td>20</td>\n",
              "      <td>RL</td>\n",
              "      <td>80.0</td>\n",
              "      <td>9600</td>\n",
              "      <td>Pave</td>\n",
              "      <td>NaN</td>\n",
              "      <td>Reg</td>\n",
              "      <td>Lvl</td>\n",
              "      <td>AllPub</td>\n",
              "      <td>FR2</td>\n",
              "      <td>Gtl</td>\n",
              "      <td>Veenker</td>\n",
              "      <td>Feedr</td>\n",
              "      <td>Norm</td>\n",
              "      <td>1Fam</td>\n",
              "      <td>1Story</td>\n",
              "      <td>6</td>\n",
              "      <td>8</td>\n",
              "      <td>1976</td>\n",
              "      <td>1976</td>\n",
              "      <td>Gable</td>\n",
              "      <td>CompShg</td>\n",
              "      <td>MetalSd</td>\n",
              "      <td>MetalSd</td>\n",
              "      <td>None</td>\n",
              "      <td>0.0</td>\n",
              "      <td>TA</td>\n",
              "      <td>TA</td>\n",
              "      <td>CBlock</td>\n",
              "      <td>Gd</td>\n",
              "      <td>TA</td>\n",
              "      <td>Gd</td>\n",
              "      <td>ALQ</td>\n",
              "      <td>978</td>\n",
              "      <td>Unf</td>\n",
              "      <td>0</td>\n",
              "      <td>284</td>\n",
              "      <td>1262</td>\n",
              "      <td>GasA</td>\n",
              "      <td>...</td>\n",
              "      <td>Y</td>\n",
              "      <td>SBrkr</td>\n",
              "      <td>1262</td>\n",
              "      <td>0</td>\n",
              "      <td>0</td>\n",
              "      <td>1262</td>\n",
              "      <td>0</td>\n",
              "      <td>1</td>\n",
              "      <td>2</td>\n",
              "      <td>0</td>\n",
              "      <td>3</td>\n",
              "      <td>1</td>\n",
              "      <td>TA</td>\n",
              "      <td>6</td>\n",
              "      <td>Typ</td>\n",
              "      <td>1</td>\n",
              "      <td>TA</td>\n",
              "      <td>Attchd</td>\n",
              "      <td>1976.0</td>\n",
              "      <td>RFn</td>\n",
              "      <td>2</td>\n",
              "      <td>460</td>\n",
              "      <td>TA</td>\n",
              "      <td>TA</td>\n",
              "      <td>Y</td>\n",
              "      <td>298</td>\n",
              "      <td>0</td>\n",
              "      <td>0</td>\n",
              "      <td>0</td>\n",
              "      <td>0</td>\n",
              "      <td>0</td>\n",
              "      <td>NaN</td>\n",
              "      <td>NaN</td>\n",
              "      <td>NaN</td>\n",
              "      <td>0</td>\n",
              "      <td>5</td>\n",
              "      <td>2007</td>\n",
              "      <td>WD</td>\n",
              "      <td>Normal</td>\n",
              "      <td>181500</td>\n",
              "    </tr>\n",
              "    <tr>\n",
              "      <th>2</th>\n",
              "      <td>3</td>\n",
              "      <td>60</td>\n",
              "      <td>RL</td>\n",
              "      <td>68.0</td>\n",
              "      <td>11250</td>\n",
              "      <td>Pave</td>\n",
              "      <td>NaN</td>\n",
              "      <td>IR1</td>\n",
              "      <td>Lvl</td>\n",
              "      <td>AllPub</td>\n",
              "      <td>Inside</td>\n",
              "      <td>Gtl</td>\n",
              "      <td>CollgCr</td>\n",
              "      <td>Norm</td>\n",
              "      <td>Norm</td>\n",
              "      <td>1Fam</td>\n",
              "      <td>2Story</td>\n",
              "      <td>7</td>\n",
              "      <td>5</td>\n",
              "      <td>2001</td>\n",
              "      <td>2002</td>\n",
              "      <td>Gable</td>\n",
              "      <td>CompShg</td>\n",
              "      <td>VinylSd</td>\n",
              "      <td>VinylSd</td>\n",
              "      <td>BrkFace</td>\n",
              "      <td>162.0</td>\n",
              "      <td>Gd</td>\n",
              "      <td>TA</td>\n",
              "      <td>PConc</td>\n",
              "      <td>Gd</td>\n",
              "      <td>TA</td>\n",
              "      <td>Mn</td>\n",
              "      <td>GLQ</td>\n",
              "      <td>486</td>\n",
              "      <td>Unf</td>\n",
              "      <td>0</td>\n",
              "      <td>434</td>\n",
              "      <td>920</td>\n",
              "      <td>GasA</td>\n",
              "      <td>...</td>\n",
              "      <td>Y</td>\n",
              "      <td>SBrkr</td>\n",
              "      <td>920</td>\n",
              "      <td>866</td>\n",
              "      <td>0</td>\n",
              "      <td>1786</td>\n",
              "      <td>1</td>\n",
              "      <td>0</td>\n",
              "      <td>2</td>\n",
              "      <td>1</td>\n",
              "      <td>3</td>\n",
              "      <td>1</td>\n",
              "      <td>Gd</td>\n",
              "      <td>6</td>\n",
              "      <td>Typ</td>\n",
              "      <td>1</td>\n",
              "      <td>TA</td>\n",
              "      <td>Attchd</td>\n",
              "      <td>2001.0</td>\n",
              "      <td>RFn</td>\n",
              "      <td>2</td>\n",
              "      <td>608</td>\n",
              "      <td>TA</td>\n",
              "      <td>TA</td>\n",
              "      <td>Y</td>\n",
              "      <td>0</td>\n",
              "      <td>42</td>\n",
              "      <td>0</td>\n",
              "      <td>0</td>\n",
              "      <td>0</td>\n",
              "      <td>0</td>\n",
              "      <td>NaN</td>\n",
              "      <td>NaN</td>\n",
              "      <td>NaN</td>\n",
              "      <td>0</td>\n",
              "      <td>9</td>\n",
              "      <td>2008</td>\n",
              "      <td>WD</td>\n",
              "      <td>Normal</td>\n",
              "      <td>223500</td>\n",
              "    </tr>\n",
              "    <tr>\n",
              "      <th>3</th>\n",
              "      <td>4</td>\n",
              "      <td>70</td>\n",
              "      <td>RL</td>\n",
              "      <td>60.0</td>\n",
              "      <td>9550</td>\n",
              "      <td>Pave</td>\n",
              "      <td>NaN</td>\n",
              "      <td>IR1</td>\n",
              "      <td>Lvl</td>\n",
              "      <td>AllPub</td>\n",
              "      <td>Corner</td>\n",
              "      <td>Gtl</td>\n",
              "      <td>Crawfor</td>\n",
              "      <td>Norm</td>\n",
              "      <td>Norm</td>\n",
              "      <td>1Fam</td>\n",
              "      <td>2Story</td>\n",
              "      <td>7</td>\n",
              "      <td>5</td>\n",
              "      <td>1915</td>\n",
              "      <td>1970</td>\n",
              "      <td>Gable</td>\n",
              "      <td>CompShg</td>\n",
              "      <td>Wd Sdng</td>\n",
              "      <td>Wd Shng</td>\n",
              "      <td>None</td>\n",
              "      <td>0.0</td>\n",
              "      <td>TA</td>\n",
              "      <td>TA</td>\n",
              "      <td>BrkTil</td>\n",
              "      <td>TA</td>\n",
              "      <td>Gd</td>\n",
              "      <td>No</td>\n",
              "      <td>ALQ</td>\n",
              "      <td>216</td>\n",
              "      <td>Unf</td>\n",
              "      <td>0</td>\n",
              "      <td>540</td>\n",
              "      <td>756</td>\n",
              "      <td>GasA</td>\n",
              "      <td>...</td>\n",
              "      <td>Y</td>\n",
              "      <td>SBrkr</td>\n",
              "      <td>961</td>\n",
              "      <td>756</td>\n",
              "      <td>0</td>\n",
              "      <td>1717</td>\n",
              "      <td>1</td>\n",
              "      <td>0</td>\n",
              "      <td>1</td>\n",
              "      <td>0</td>\n",
              "      <td>3</td>\n",
              "      <td>1</td>\n",
              "      <td>Gd</td>\n",
              "      <td>7</td>\n",
              "      <td>Typ</td>\n",
              "      <td>1</td>\n",
              "      <td>Gd</td>\n",
              "      <td>Detchd</td>\n",
              "      <td>1998.0</td>\n",
              "      <td>Unf</td>\n",
              "      <td>3</td>\n",
              "      <td>642</td>\n",
              "      <td>TA</td>\n",
              "      <td>TA</td>\n",
              "      <td>Y</td>\n",
              "      <td>0</td>\n",
              "      <td>35</td>\n",
              "      <td>272</td>\n",
              "      <td>0</td>\n",
              "      <td>0</td>\n",
              "      <td>0</td>\n",
              "      <td>NaN</td>\n",
              "      <td>NaN</td>\n",
              "      <td>NaN</td>\n",
              "      <td>0</td>\n",
              "      <td>2</td>\n",
              "      <td>2006</td>\n",
              "      <td>WD</td>\n",
              "      <td>Abnorml</td>\n",
              "      <td>140000</td>\n",
              "    </tr>\n",
              "    <tr>\n",
              "      <th>4</th>\n",
              "      <td>5</td>\n",
              "      <td>60</td>\n",
              "      <td>RL</td>\n",
              "      <td>84.0</td>\n",
              "      <td>14260</td>\n",
              "      <td>Pave</td>\n",
              "      <td>NaN</td>\n",
              "      <td>IR1</td>\n",
              "      <td>Lvl</td>\n",
              "      <td>AllPub</td>\n",
              "      <td>FR2</td>\n",
              "      <td>Gtl</td>\n",
              "      <td>NoRidge</td>\n",
              "      <td>Norm</td>\n",
              "      <td>Norm</td>\n",
              "      <td>1Fam</td>\n",
              "      <td>2Story</td>\n",
              "      <td>8</td>\n",
              "      <td>5</td>\n",
              "      <td>2000</td>\n",
              "      <td>2000</td>\n",
              "      <td>Gable</td>\n",
              "      <td>CompShg</td>\n",
              "      <td>VinylSd</td>\n",
              "      <td>VinylSd</td>\n",
              "      <td>BrkFace</td>\n",
              "      <td>350.0</td>\n",
              "      <td>Gd</td>\n",
              "      <td>TA</td>\n",
              "      <td>PConc</td>\n",
              "      <td>Gd</td>\n",
              "      <td>TA</td>\n",
              "      <td>Av</td>\n",
              "      <td>GLQ</td>\n",
              "      <td>655</td>\n",
              "      <td>Unf</td>\n",
              "      <td>0</td>\n",
              "      <td>490</td>\n",
              "      <td>1145</td>\n",
              "      <td>GasA</td>\n",
              "      <td>...</td>\n",
              "      <td>Y</td>\n",
              "      <td>SBrkr</td>\n",
              "      <td>1145</td>\n",
              "      <td>1053</td>\n",
              "      <td>0</td>\n",
              "      <td>2198</td>\n",
              "      <td>1</td>\n",
              "      <td>0</td>\n",
              "      <td>2</td>\n",
              "      <td>1</td>\n",
              "      <td>4</td>\n",
              "      <td>1</td>\n",
              "      <td>Gd</td>\n",
              "      <td>9</td>\n",
              "      <td>Typ</td>\n",
              "      <td>1</td>\n",
              "      <td>TA</td>\n",
              "      <td>Attchd</td>\n",
              "      <td>2000.0</td>\n",
              "      <td>RFn</td>\n",
              "      <td>3</td>\n",
              "      <td>836</td>\n",
              "      <td>TA</td>\n",
              "      <td>TA</td>\n",
              "      <td>Y</td>\n",
              "      <td>192</td>\n",
              "      <td>84</td>\n",
              "      <td>0</td>\n",
              "      <td>0</td>\n",
              "      <td>0</td>\n",
              "      <td>0</td>\n",
              "      <td>NaN</td>\n",
              "      <td>NaN</td>\n",
              "      <td>NaN</td>\n",
              "      <td>0</td>\n",
              "      <td>12</td>\n",
              "      <td>2008</td>\n",
              "      <td>WD</td>\n",
              "      <td>Normal</td>\n",
              "      <td>250000</td>\n",
              "    </tr>\n",
              "    <tr>\n",
              "      <th>5</th>\n",
              "      <td>6</td>\n",
              "      <td>50</td>\n",
              "      <td>RL</td>\n",
              "      <td>85.0</td>\n",
              "      <td>14115</td>\n",
              "      <td>Pave</td>\n",
              "      <td>NaN</td>\n",
              "      <td>IR1</td>\n",
              "      <td>Lvl</td>\n",
              "      <td>AllPub</td>\n",
              "      <td>Inside</td>\n",
              "      <td>Gtl</td>\n",
              "      <td>Mitchel</td>\n",
              "      <td>Norm</td>\n",
              "      <td>Norm</td>\n",
              "      <td>1Fam</td>\n",
              "      <td>1.5Fin</td>\n",
              "      <td>5</td>\n",
              "      <td>5</td>\n",
              "      <td>1993</td>\n",
              "      <td>1995</td>\n",
              "      <td>Gable</td>\n",
              "      <td>CompShg</td>\n",
              "      <td>VinylSd</td>\n",
              "      <td>VinylSd</td>\n",
              "      <td>None</td>\n",
              "      <td>0.0</td>\n",
              "      <td>TA</td>\n",
              "      <td>TA</td>\n",
              "      <td>Wood</td>\n",
              "      <td>Gd</td>\n",
              "      <td>TA</td>\n",
              "      <td>No</td>\n",
              "      <td>GLQ</td>\n",
              "      <td>732</td>\n",
              "      <td>Unf</td>\n",
              "      <td>0</td>\n",
              "      <td>64</td>\n",
              "      <td>796</td>\n",
              "      <td>GasA</td>\n",
              "      <td>...</td>\n",
              "      <td>Y</td>\n",
              "      <td>SBrkr</td>\n",
              "      <td>796</td>\n",
              "      <td>566</td>\n",
              "      <td>0</td>\n",
              "      <td>1362</td>\n",
              "      <td>1</td>\n",
              "      <td>0</td>\n",
              "      <td>1</td>\n",
              "      <td>1</td>\n",
              "      <td>1</td>\n",
              "      <td>1</td>\n",
              "      <td>TA</td>\n",
              "      <td>5</td>\n",
              "      <td>Typ</td>\n",
              "      <td>0</td>\n",
              "      <td>NaN</td>\n",
              "      <td>Attchd</td>\n",
              "      <td>1993.0</td>\n",
              "      <td>Unf</td>\n",
              "      <td>2</td>\n",
              "      <td>480</td>\n",
              "      <td>TA</td>\n",
              "      <td>TA</td>\n",
              "      <td>Y</td>\n",
              "      <td>40</td>\n",
              "      <td>30</td>\n",
              "      <td>0</td>\n",
              "      <td>320</td>\n",
              "      <td>0</td>\n",
              "      <td>0</td>\n",
              "      <td>NaN</td>\n",
              "      <td>MnPrv</td>\n",
              "      <td>Shed</td>\n",
              "      <td>700</td>\n",
              "      <td>10</td>\n",
              "      <td>2009</td>\n",
              "      <td>WD</td>\n",
              "      <td>Normal</td>\n",
              "      <td>143000</td>\n",
              "    </tr>\n",
              "    <tr>\n",
              "      <th>6</th>\n",
              "      <td>7</td>\n",
              "      <td>20</td>\n",
              "      <td>RL</td>\n",
              "      <td>75.0</td>\n",
              "      <td>10084</td>\n",
              "      <td>Pave</td>\n",
              "      <td>NaN</td>\n",
              "      <td>Reg</td>\n",
              "      <td>Lvl</td>\n",
              "      <td>AllPub</td>\n",
              "      <td>Inside</td>\n",
              "      <td>Gtl</td>\n",
              "      <td>Somerst</td>\n",
              "      <td>Norm</td>\n",
              "      <td>Norm</td>\n",
              "      <td>1Fam</td>\n",
              "      <td>1Story</td>\n",
              "      <td>8</td>\n",
              "      <td>5</td>\n",
              "      <td>2004</td>\n",
              "      <td>2005</td>\n",
              "      <td>Gable</td>\n",
              "      <td>CompShg</td>\n",
              "      <td>VinylSd</td>\n",
              "      <td>VinylSd</td>\n",
              "      <td>Stone</td>\n",
              "      <td>186.0</td>\n",
              "      <td>Gd</td>\n",
              "      <td>TA</td>\n",
              "      <td>PConc</td>\n",
              "      <td>Ex</td>\n",
              "      <td>TA</td>\n",
              "      <td>Av</td>\n",
              "      <td>GLQ</td>\n",
              "      <td>1369</td>\n",
              "      <td>Unf</td>\n",
              "      <td>0</td>\n",
              "      <td>317</td>\n",
              "      <td>1686</td>\n",
              "      <td>GasA</td>\n",
              "      <td>...</td>\n",
              "      <td>Y</td>\n",
              "      <td>SBrkr</td>\n",
              "      <td>1694</td>\n",
              "      <td>0</td>\n",
              "      <td>0</td>\n",
              "      <td>1694</td>\n",
              "      <td>1</td>\n",
              "      <td>0</td>\n",
              "      <td>2</td>\n",
              "      <td>0</td>\n",
              "      <td>3</td>\n",
              "      <td>1</td>\n",
              "      <td>Gd</td>\n",
              "      <td>7</td>\n",
              "      <td>Typ</td>\n",
              "      <td>1</td>\n",
              "      <td>Gd</td>\n",
              "      <td>Attchd</td>\n",
              "      <td>2004.0</td>\n",
              "      <td>RFn</td>\n",
              "      <td>2</td>\n",
              "      <td>636</td>\n",
              "      <td>TA</td>\n",
              "      <td>TA</td>\n",
              "      <td>Y</td>\n",
              "      <td>255</td>\n",
              "      <td>57</td>\n",
              "      <td>0</td>\n",
              "      <td>0</td>\n",
              "      <td>0</td>\n",
              "      <td>0</td>\n",
              "      <td>NaN</td>\n",
              "      <td>NaN</td>\n",
              "      <td>NaN</td>\n",
              "      <td>0</td>\n",
              "      <td>8</td>\n",
              "      <td>2007</td>\n",
              "      <td>WD</td>\n",
              "      <td>Normal</td>\n",
              "      <td>307000</td>\n",
              "    </tr>\n",
              "    <tr>\n",
              "      <th>7</th>\n",
              "      <td>8</td>\n",
              "      <td>60</td>\n",
              "      <td>RL</td>\n",
              "      <td>NaN</td>\n",
              "      <td>10382</td>\n",
              "      <td>Pave</td>\n",
              "      <td>NaN</td>\n",
              "      <td>IR1</td>\n",
              "      <td>Lvl</td>\n",
              "      <td>AllPub</td>\n",
              "      <td>Corner</td>\n",
              "      <td>Gtl</td>\n",
              "      <td>NWAmes</td>\n",
              "      <td>PosN</td>\n",
              "      <td>Norm</td>\n",
              "      <td>1Fam</td>\n",
              "      <td>2Story</td>\n",
              "      <td>7</td>\n",
              "      <td>6</td>\n",
              "      <td>1973</td>\n",
              "      <td>1973</td>\n",
              "      <td>Gable</td>\n",
              "      <td>CompShg</td>\n",
              "      <td>HdBoard</td>\n",
              "      <td>HdBoard</td>\n",
              "      <td>Stone</td>\n",
              "      <td>240.0</td>\n",
              "      <td>TA</td>\n",
              "      <td>TA</td>\n",
              "      <td>CBlock</td>\n",
              "      <td>Gd</td>\n",
              "      <td>TA</td>\n",
              "      <td>Mn</td>\n",
              "      <td>ALQ</td>\n",
              "      <td>859</td>\n",
              "      <td>BLQ</td>\n",
              "      <td>32</td>\n",
              "      <td>216</td>\n",
              "      <td>1107</td>\n",
              "      <td>GasA</td>\n",
              "      <td>...</td>\n",
              "      <td>Y</td>\n",
              "      <td>SBrkr</td>\n",
              "      <td>1107</td>\n",
              "      <td>983</td>\n",
              "      <td>0</td>\n",
              "      <td>2090</td>\n",
              "      <td>1</td>\n",
              "      <td>0</td>\n",
              "      <td>2</td>\n",
              "      <td>1</td>\n",
              "      <td>3</td>\n",
              "      <td>1</td>\n",
              "      <td>TA</td>\n",
              "      <td>7</td>\n",
              "      <td>Typ</td>\n",
              "      <td>2</td>\n",
              "      <td>TA</td>\n",
              "      <td>Attchd</td>\n",
              "      <td>1973.0</td>\n",
              "      <td>RFn</td>\n",
              "      <td>2</td>\n",
              "      <td>484</td>\n",
              "      <td>TA</td>\n",
              "      <td>TA</td>\n",
              "      <td>Y</td>\n",
              "      <td>235</td>\n",
              "      <td>204</td>\n",
              "      <td>228</td>\n",
              "      <td>0</td>\n",
              "      <td>0</td>\n",
              "      <td>0</td>\n",
              "      <td>NaN</td>\n",
              "      <td>NaN</td>\n",
              "      <td>Shed</td>\n",
              "      <td>350</td>\n",
              "      <td>11</td>\n",
              "      <td>2009</td>\n",
              "      <td>WD</td>\n",
              "      <td>Normal</td>\n",
              "      <td>200000</td>\n",
              "    </tr>\n",
              "    <tr>\n",
              "      <th>8</th>\n",
              "      <td>9</td>\n",
              "      <td>50</td>\n",
              "      <td>RM</td>\n",
              "      <td>51.0</td>\n",
              "      <td>6120</td>\n",
              "      <td>Pave</td>\n",
              "      <td>NaN</td>\n",
              "      <td>Reg</td>\n",
              "      <td>Lvl</td>\n",
              "      <td>AllPub</td>\n",
              "      <td>Inside</td>\n",
              "      <td>Gtl</td>\n",
              "      <td>OldTown</td>\n",
              "      <td>Artery</td>\n",
              "      <td>Norm</td>\n",
              "      <td>1Fam</td>\n",
              "      <td>1.5Fin</td>\n",
              "      <td>7</td>\n",
              "      <td>5</td>\n",
              "      <td>1931</td>\n",
              "      <td>1950</td>\n",
              "      <td>Gable</td>\n",
              "      <td>CompShg</td>\n",
              "      <td>BrkFace</td>\n",
              "      <td>Wd Shng</td>\n",
              "      <td>None</td>\n",
              "      <td>0.0</td>\n",
              "      <td>TA</td>\n",
              "      <td>TA</td>\n",
              "      <td>BrkTil</td>\n",
              "      <td>TA</td>\n",
              "      <td>TA</td>\n",
              "      <td>No</td>\n",
              "      <td>Unf</td>\n",
              "      <td>0</td>\n",
              "      <td>Unf</td>\n",
              "      <td>0</td>\n",
              "      <td>952</td>\n",
              "      <td>952</td>\n",
              "      <td>GasA</td>\n",
              "      <td>...</td>\n",
              "      <td>Y</td>\n",
              "      <td>FuseF</td>\n",
              "      <td>1022</td>\n",
              "      <td>752</td>\n",
              "      <td>0</td>\n",
              "      <td>1774</td>\n",
              "      <td>0</td>\n",
              "      <td>0</td>\n",
              "      <td>2</td>\n",
              "      <td>0</td>\n",
              "      <td>2</td>\n",
              "      <td>2</td>\n",
              "      <td>TA</td>\n",
              "      <td>8</td>\n",
              "      <td>Min1</td>\n",
              "      <td>2</td>\n",
              "      <td>TA</td>\n",
              "      <td>Detchd</td>\n",
              "      <td>1931.0</td>\n",
              "      <td>Unf</td>\n",
              "      <td>2</td>\n",
              "      <td>468</td>\n",
              "      <td>Fa</td>\n",
              "      <td>TA</td>\n",
              "      <td>Y</td>\n",
              "      <td>90</td>\n",
              "      <td>0</td>\n",
              "      <td>205</td>\n",
              "      <td>0</td>\n",
              "      <td>0</td>\n",
              "      <td>0</td>\n",
              "      <td>NaN</td>\n",
              "      <td>NaN</td>\n",
              "      <td>NaN</td>\n",
              "      <td>0</td>\n",
              "      <td>4</td>\n",
              "      <td>2008</td>\n",
              "      <td>WD</td>\n",
              "      <td>Abnorml</td>\n",
              "      <td>129900</td>\n",
              "    </tr>\n",
              "    <tr>\n",
              "      <th>9</th>\n",
              "      <td>10</td>\n",
              "      <td>190</td>\n",
              "      <td>RL</td>\n",
              "      <td>50.0</td>\n",
              "      <td>7420</td>\n",
              "      <td>Pave</td>\n",
              "      <td>NaN</td>\n",
              "      <td>Reg</td>\n",
              "      <td>Lvl</td>\n",
              "      <td>AllPub</td>\n",
              "      <td>Corner</td>\n",
              "      <td>Gtl</td>\n",
              "      <td>BrkSide</td>\n",
              "      <td>Artery</td>\n",
              "      <td>Artery</td>\n",
              "      <td>2fmCon</td>\n",
              "      <td>1.5Unf</td>\n",
              "      <td>5</td>\n",
              "      <td>6</td>\n",
              "      <td>1939</td>\n",
              "      <td>1950</td>\n",
              "      <td>Gable</td>\n",
              "      <td>CompShg</td>\n",
              "      <td>MetalSd</td>\n",
              "      <td>MetalSd</td>\n",
              "      <td>None</td>\n",
              "      <td>0.0</td>\n",
              "      <td>TA</td>\n",
              "      <td>TA</td>\n",
              "      <td>BrkTil</td>\n",
              "      <td>TA</td>\n",
              "      <td>TA</td>\n",
              "      <td>No</td>\n",
              "      <td>GLQ</td>\n",
              "      <td>851</td>\n",
              "      <td>Unf</td>\n",
              "      <td>0</td>\n",
              "      <td>140</td>\n",
              "      <td>991</td>\n",
              "      <td>GasA</td>\n",
              "      <td>...</td>\n",
              "      <td>Y</td>\n",
              "      <td>SBrkr</td>\n",
              "      <td>1077</td>\n",
              "      <td>0</td>\n",
              "      <td>0</td>\n",
              "      <td>1077</td>\n",
              "      <td>1</td>\n",
              "      <td>0</td>\n",
              "      <td>1</td>\n",
              "      <td>0</td>\n",
              "      <td>2</td>\n",
              "      <td>2</td>\n",
              "      <td>TA</td>\n",
              "      <td>5</td>\n",
              "      <td>Typ</td>\n",
              "      <td>2</td>\n",
              "      <td>TA</td>\n",
              "      <td>Attchd</td>\n",
              "      <td>1939.0</td>\n",
              "      <td>RFn</td>\n",
              "      <td>1</td>\n",
              "      <td>205</td>\n",
              "      <td>Gd</td>\n",
              "      <td>TA</td>\n",
              "      <td>Y</td>\n",
              "      <td>0</td>\n",
              "      <td>4</td>\n",
              "      <td>0</td>\n",
              "      <td>0</td>\n",
              "      <td>0</td>\n",
              "      <td>0</td>\n",
              "      <td>NaN</td>\n",
              "      <td>NaN</td>\n",
              "      <td>NaN</td>\n",
              "      <td>0</td>\n",
              "      <td>1</td>\n",
              "      <td>2008</td>\n",
              "      <td>WD</td>\n",
              "      <td>Normal</td>\n",
              "      <td>118000</td>\n",
              "    </tr>\n",
              "  </tbody>\n",
              "</table>\n",
              "<p>10 rows × 81 columns</p>\n",
              "</div>"
            ],
            "text/plain": [
              "   Id  MSSubClass MSZoning  ...  SaleType  SaleCondition SalePrice\n",
              "0   1          60       RL  ...        WD         Normal    208500\n",
              "1   2          20       RL  ...        WD         Normal    181500\n",
              "2   3          60       RL  ...        WD         Normal    223500\n",
              "3   4          70       RL  ...        WD        Abnorml    140000\n",
              "4   5          60       RL  ...        WD         Normal    250000\n",
              "5   6          50       RL  ...        WD         Normal    143000\n",
              "6   7          20       RL  ...        WD         Normal    307000\n",
              "7   8          60       RL  ...        WD         Normal    200000\n",
              "8   9          50       RM  ...        WD        Abnorml    129900\n",
              "9  10         190       RL  ...        WD         Normal    118000\n",
              "\n",
              "[10 rows x 81 columns]"
            ]
          },
          "metadata": {
            "tags": []
          },
          "execution_count": 5
        }
      ]
    },
    {
      "cell_type": "code",
      "metadata": {
        "id": "ILuf-5kZWCS1",
        "colab_type": "code",
        "colab": {
          "base_uri": "https://localhost:8080/",
          "height": 0
        },
        "outputId": "70ad325c-046e-4b33-9e72-bf62488f7ce1"
      },
      "source": [
        "print('Number of observations in test data:',test.shape[0])\n",
        "print('Number of colums in test data:', test.shape[1])"
      ],
      "execution_count": 6,
      "outputs": [
        {
          "output_type": "stream",
          "text": [
            "Number of observations in test data: 1459\n",
            "Number of colums in test data: 80\n"
          ],
          "name": "stdout"
        }
      ]
    },
    {
      "cell_type": "code",
      "metadata": {
        "id": "NfHpwyD-WHzy",
        "colab_type": "code",
        "colab": {
          "base_uri": "https://localhost:8080/",
          "height": 0
        },
        "outputId": "244328f2-9874-479b-b96d-47be4fc551c2"
      },
      "source": [
        "#show the first 10 lines of test data\n",
        "test.head(10)"
      ],
      "execution_count": 7,
      "outputs": [
        {
          "output_type": "execute_result",
          "data": {
            "text/html": [
              "<div>\n",
              "<style scoped>\n",
              "    .dataframe tbody tr th:only-of-type {\n",
              "        vertical-align: middle;\n",
              "    }\n",
              "\n",
              "    .dataframe tbody tr th {\n",
              "        vertical-align: top;\n",
              "    }\n",
              "\n",
              "    .dataframe thead th {\n",
              "        text-align: right;\n",
              "    }\n",
              "</style>\n",
              "<table border=\"1\" class=\"dataframe\">\n",
              "  <thead>\n",
              "    <tr style=\"text-align: right;\">\n",
              "      <th></th>\n",
              "      <th>Id</th>\n",
              "      <th>MSSubClass</th>\n",
              "      <th>MSZoning</th>\n",
              "      <th>LotFrontage</th>\n",
              "      <th>LotArea</th>\n",
              "      <th>Street</th>\n",
              "      <th>Alley</th>\n",
              "      <th>LotShape</th>\n",
              "      <th>LandContour</th>\n",
              "      <th>Utilities</th>\n",
              "      <th>LotConfig</th>\n",
              "      <th>LandSlope</th>\n",
              "      <th>Neighborhood</th>\n",
              "      <th>Condition1</th>\n",
              "      <th>Condition2</th>\n",
              "      <th>BldgType</th>\n",
              "      <th>HouseStyle</th>\n",
              "      <th>OverallQual</th>\n",
              "      <th>OverallCond</th>\n",
              "      <th>YearBuilt</th>\n",
              "      <th>YearRemodAdd</th>\n",
              "      <th>RoofStyle</th>\n",
              "      <th>RoofMatl</th>\n",
              "      <th>Exterior1st</th>\n",
              "      <th>Exterior2nd</th>\n",
              "      <th>MasVnrType</th>\n",
              "      <th>MasVnrArea</th>\n",
              "      <th>ExterQual</th>\n",
              "      <th>ExterCond</th>\n",
              "      <th>Foundation</th>\n",
              "      <th>BsmtQual</th>\n",
              "      <th>BsmtCond</th>\n",
              "      <th>BsmtExposure</th>\n",
              "      <th>BsmtFinType1</th>\n",
              "      <th>BsmtFinSF1</th>\n",
              "      <th>BsmtFinType2</th>\n",
              "      <th>BsmtFinSF2</th>\n",
              "      <th>BsmtUnfSF</th>\n",
              "      <th>TotalBsmtSF</th>\n",
              "      <th>Heating</th>\n",
              "      <th>HeatingQC</th>\n",
              "      <th>CentralAir</th>\n",
              "      <th>Electrical</th>\n",
              "      <th>1stFlrSF</th>\n",
              "      <th>2ndFlrSF</th>\n",
              "      <th>LowQualFinSF</th>\n",
              "      <th>GrLivArea</th>\n",
              "      <th>BsmtFullBath</th>\n",
              "      <th>BsmtHalfBath</th>\n",
              "      <th>FullBath</th>\n",
              "      <th>HalfBath</th>\n",
              "      <th>BedroomAbvGr</th>\n",
              "      <th>KitchenAbvGr</th>\n",
              "      <th>KitchenQual</th>\n",
              "      <th>TotRmsAbvGrd</th>\n",
              "      <th>Functional</th>\n",
              "      <th>Fireplaces</th>\n",
              "      <th>FireplaceQu</th>\n",
              "      <th>GarageType</th>\n",
              "      <th>GarageYrBlt</th>\n",
              "      <th>GarageFinish</th>\n",
              "      <th>GarageCars</th>\n",
              "      <th>GarageArea</th>\n",
              "      <th>GarageQual</th>\n",
              "      <th>GarageCond</th>\n",
              "      <th>PavedDrive</th>\n",
              "      <th>WoodDeckSF</th>\n",
              "      <th>OpenPorchSF</th>\n",
              "      <th>EnclosedPorch</th>\n",
              "      <th>3SsnPorch</th>\n",
              "      <th>ScreenPorch</th>\n",
              "      <th>PoolArea</th>\n",
              "      <th>PoolQC</th>\n",
              "      <th>Fence</th>\n",
              "      <th>MiscFeature</th>\n",
              "      <th>MiscVal</th>\n",
              "      <th>MoSold</th>\n",
              "      <th>YrSold</th>\n",
              "      <th>SaleType</th>\n",
              "      <th>SaleCondition</th>\n",
              "    </tr>\n",
              "  </thead>\n",
              "  <tbody>\n",
              "    <tr>\n",
              "      <th>0</th>\n",
              "      <td>1461</td>\n",
              "      <td>20</td>\n",
              "      <td>RH</td>\n",
              "      <td>80.0</td>\n",
              "      <td>11622</td>\n",
              "      <td>Pave</td>\n",
              "      <td>NaN</td>\n",
              "      <td>Reg</td>\n",
              "      <td>Lvl</td>\n",
              "      <td>AllPub</td>\n",
              "      <td>Inside</td>\n",
              "      <td>Gtl</td>\n",
              "      <td>NAmes</td>\n",
              "      <td>Feedr</td>\n",
              "      <td>Norm</td>\n",
              "      <td>1Fam</td>\n",
              "      <td>1Story</td>\n",
              "      <td>5</td>\n",
              "      <td>6</td>\n",
              "      <td>1961</td>\n",
              "      <td>1961</td>\n",
              "      <td>Gable</td>\n",
              "      <td>CompShg</td>\n",
              "      <td>VinylSd</td>\n",
              "      <td>VinylSd</td>\n",
              "      <td>None</td>\n",
              "      <td>0.0</td>\n",
              "      <td>TA</td>\n",
              "      <td>TA</td>\n",
              "      <td>CBlock</td>\n",
              "      <td>TA</td>\n",
              "      <td>TA</td>\n",
              "      <td>No</td>\n",
              "      <td>Rec</td>\n",
              "      <td>468.0</td>\n",
              "      <td>LwQ</td>\n",
              "      <td>144.0</td>\n",
              "      <td>270.0</td>\n",
              "      <td>882.0</td>\n",
              "      <td>GasA</td>\n",
              "      <td>TA</td>\n",
              "      <td>Y</td>\n",
              "      <td>SBrkr</td>\n",
              "      <td>896</td>\n",
              "      <td>0</td>\n",
              "      <td>0</td>\n",
              "      <td>896</td>\n",
              "      <td>0.0</td>\n",
              "      <td>0.0</td>\n",
              "      <td>1</td>\n",
              "      <td>0</td>\n",
              "      <td>2</td>\n",
              "      <td>1</td>\n",
              "      <td>TA</td>\n",
              "      <td>5</td>\n",
              "      <td>Typ</td>\n",
              "      <td>0</td>\n",
              "      <td>NaN</td>\n",
              "      <td>Attchd</td>\n",
              "      <td>1961.0</td>\n",
              "      <td>Unf</td>\n",
              "      <td>1.0</td>\n",
              "      <td>730.0</td>\n",
              "      <td>TA</td>\n",
              "      <td>TA</td>\n",
              "      <td>Y</td>\n",
              "      <td>140</td>\n",
              "      <td>0</td>\n",
              "      <td>0</td>\n",
              "      <td>0</td>\n",
              "      <td>120</td>\n",
              "      <td>0</td>\n",
              "      <td>NaN</td>\n",
              "      <td>MnPrv</td>\n",
              "      <td>NaN</td>\n",
              "      <td>0</td>\n",
              "      <td>6</td>\n",
              "      <td>2010</td>\n",
              "      <td>WD</td>\n",
              "      <td>Normal</td>\n",
              "    </tr>\n",
              "    <tr>\n",
              "      <th>1</th>\n",
              "      <td>1462</td>\n",
              "      <td>20</td>\n",
              "      <td>RL</td>\n",
              "      <td>81.0</td>\n",
              "      <td>14267</td>\n",
              "      <td>Pave</td>\n",
              "      <td>NaN</td>\n",
              "      <td>IR1</td>\n",
              "      <td>Lvl</td>\n",
              "      <td>AllPub</td>\n",
              "      <td>Corner</td>\n",
              "      <td>Gtl</td>\n",
              "      <td>NAmes</td>\n",
              "      <td>Norm</td>\n",
              "      <td>Norm</td>\n",
              "      <td>1Fam</td>\n",
              "      <td>1Story</td>\n",
              "      <td>6</td>\n",
              "      <td>6</td>\n",
              "      <td>1958</td>\n",
              "      <td>1958</td>\n",
              "      <td>Hip</td>\n",
              "      <td>CompShg</td>\n",
              "      <td>Wd Sdng</td>\n",
              "      <td>Wd Sdng</td>\n",
              "      <td>BrkFace</td>\n",
              "      <td>108.0</td>\n",
              "      <td>TA</td>\n",
              "      <td>TA</td>\n",
              "      <td>CBlock</td>\n",
              "      <td>TA</td>\n",
              "      <td>TA</td>\n",
              "      <td>No</td>\n",
              "      <td>ALQ</td>\n",
              "      <td>923.0</td>\n",
              "      <td>Unf</td>\n",
              "      <td>0.0</td>\n",
              "      <td>406.0</td>\n",
              "      <td>1329.0</td>\n",
              "      <td>GasA</td>\n",
              "      <td>TA</td>\n",
              "      <td>Y</td>\n",
              "      <td>SBrkr</td>\n",
              "      <td>1329</td>\n",
              "      <td>0</td>\n",
              "      <td>0</td>\n",
              "      <td>1329</td>\n",
              "      <td>0.0</td>\n",
              "      <td>0.0</td>\n",
              "      <td>1</td>\n",
              "      <td>1</td>\n",
              "      <td>3</td>\n",
              "      <td>1</td>\n",
              "      <td>Gd</td>\n",
              "      <td>6</td>\n",
              "      <td>Typ</td>\n",
              "      <td>0</td>\n",
              "      <td>NaN</td>\n",
              "      <td>Attchd</td>\n",
              "      <td>1958.0</td>\n",
              "      <td>Unf</td>\n",
              "      <td>1.0</td>\n",
              "      <td>312.0</td>\n",
              "      <td>TA</td>\n",
              "      <td>TA</td>\n",
              "      <td>Y</td>\n",
              "      <td>393</td>\n",
              "      <td>36</td>\n",
              "      <td>0</td>\n",
              "      <td>0</td>\n",
              "      <td>0</td>\n",
              "      <td>0</td>\n",
              "      <td>NaN</td>\n",
              "      <td>NaN</td>\n",
              "      <td>Gar2</td>\n",
              "      <td>12500</td>\n",
              "      <td>6</td>\n",
              "      <td>2010</td>\n",
              "      <td>WD</td>\n",
              "      <td>Normal</td>\n",
              "    </tr>\n",
              "    <tr>\n",
              "      <th>2</th>\n",
              "      <td>1463</td>\n",
              "      <td>60</td>\n",
              "      <td>RL</td>\n",
              "      <td>74.0</td>\n",
              "      <td>13830</td>\n",
              "      <td>Pave</td>\n",
              "      <td>NaN</td>\n",
              "      <td>IR1</td>\n",
              "      <td>Lvl</td>\n",
              "      <td>AllPub</td>\n",
              "      <td>Inside</td>\n",
              "      <td>Gtl</td>\n",
              "      <td>Gilbert</td>\n",
              "      <td>Norm</td>\n",
              "      <td>Norm</td>\n",
              "      <td>1Fam</td>\n",
              "      <td>2Story</td>\n",
              "      <td>5</td>\n",
              "      <td>5</td>\n",
              "      <td>1997</td>\n",
              "      <td>1998</td>\n",
              "      <td>Gable</td>\n",
              "      <td>CompShg</td>\n",
              "      <td>VinylSd</td>\n",
              "      <td>VinylSd</td>\n",
              "      <td>None</td>\n",
              "      <td>0.0</td>\n",
              "      <td>TA</td>\n",
              "      <td>TA</td>\n",
              "      <td>PConc</td>\n",
              "      <td>Gd</td>\n",
              "      <td>TA</td>\n",
              "      <td>No</td>\n",
              "      <td>GLQ</td>\n",
              "      <td>791.0</td>\n",
              "      <td>Unf</td>\n",
              "      <td>0.0</td>\n",
              "      <td>137.0</td>\n",
              "      <td>928.0</td>\n",
              "      <td>GasA</td>\n",
              "      <td>Gd</td>\n",
              "      <td>Y</td>\n",
              "      <td>SBrkr</td>\n",
              "      <td>928</td>\n",
              "      <td>701</td>\n",
              "      <td>0</td>\n",
              "      <td>1629</td>\n",
              "      <td>0.0</td>\n",
              "      <td>0.0</td>\n",
              "      <td>2</td>\n",
              "      <td>1</td>\n",
              "      <td>3</td>\n",
              "      <td>1</td>\n",
              "      <td>TA</td>\n",
              "      <td>6</td>\n",
              "      <td>Typ</td>\n",
              "      <td>1</td>\n",
              "      <td>TA</td>\n",
              "      <td>Attchd</td>\n",
              "      <td>1997.0</td>\n",
              "      <td>Fin</td>\n",
              "      <td>2.0</td>\n",
              "      <td>482.0</td>\n",
              "      <td>TA</td>\n",
              "      <td>TA</td>\n",
              "      <td>Y</td>\n",
              "      <td>212</td>\n",
              "      <td>34</td>\n",
              "      <td>0</td>\n",
              "      <td>0</td>\n",
              "      <td>0</td>\n",
              "      <td>0</td>\n",
              "      <td>NaN</td>\n",
              "      <td>MnPrv</td>\n",
              "      <td>NaN</td>\n",
              "      <td>0</td>\n",
              "      <td>3</td>\n",
              "      <td>2010</td>\n",
              "      <td>WD</td>\n",
              "      <td>Normal</td>\n",
              "    </tr>\n",
              "    <tr>\n",
              "      <th>3</th>\n",
              "      <td>1464</td>\n",
              "      <td>60</td>\n",
              "      <td>RL</td>\n",
              "      <td>78.0</td>\n",
              "      <td>9978</td>\n",
              "      <td>Pave</td>\n",
              "      <td>NaN</td>\n",
              "      <td>IR1</td>\n",
              "      <td>Lvl</td>\n",
              "      <td>AllPub</td>\n",
              "      <td>Inside</td>\n",
              "      <td>Gtl</td>\n",
              "      <td>Gilbert</td>\n",
              "      <td>Norm</td>\n",
              "      <td>Norm</td>\n",
              "      <td>1Fam</td>\n",
              "      <td>2Story</td>\n",
              "      <td>6</td>\n",
              "      <td>6</td>\n",
              "      <td>1998</td>\n",
              "      <td>1998</td>\n",
              "      <td>Gable</td>\n",
              "      <td>CompShg</td>\n",
              "      <td>VinylSd</td>\n",
              "      <td>VinylSd</td>\n",
              "      <td>BrkFace</td>\n",
              "      <td>20.0</td>\n",
              "      <td>TA</td>\n",
              "      <td>TA</td>\n",
              "      <td>PConc</td>\n",
              "      <td>TA</td>\n",
              "      <td>TA</td>\n",
              "      <td>No</td>\n",
              "      <td>GLQ</td>\n",
              "      <td>602.0</td>\n",
              "      <td>Unf</td>\n",
              "      <td>0.0</td>\n",
              "      <td>324.0</td>\n",
              "      <td>926.0</td>\n",
              "      <td>GasA</td>\n",
              "      <td>Ex</td>\n",
              "      <td>Y</td>\n",
              "      <td>SBrkr</td>\n",
              "      <td>926</td>\n",
              "      <td>678</td>\n",
              "      <td>0</td>\n",
              "      <td>1604</td>\n",
              "      <td>0.0</td>\n",
              "      <td>0.0</td>\n",
              "      <td>2</td>\n",
              "      <td>1</td>\n",
              "      <td>3</td>\n",
              "      <td>1</td>\n",
              "      <td>Gd</td>\n",
              "      <td>7</td>\n",
              "      <td>Typ</td>\n",
              "      <td>1</td>\n",
              "      <td>Gd</td>\n",
              "      <td>Attchd</td>\n",
              "      <td>1998.0</td>\n",
              "      <td>Fin</td>\n",
              "      <td>2.0</td>\n",
              "      <td>470.0</td>\n",
              "      <td>TA</td>\n",
              "      <td>TA</td>\n",
              "      <td>Y</td>\n",
              "      <td>360</td>\n",
              "      <td>36</td>\n",
              "      <td>0</td>\n",
              "      <td>0</td>\n",
              "      <td>0</td>\n",
              "      <td>0</td>\n",
              "      <td>NaN</td>\n",
              "      <td>NaN</td>\n",
              "      <td>NaN</td>\n",
              "      <td>0</td>\n",
              "      <td>6</td>\n",
              "      <td>2010</td>\n",
              "      <td>WD</td>\n",
              "      <td>Normal</td>\n",
              "    </tr>\n",
              "    <tr>\n",
              "      <th>4</th>\n",
              "      <td>1465</td>\n",
              "      <td>120</td>\n",
              "      <td>RL</td>\n",
              "      <td>43.0</td>\n",
              "      <td>5005</td>\n",
              "      <td>Pave</td>\n",
              "      <td>NaN</td>\n",
              "      <td>IR1</td>\n",
              "      <td>HLS</td>\n",
              "      <td>AllPub</td>\n",
              "      <td>Inside</td>\n",
              "      <td>Gtl</td>\n",
              "      <td>StoneBr</td>\n",
              "      <td>Norm</td>\n",
              "      <td>Norm</td>\n",
              "      <td>TwnhsE</td>\n",
              "      <td>1Story</td>\n",
              "      <td>8</td>\n",
              "      <td>5</td>\n",
              "      <td>1992</td>\n",
              "      <td>1992</td>\n",
              "      <td>Gable</td>\n",
              "      <td>CompShg</td>\n",
              "      <td>HdBoard</td>\n",
              "      <td>HdBoard</td>\n",
              "      <td>None</td>\n",
              "      <td>0.0</td>\n",
              "      <td>Gd</td>\n",
              "      <td>TA</td>\n",
              "      <td>PConc</td>\n",
              "      <td>Gd</td>\n",
              "      <td>TA</td>\n",
              "      <td>No</td>\n",
              "      <td>ALQ</td>\n",
              "      <td>263.0</td>\n",
              "      <td>Unf</td>\n",
              "      <td>0.0</td>\n",
              "      <td>1017.0</td>\n",
              "      <td>1280.0</td>\n",
              "      <td>GasA</td>\n",
              "      <td>Ex</td>\n",
              "      <td>Y</td>\n",
              "      <td>SBrkr</td>\n",
              "      <td>1280</td>\n",
              "      <td>0</td>\n",
              "      <td>0</td>\n",
              "      <td>1280</td>\n",
              "      <td>0.0</td>\n",
              "      <td>0.0</td>\n",
              "      <td>2</td>\n",
              "      <td>0</td>\n",
              "      <td>2</td>\n",
              "      <td>1</td>\n",
              "      <td>Gd</td>\n",
              "      <td>5</td>\n",
              "      <td>Typ</td>\n",
              "      <td>0</td>\n",
              "      <td>NaN</td>\n",
              "      <td>Attchd</td>\n",
              "      <td>1992.0</td>\n",
              "      <td>RFn</td>\n",
              "      <td>2.0</td>\n",
              "      <td>506.0</td>\n",
              "      <td>TA</td>\n",
              "      <td>TA</td>\n",
              "      <td>Y</td>\n",
              "      <td>0</td>\n",
              "      <td>82</td>\n",
              "      <td>0</td>\n",
              "      <td>0</td>\n",
              "      <td>144</td>\n",
              "      <td>0</td>\n",
              "      <td>NaN</td>\n",
              "      <td>NaN</td>\n",
              "      <td>NaN</td>\n",
              "      <td>0</td>\n",
              "      <td>1</td>\n",
              "      <td>2010</td>\n",
              "      <td>WD</td>\n",
              "      <td>Normal</td>\n",
              "    </tr>\n",
              "    <tr>\n",
              "      <th>5</th>\n",
              "      <td>1466</td>\n",
              "      <td>60</td>\n",
              "      <td>RL</td>\n",
              "      <td>75.0</td>\n",
              "      <td>10000</td>\n",
              "      <td>Pave</td>\n",
              "      <td>NaN</td>\n",
              "      <td>IR1</td>\n",
              "      <td>Lvl</td>\n",
              "      <td>AllPub</td>\n",
              "      <td>Corner</td>\n",
              "      <td>Gtl</td>\n",
              "      <td>Gilbert</td>\n",
              "      <td>Norm</td>\n",
              "      <td>Norm</td>\n",
              "      <td>1Fam</td>\n",
              "      <td>2Story</td>\n",
              "      <td>6</td>\n",
              "      <td>5</td>\n",
              "      <td>1993</td>\n",
              "      <td>1994</td>\n",
              "      <td>Gable</td>\n",
              "      <td>CompShg</td>\n",
              "      <td>HdBoard</td>\n",
              "      <td>HdBoard</td>\n",
              "      <td>None</td>\n",
              "      <td>0.0</td>\n",
              "      <td>TA</td>\n",
              "      <td>TA</td>\n",
              "      <td>PConc</td>\n",
              "      <td>Gd</td>\n",
              "      <td>TA</td>\n",
              "      <td>No</td>\n",
              "      <td>Unf</td>\n",
              "      <td>0.0</td>\n",
              "      <td>Unf</td>\n",
              "      <td>0.0</td>\n",
              "      <td>763.0</td>\n",
              "      <td>763.0</td>\n",
              "      <td>GasA</td>\n",
              "      <td>Gd</td>\n",
              "      <td>Y</td>\n",
              "      <td>SBrkr</td>\n",
              "      <td>763</td>\n",
              "      <td>892</td>\n",
              "      <td>0</td>\n",
              "      <td>1655</td>\n",
              "      <td>0.0</td>\n",
              "      <td>0.0</td>\n",
              "      <td>2</td>\n",
              "      <td>1</td>\n",
              "      <td>3</td>\n",
              "      <td>1</td>\n",
              "      <td>TA</td>\n",
              "      <td>7</td>\n",
              "      <td>Typ</td>\n",
              "      <td>1</td>\n",
              "      <td>TA</td>\n",
              "      <td>Attchd</td>\n",
              "      <td>1993.0</td>\n",
              "      <td>Fin</td>\n",
              "      <td>2.0</td>\n",
              "      <td>440.0</td>\n",
              "      <td>TA</td>\n",
              "      <td>TA</td>\n",
              "      <td>Y</td>\n",
              "      <td>157</td>\n",
              "      <td>84</td>\n",
              "      <td>0</td>\n",
              "      <td>0</td>\n",
              "      <td>0</td>\n",
              "      <td>0</td>\n",
              "      <td>NaN</td>\n",
              "      <td>NaN</td>\n",
              "      <td>NaN</td>\n",
              "      <td>0</td>\n",
              "      <td>4</td>\n",
              "      <td>2010</td>\n",
              "      <td>WD</td>\n",
              "      <td>Normal</td>\n",
              "    </tr>\n",
              "    <tr>\n",
              "      <th>6</th>\n",
              "      <td>1467</td>\n",
              "      <td>20</td>\n",
              "      <td>RL</td>\n",
              "      <td>NaN</td>\n",
              "      <td>7980</td>\n",
              "      <td>Pave</td>\n",
              "      <td>NaN</td>\n",
              "      <td>IR1</td>\n",
              "      <td>Lvl</td>\n",
              "      <td>AllPub</td>\n",
              "      <td>Inside</td>\n",
              "      <td>Gtl</td>\n",
              "      <td>Gilbert</td>\n",
              "      <td>Norm</td>\n",
              "      <td>Norm</td>\n",
              "      <td>1Fam</td>\n",
              "      <td>1Story</td>\n",
              "      <td>6</td>\n",
              "      <td>7</td>\n",
              "      <td>1992</td>\n",
              "      <td>2007</td>\n",
              "      <td>Gable</td>\n",
              "      <td>CompShg</td>\n",
              "      <td>HdBoard</td>\n",
              "      <td>HdBoard</td>\n",
              "      <td>None</td>\n",
              "      <td>0.0</td>\n",
              "      <td>TA</td>\n",
              "      <td>Gd</td>\n",
              "      <td>PConc</td>\n",
              "      <td>Gd</td>\n",
              "      <td>TA</td>\n",
              "      <td>No</td>\n",
              "      <td>ALQ</td>\n",
              "      <td>935.0</td>\n",
              "      <td>Unf</td>\n",
              "      <td>0.0</td>\n",
              "      <td>233.0</td>\n",
              "      <td>1168.0</td>\n",
              "      <td>GasA</td>\n",
              "      <td>Ex</td>\n",
              "      <td>Y</td>\n",
              "      <td>SBrkr</td>\n",
              "      <td>1187</td>\n",
              "      <td>0</td>\n",
              "      <td>0</td>\n",
              "      <td>1187</td>\n",
              "      <td>1.0</td>\n",
              "      <td>0.0</td>\n",
              "      <td>2</td>\n",
              "      <td>0</td>\n",
              "      <td>3</td>\n",
              "      <td>1</td>\n",
              "      <td>TA</td>\n",
              "      <td>6</td>\n",
              "      <td>Typ</td>\n",
              "      <td>0</td>\n",
              "      <td>NaN</td>\n",
              "      <td>Attchd</td>\n",
              "      <td>1992.0</td>\n",
              "      <td>Fin</td>\n",
              "      <td>2.0</td>\n",
              "      <td>420.0</td>\n",
              "      <td>TA</td>\n",
              "      <td>TA</td>\n",
              "      <td>Y</td>\n",
              "      <td>483</td>\n",
              "      <td>21</td>\n",
              "      <td>0</td>\n",
              "      <td>0</td>\n",
              "      <td>0</td>\n",
              "      <td>0</td>\n",
              "      <td>NaN</td>\n",
              "      <td>GdPrv</td>\n",
              "      <td>Shed</td>\n",
              "      <td>500</td>\n",
              "      <td>3</td>\n",
              "      <td>2010</td>\n",
              "      <td>WD</td>\n",
              "      <td>Normal</td>\n",
              "    </tr>\n",
              "    <tr>\n",
              "      <th>7</th>\n",
              "      <td>1468</td>\n",
              "      <td>60</td>\n",
              "      <td>RL</td>\n",
              "      <td>63.0</td>\n",
              "      <td>8402</td>\n",
              "      <td>Pave</td>\n",
              "      <td>NaN</td>\n",
              "      <td>IR1</td>\n",
              "      <td>Lvl</td>\n",
              "      <td>AllPub</td>\n",
              "      <td>Inside</td>\n",
              "      <td>Gtl</td>\n",
              "      <td>Gilbert</td>\n",
              "      <td>Norm</td>\n",
              "      <td>Norm</td>\n",
              "      <td>1Fam</td>\n",
              "      <td>2Story</td>\n",
              "      <td>6</td>\n",
              "      <td>5</td>\n",
              "      <td>1998</td>\n",
              "      <td>1998</td>\n",
              "      <td>Gable</td>\n",
              "      <td>CompShg</td>\n",
              "      <td>VinylSd</td>\n",
              "      <td>VinylSd</td>\n",
              "      <td>None</td>\n",
              "      <td>0.0</td>\n",
              "      <td>TA</td>\n",
              "      <td>TA</td>\n",
              "      <td>PConc</td>\n",
              "      <td>Gd</td>\n",
              "      <td>TA</td>\n",
              "      <td>No</td>\n",
              "      <td>Unf</td>\n",
              "      <td>0.0</td>\n",
              "      <td>Unf</td>\n",
              "      <td>0.0</td>\n",
              "      <td>789.0</td>\n",
              "      <td>789.0</td>\n",
              "      <td>GasA</td>\n",
              "      <td>Gd</td>\n",
              "      <td>Y</td>\n",
              "      <td>SBrkr</td>\n",
              "      <td>789</td>\n",
              "      <td>676</td>\n",
              "      <td>0</td>\n",
              "      <td>1465</td>\n",
              "      <td>0.0</td>\n",
              "      <td>0.0</td>\n",
              "      <td>2</td>\n",
              "      <td>1</td>\n",
              "      <td>3</td>\n",
              "      <td>1</td>\n",
              "      <td>TA</td>\n",
              "      <td>7</td>\n",
              "      <td>Typ</td>\n",
              "      <td>1</td>\n",
              "      <td>Gd</td>\n",
              "      <td>Attchd</td>\n",
              "      <td>1998.0</td>\n",
              "      <td>Fin</td>\n",
              "      <td>2.0</td>\n",
              "      <td>393.0</td>\n",
              "      <td>TA</td>\n",
              "      <td>TA</td>\n",
              "      <td>Y</td>\n",
              "      <td>0</td>\n",
              "      <td>75</td>\n",
              "      <td>0</td>\n",
              "      <td>0</td>\n",
              "      <td>0</td>\n",
              "      <td>0</td>\n",
              "      <td>NaN</td>\n",
              "      <td>NaN</td>\n",
              "      <td>NaN</td>\n",
              "      <td>0</td>\n",
              "      <td>5</td>\n",
              "      <td>2010</td>\n",
              "      <td>WD</td>\n",
              "      <td>Normal</td>\n",
              "    </tr>\n",
              "    <tr>\n",
              "      <th>8</th>\n",
              "      <td>1469</td>\n",
              "      <td>20</td>\n",
              "      <td>RL</td>\n",
              "      <td>85.0</td>\n",
              "      <td>10176</td>\n",
              "      <td>Pave</td>\n",
              "      <td>NaN</td>\n",
              "      <td>Reg</td>\n",
              "      <td>Lvl</td>\n",
              "      <td>AllPub</td>\n",
              "      <td>Inside</td>\n",
              "      <td>Gtl</td>\n",
              "      <td>Gilbert</td>\n",
              "      <td>Norm</td>\n",
              "      <td>Norm</td>\n",
              "      <td>1Fam</td>\n",
              "      <td>1Story</td>\n",
              "      <td>7</td>\n",
              "      <td>5</td>\n",
              "      <td>1990</td>\n",
              "      <td>1990</td>\n",
              "      <td>Gable</td>\n",
              "      <td>CompShg</td>\n",
              "      <td>HdBoard</td>\n",
              "      <td>HdBoard</td>\n",
              "      <td>None</td>\n",
              "      <td>0.0</td>\n",
              "      <td>TA</td>\n",
              "      <td>TA</td>\n",
              "      <td>PConc</td>\n",
              "      <td>Gd</td>\n",
              "      <td>TA</td>\n",
              "      <td>Gd</td>\n",
              "      <td>GLQ</td>\n",
              "      <td>637.0</td>\n",
              "      <td>Unf</td>\n",
              "      <td>0.0</td>\n",
              "      <td>663.0</td>\n",
              "      <td>1300.0</td>\n",
              "      <td>GasA</td>\n",
              "      <td>Gd</td>\n",
              "      <td>Y</td>\n",
              "      <td>SBrkr</td>\n",
              "      <td>1341</td>\n",
              "      <td>0</td>\n",
              "      <td>0</td>\n",
              "      <td>1341</td>\n",
              "      <td>1.0</td>\n",
              "      <td>0.0</td>\n",
              "      <td>1</td>\n",
              "      <td>1</td>\n",
              "      <td>2</td>\n",
              "      <td>1</td>\n",
              "      <td>Gd</td>\n",
              "      <td>5</td>\n",
              "      <td>Typ</td>\n",
              "      <td>1</td>\n",
              "      <td>Po</td>\n",
              "      <td>Attchd</td>\n",
              "      <td>1990.0</td>\n",
              "      <td>Unf</td>\n",
              "      <td>2.0</td>\n",
              "      <td>506.0</td>\n",
              "      <td>TA</td>\n",
              "      <td>TA</td>\n",
              "      <td>Y</td>\n",
              "      <td>192</td>\n",
              "      <td>0</td>\n",
              "      <td>0</td>\n",
              "      <td>0</td>\n",
              "      <td>0</td>\n",
              "      <td>0</td>\n",
              "      <td>NaN</td>\n",
              "      <td>NaN</td>\n",
              "      <td>NaN</td>\n",
              "      <td>0</td>\n",
              "      <td>2</td>\n",
              "      <td>2010</td>\n",
              "      <td>WD</td>\n",
              "      <td>Normal</td>\n",
              "    </tr>\n",
              "    <tr>\n",
              "      <th>9</th>\n",
              "      <td>1470</td>\n",
              "      <td>20</td>\n",
              "      <td>RL</td>\n",
              "      <td>70.0</td>\n",
              "      <td>8400</td>\n",
              "      <td>Pave</td>\n",
              "      <td>NaN</td>\n",
              "      <td>Reg</td>\n",
              "      <td>Lvl</td>\n",
              "      <td>AllPub</td>\n",
              "      <td>Corner</td>\n",
              "      <td>Gtl</td>\n",
              "      <td>NAmes</td>\n",
              "      <td>Norm</td>\n",
              "      <td>Norm</td>\n",
              "      <td>1Fam</td>\n",
              "      <td>1Story</td>\n",
              "      <td>4</td>\n",
              "      <td>5</td>\n",
              "      <td>1970</td>\n",
              "      <td>1970</td>\n",
              "      <td>Gable</td>\n",
              "      <td>CompShg</td>\n",
              "      <td>Plywood</td>\n",
              "      <td>Plywood</td>\n",
              "      <td>None</td>\n",
              "      <td>0.0</td>\n",
              "      <td>TA</td>\n",
              "      <td>TA</td>\n",
              "      <td>CBlock</td>\n",
              "      <td>TA</td>\n",
              "      <td>TA</td>\n",
              "      <td>No</td>\n",
              "      <td>ALQ</td>\n",
              "      <td>804.0</td>\n",
              "      <td>Rec</td>\n",
              "      <td>78.0</td>\n",
              "      <td>0.0</td>\n",
              "      <td>882.0</td>\n",
              "      <td>GasA</td>\n",
              "      <td>TA</td>\n",
              "      <td>Y</td>\n",
              "      <td>SBrkr</td>\n",
              "      <td>882</td>\n",
              "      <td>0</td>\n",
              "      <td>0</td>\n",
              "      <td>882</td>\n",
              "      <td>1.0</td>\n",
              "      <td>0.0</td>\n",
              "      <td>1</td>\n",
              "      <td>0</td>\n",
              "      <td>2</td>\n",
              "      <td>1</td>\n",
              "      <td>TA</td>\n",
              "      <td>4</td>\n",
              "      <td>Typ</td>\n",
              "      <td>0</td>\n",
              "      <td>NaN</td>\n",
              "      <td>Attchd</td>\n",
              "      <td>1970.0</td>\n",
              "      <td>Fin</td>\n",
              "      <td>2.0</td>\n",
              "      <td>525.0</td>\n",
              "      <td>TA</td>\n",
              "      <td>TA</td>\n",
              "      <td>Y</td>\n",
              "      <td>240</td>\n",
              "      <td>0</td>\n",
              "      <td>0</td>\n",
              "      <td>0</td>\n",
              "      <td>0</td>\n",
              "      <td>0</td>\n",
              "      <td>NaN</td>\n",
              "      <td>MnPrv</td>\n",
              "      <td>NaN</td>\n",
              "      <td>0</td>\n",
              "      <td>4</td>\n",
              "      <td>2010</td>\n",
              "      <td>WD</td>\n",
              "      <td>Normal</td>\n",
              "    </tr>\n",
              "  </tbody>\n",
              "</table>\n",
              "</div>"
            ],
            "text/plain": [
              "     Id  MSSubClass MSZoning  ...  YrSold  SaleType SaleCondition\n",
              "0  1461          20       RH  ...    2010        WD        Normal\n",
              "1  1462          20       RL  ...    2010        WD        Normal\n",
              "2  1463          60       RL  ...    2010        WD        Normal\n",
              "3  1464          60       RL  ...    2010        WD        Normal\n",
              "4  1465         120       RL  ...    2010        WD        Normal\n",
              "5  1466          60       RL  ...    2010        WD        Normal\n",
              "6  1467          20       RL  ...    2010        WD        Normal\n",
              "7  1468          60       RL  ...    2010        WD        Normal\n",
              "8  1469          20       RL  ...    2010        WD        Normal\n",
              "9  1470          20       RL  ...    2010        WD        Normal\n",
              "\n",
              "[10 rows x 80 columns]"
            ]
          },
          "metadata": {
            "tags": []
          },
          "execution_count": 7
        }
      ]
    },
    {
      "cell_type": "markdown",
      "metadata": {
        "id": "1p4aimaAWYoq",
        "colab_type": "text"
      },
      "source": [
        "If we compare both datasets, we see that the test data has one feature/column less than the train data. \n",
        "\n",
        "But if we think about our target variable 'SalePrice', which we wanna predict, it makes sense that it is missing in the test dataset.\n",
        "\n",
        "Now let's see with which datatypes we are dealing with:"
      ]
    },
    {
      "cell_type": "code",
      "metadata": {
        "id": "Ho-RPyDgW7aV",
        "colab_type": "code",
        "colab": {
          "base_uri": "https://localhost:8080/",
          "height": 0
        },
        "outputId": "82f0a541-b210-4fe1-fbfd-46633dfadf03"
      },
      "source": [
        "#check the occuring datatypes and their amount\n",
        "train.dtypes.value_counts()"
      ],
      "execution_count": 8,
      "outputs": [
        {
          "output_type": "execute_result",
          "data": {
            "text/plain": [
              "object     43\n",
              "int64      35\n",
              "float64     3\n",
              "dtype: int64"
            ]
          },
          "metadata": {
            "tags": []
          },
          "execution_count": 8
        }
      ]
    },
    {
      "cell_type": "markdown",
      "metadata": {
        "id": "oh8-2EukXwQm",
        "colab_type": "text"
      },
      "source": [
        "The result shows that we are dealing with numerical (int64 & float64) and categorical (object) data. Later on, we gonna check if they all are declared correct. For example, features containing a year/month are often declared as a numerical feature, but they should be handled as categorical. "
      ]
    },
    {
      "cell_type": "markdown",
      "metadata": {
        "id": "iNS-ojudUwei",
        "colab_type": "text"
      },
      "source": [
        "# 4. Have a look at the target variable 'SalePrice'"
      ]
    },
    {
      "cell_type": "markdown",
      "metadata": {
        "id": "YnH6BXr2gUvi",
        "colab_type": "text"
      },
      "source": [
        "SalePrice is the target variable which we wanna predict. Therefore, we gonna have a closer look at it."
      ]
    },
    {
      "cell_type": "code",
      "metadata": {
        "id": "WSgYFivfa3Pg",
        "colab_type": "code",
        "colab": {
          "base_uri": "https://localhost:8080/",
          "height": 177
        },
        "outputId": "cc31e647-008f-4ca9-d23f-38e3b6e4dfd6"
      },
      "source": [
        "#get an overview over the feature SalePrice\n",
        "train.SalePrice.describe()"
      ],
      "execution_count": 9,
      "outputs": [
        {
          "output_type": "execute_result",
          "data": {
            "text/plain": [
              "count      1460.000000\n",
              "mean     180921.195890\n",
              "std       79442.502883\n",
              "min       34900.000000\n",
              "25%      129975.000000\n",
              "50%      163000.000000\n",
              "75%      214000.000000\n",
              "max      755000.000000\n",
              "Name: SalePrice, dtype: float64"
            ]
          },
          "metadata": {
            "tags": []
          },
          "execution_count": 9
        }
      ]
    },
    {
      "cell_type": "markdown",
      "metadata": {
        "id": "OAvAfqSoa6O7",
        "colab_type": "text"
      },
      "source": [
        "The description of the SalePrice provides some interesting first insights:\n",
        "\n",
        "*   The average price of a house is 180.921 dollars.\n",
        "*   The cheapest house costs 349.000 dollars.\n",
        "*   The most expensive house costs 755.000 dollars.\n",
        "\n",
        "To get an impression of the distribution of the SalePrice let's plot it into a histogramm.\n",
        "\n",
        "\n",
        "\n"
      ]
    },
    {
      "cell_type": "code",
      "metadata": {
        "id": "ZO2kVSThb5aP",
        "colab_type": "code",
        "colab": {
          "base_uri": "https://localhost:8080/",
          "height": 432
        },
        "outputId": "95fbe486-c0e4-4f24-97d3-ebf1e4534dcc"
      },
      "source": [
        "#group the sale price into categories to visualise distribution\n",
        "\n",
        "#sort the values from the top to the least value\n",
        "df = train.SalePrice.sort_values(ascending = False)\n",
        "df\n",
        "\n",
        "#create bins\n",
        "binsVal = np.arange(0, 800000, 50000)\n",
        "binsVal\n",
        "\n",
        "#set figure size and create histogram\n",
        "plt.figure(figsize=[10,6])\n",
        "plt.hist(df, bins = binsVal, color='green')\n",
        "\n",
        "#set the title, xticks and labels\n",
        "plt.xlabel('SalePrice')\n",
        "plt.xticks(rotation='90')\n",
        "plt.xticks([0, 50000, 100000, 150000, 200000, 250000, 300000, 350000, 400000, 450000, 500000, 550000, 600000, 650000, 700000, 750000, 800000])\n",
        "plt.ylabel('Number of Houses')\n",
        "plt.title('SalePrice Histrogram')\n",
        "\n",
        "#show plot\n",
        "plt.show()"
      ],
      "execution_count": 10,
      "outputs": [
        {
          "output_type": "display_data",
          "data": {
            "image/png": "[encoded data removed]",
            "text/plain": [
              "<Figure size 720x432 with 1 Axes>"
            ]
          },
          "metadata": {
            "tags": [],
            "needs_background": "light"
          }
        }
      ]
    },
    {
      "cell_type": "markdown",
      "metadata": {
        "id": "FyRzQfrKcEFO",
        "colab_type": "text"
      },
      "source": [
        "The first histogram created with matplotlib shows a first distribution of the SalePrice. \n",
        "\n",
        "You can see that almost 2/3(~900 of 1460) of the houses cost between 100.000 and 200.000 dollars and only a few houses cost more than 400.000 dollars.\n",
        "\n",
        "Furthermore, it would be nice to have a best fit line, to be able to make a better statement about the distribution.\n",
        "\n",
        "The best fit line could be created (in my opinion) in a very circumstantial way with matplotlib (tried it, but failed). But there is a better alternative: [seaborn.distplot](https://seaborn.pydata.org/generated/seaborn.distplot.html?highlight=distplot#seaborn.distplot)"
      ]
    },
    {
      "cell_type": "code",
      "metadata": {
        "id": "Rt2Rl-I9dRZO",
        "colab_type": "code",
        "colab": {
          "base_uri": "https://localhost:8080/",
          "height": 427
        },
        "outputId": "71cdd878-b5c7-44b3-859e-f8e76204ce80"
      },
      "source": [
        "#set the size of the figure\n",
        "plt.figure(figsize=[10,6])\n",
        "plt.xticks(rotation='90')\n",
        "#create plot\n",
        "sns.distplot(train.SalePrice, color='green')\n",
        "#show plot\n",
        "plt.show()"
      ],
      "execution_count": 11,
      "outputs": [
        {
          "output_type": "display_data",
          "data": {
            "image/png": "[encoded data removed]",
            "text/plain": [
              "<Figure size 720x432 with 1 Axes>"
            ]
          },
          "metadata": {
            "tags": [],
            "needs_background": "light"
          }
        }
      ]
    },
    {
      "cell_type": "markdown",
      "metadata": {
        "id": "31hTG6_MdmPZ",
        "colab_type": "text"
      },
      "source": [
        "As you can see the best fit line is already included in this kind of plot. \n",
        "\n",
        "The best fit line shows us that the SalePrice is not normally distributed, it is right-skewed! Right-skewed means that the tail is on the right side of the distribution and indicates a positive skewed data.([More info about skewness](https://medium.com/@TheDataGyan/day-8-data-transformation-skewness-normalization-and-much-more-4c144d370e55))\n",
        "\n",
        "But let's check the skewness value:"
      ]
    },
    {
      "cell_type": "code",
      "metadata": {
        "id": "8IGt1VZbfQkL",
        "colab_type": "code",
        "colab": {
          "base_uri": "https://localhost:8080/",
          "height": 35
        },
        "outputId": "162a61d6-bfc5-4c2e-8659-b3fba33f650f"
      },
      "source": [
        "train.SalePrice.skew()"
      ],
      "execution_count": 12,
      "outputs": [
        {
          "output_type": "execute_result",
          "data": {
            "text/plain": [
              "1.8828757597682129"
            ]
          },
          "metadata": {
            "tags": []
          },
          "execution_count": 12
        }
      ]
    },
    {
      "cell_type": "markdown",
      "metadata": {
        "id": "09F28n4Yfko8",
        "colab_type": "text"
      },
      "source": [
        "The skewness value of 1.8 confirms the assumption about the skewness. \n",
        "\n",
        "If the skewness value lies above 1 or is lower than -1 the distribution is highsly skewed. ([More info about skewness](https://medium.com/@TheDataGyan/day-8-data-transformation-skewness-normalization-and-much-more-4c144d370e55))\n",
        "\n",
        "Therefore, we need to transform the distribution of SalePrice.\n",
        "\n",
        "But why? Because we need a normal distribution to get good predicitions with the ML models.\n",
        "\n",
        "To fix positively skewed data there are different common options. For example cube root transformation, square root transformation or logarithm transformation. \n",
        "\n",
        "We are using the numpy function log1p. It applies log(1+x) to all elements of the column."
      ]
    },
    {
      "cell_type": "code",
      "metadata": {
        "id": "26uth2CKSbvm",
        "colab_type": "code",
        "colab": {}
      },
      "source": [
        "#transform SalePrice\n",
        "train.SalePrice = np.log1p(train.SalePrice)"
      ],
      "execution_count": 13,
      "outputs": []
    },
    {
      "cell_type": "code",
      "metadata": {
        "id": "s17SZpPyScg_",
        "colab_type": "code",
        "colab": {
          "base_uri": "https://localhost:8080/",
          "height": 35
        },
        "outputId": "c4a8415c-da0f-4057-d247-8f15dd6f80fd"
      },
      "source": [
        "#check the skewness after transformation\n",
        "train.SalePrice.skew()"
      ],
      "execution_count": 14,
      "outputs": [
        {
          "output_type": "execute_result",
          "data": {
            "text/plain": [
              "0.12134661989685333"
            ]
          },
          "metadata": {
            "tags": []
          },
          "execution_count": 14
        }
      ]
    },
    {
      "cell_type": "code",
      "metadata": {
        "id": "EBk6CP6uSe1S",
        "colab_type": "code",
        "colab": {
          "base_uri": "https://localhost:8080/",
          "height": 388
        },
        "outputId": "4cee8edd-215b-45f4-f8fb-68737123d1d9"
      },
      "source": [
        "#plot the distribution after transformation\n",
        "df2 = train.SalePrice.sort_values(ascending = False)\n",
        "\n",
        "plt.figure(figsize=[15,6])\n",
        "sns.distplot(df2, color='green')\n",
        "plt.show()"
      ],
      "execution_count": 15,
      "outputs": [
        {
          "output_type": "display_data",
          "data": {
            "image/png": "[encoded data removed]",
            "text/plain": [
              "<Figure size 1080x432 with 1 Axes>"
            ]
          },
          "metadata": {
            "tags": [],
            "needs_background": "light"
          }
        }
      ]
    },
    {
      "cell_type": "markdown",
      "metadata": {
        "id": "SIobIS1ehqMR",
        "colab_type": "text"
      },
      "source": [
        "You can see now, that the distribution is (almost) normally distributed."
      ]
    },
    {
      "cell_type": "markdown",
      "metadata": {
        "id": "SzQ1M37zU2Du",
        "colab_type": "text"
      },
      "source": [
        "# 5. Check other features and their correlation to the target variable 'SalePrice' "
      ]
    },
    {
      "cell_type": "markdown",
      "metadata": {
        "id": "XJ-u0jm7gO5F",
        "colab_type": "text"
      },
      "source": [
        "Before that, we gonna have a look at the other features and their correlation with the SalePrice. \n",
        "\n",
        "We have already evaluated that we are dealing with numerical and categorical data. Let's see which features are of which datatype: "
      ]
    },
    {
      "cell_type": "code",
      "metadata": {
        "id": "Ua062ss1lI-B",
        "colab_type": "code",
        "colab": {
          "base_uri": "https://localhost:8080/",
          "height": 426
        },
        "outputId": "6c03bf66-c2b2-47e4-f4db-ea553e3351e6"
      },
      "source": [
        "#get all numerical columns \n",
        "numerical = train.dtypes[train.dtypes != 'object'].index\n",
        "\n",
        "#get all categorical columns \n",
        "categorical = train.dtypes[train.dtypes == 'object'].index\n",
        "\n",
        "#show both\n",
        "print('List of numerical columns: \\n',numerical, '\\n\\n')\n",
        "print('List of categorical columns: \\n',categorical)"
      ],
      "execution_count": 16,
      "outputs": [
        {
          "output_type": "stream",
          "text": [
            "List of numerical columns: \n",
            " Index(['Id', 'MSSubClass', 'LotFrontage', 'LotArea', 'OverallQual',\n",
            "       'OverallCond', 'YearBuilt', 'YearRemodAdd', 'MasVnrArea', 'BsmtFinSF1',\n",
            "       'BsmtFinSF2', 'BsmtUnfSF', 'TotalBsmtSF', '1stFlrSF', '2ndFlrSF',\n",
            "       'LowQualFinSF', 'GrLivArea', 'BsmtFullBath', 'BsmtHalfBath', 'FullBath',\n",
            "       'HalfBath', 'BedroomAbvGr', 'KitchenAbvGr', 'TotRmsAbvGrd',\n",
            "       'Fireplaces', 'GarageYrBlt', 'GarageCars', 'GarageArea', 'WoodDeckSF',\n",
            "       'OpenPorchSF', 'EnclosedPorch', '3SsnPorch', 'ScreenPorch', 'PoolArea',\n",
            "       'MiscVal', 'MoSold', 'YrSold', 'SalePrice'],\n",
            "      dtype='object') \n",
            "\n",
            "\n",
            "List of categorical columns: \n",
            " Index(['MSZoning', 'Street', 'Alley', 'LotShape', 'LandContour', 'Utilities',\n",
            "       'LotConfig', 'LandSlope', 'Neighborhood', 'Condition1', 'Condition2',\n",
            "       'BldgType', 'HouseStyle', 'RoofStyle', 'RoofMatl', 'Exterior1st',\n",
            "       'Exterior2nd', 'MasVnrType', 'ExterQual', 'ExterCond', 'Foundation',\n",
            "       'BsmtQual', 'BsmtCond', 'BsmtExposure', 'BsmtFinType1', 'BsmtFinType2',\n",
            "       'Heating', 'HeatingQC', 'CentralAir', 'Electrical', 'KitchenQual',\n",
            "       'Functional', 'FireplaceQu', 'GarageType', 'GarageFinish', 'GarageQual',\n",
            "       'GarageCond', 'PavedDrive', 'PoolQC', 'Fence', 'MiscFeature',\n",
            "       'SaleType', 'SaleCondition'],\n",
            "      dtype='object')\n"
          ],
          "name": "stdout"
        }
      ]
    },
    {
      "cell_type": "markdown",
      "metadata": {
        "id": "oX3Rpoqxle77",
        "colab_type": "text"
      },
      "source": [
        "The ID is included in the list of numerical features, but ID is only a random number for identification and doesn't have any impact on the SalePrice (our prediction). Therefore we gonna drop it.\n"
      ]
    },
    {
      "cell_type": "code",
      "metadata": {
        "id": "RUyXoHRdrQWi",
        "colab_type": "code",
        "colab": {}
      },
      "source": [
        "#save IDs in a variable\n",
        "train_id = train['Id']\n",
        "test_id = test['Id']\n",
        "#drop the feature 'ID'\n",
        "train.drop(['Id'], axis = 1, inplace = True)\n",
        "test.drop(['Id'], axis = 1, inplace = True)"
      ],
      "execution_count": 17,
      "outputs": []
    },
    {
      "cell_type": "markdown",
      "metadata": {
        "id": "xK0iO-N7rOvz",
        "colab_type": "text"
      },
      "source": [
        "Now let's check the correlation of all features with the target variable SalePrice."
      ]
    },
    {
      "cell_type": "code",
      "metadata": {
        "id": "R2vo2evOmZth",
        "colab_type": "code",
        "colab": {
          "base_uri": "https://localhost:8080/",
          "height": 692
        },
        "outputId": "16f1003c-a4cc-4a26-b35f-9b3a3ccd0576"
      },
      "source": [
        "#get correlation of all features with SalePrice and list them in descending order\n",
        "corr = train.corr()\n",
        "corr['SalePrice'].sort_values(ascending=False)"
      ],
      "execution_count": 18,
      "outputs": [
        {
          "output_type": "execute_result",
          "data": {
            "text/plain": [
              "SalePrice        1.000000\n",
              "OverallQual      0.817185\n",
              "GrLivArea        0.700927\n",
              "GarageCars       0.680625\n",
              "GarageArea       0.650888\n",
              "TotalBsmtSF      0.612134\n",
              "1stFlrSF         0.596981\n",
              "FullBath         0.594771\n",
              "YearBuilt        0.586570\n",
              "YearRemodAdd     0.565608\n",
              "GarageYrBlt      0.541073\n",
              "TotRmsAbvGrd     0.534422\n",
              "Fireplaces       0.489450\n",
              "MasVnrArea       0.430809\n",
              "BsmtFinSF1       0.372023\n",
              "LotFrontage      0.355879\n",
              "WoodDeckSF       0.334135\n",
              "OpenPorchSF      0.321053\n",
              "2ndFlrSF         0.319300\n",
              "HalfBath         0.313982\n",
              "LotArea          0.257320\n",
              "BsmtFullBath     0.236224\n",
              "BsmtUnfSF        0.221985\n",
              "BedroomAbvGr     0.209043\n",
              "ScreenPorch      0.121208\n",
              "PoolArea         0.069798\n",
              "MoSold           0.057330\n",
              "3SsnPorch        0.054900\n",
              "BsmtFinSF2       0.004832\n",
              "BsmtHalfBath    -0.005149\n",
              "MiscVal         -0.020021\n",
              "OverallCond     -0.036868\n",
              "YrSold          -0.037263\n",
              "LowQualFinSF    -0.037963\n",
              "MSSubClass      -0.073959\n",
              "KitchenAbvGr    -0.147548\n",
              "EnclosedPorch   -0.149050\n",
              "Name: SalePrice, dtype: float64"
            ]
          },
          "metadata": {
            "tags": []
          },
          "execution_count": 18
        }
      ]
    },
    {
      "cell_type": "markdown",
      "metadata": {
        "id": "Wlm8RfJHDj91",
        "colab_type": "text"
      },
      "source": [
        "As you can see, there are a lot of features correlated with the target feature SalePrice. Of course, SalePrice has the highest correlation with itself.\n",
        "\n",
        "Let's have a closer look on the 10 most correlated features."
      ]
    },
    {
      "cell_type": "code",
      "metadata": {
        "id": "OPxY0y5-iZkm",
        "colab_type": "code",
        "colab": {}
      },
      "source": [
        "#get top10 most correlated features\n",
        "corr10 = corr.nlargest(10, ['SalePrice'])"
      ],
      "execution_count": null,
      "outputs": []
    },
    {
      "cell_type": "code",
      "metadata": {
        "id": "TO-p7pWEC2xI",
        "colab_type": "code",
        "colab": {
          "base_uri": "https://localhost:8080/",
          "height": 357
        },
        "outputId": "6a53ab23-30f8-4ca4-a164-57b8f169478a"
      },
      "source": [
        "#plot heatmap of correlated features\n",
        "plt.subplots(figsize=(10,6))\n",
        "sns.heatmap(corr10, vmax=0.9, cmap='RdYlGn', square=True)\n",
        "plt.show()"
      ],
      "execution_count": 19,
      "outputs": [
        {
          "output_type": "display_data",
          "data": {
            "image/png": "[encoded data removed]",
            "text/plain": [
              "<Figure size 720x432 with 2 Axes>"
            ]
          },
          "metadata": {
            "tags": [],
            "needs_background": "light"
          }
        }
      ]
    },
    {
      "cell_type": "markdown",
      "metadata": {
        "id": "G9hQHedznIjX",
        "colab_type": "text"
      },
      "source": [
        "You can see the high correlation (green) of the features to SalePrice on the colum on the far right of the heatmap.\n",
        "\n",
        "Let's visualise the top 9 most correlated features (SalePrice doesn't make sense):"
      ]
    },
    {
      "cell_type": "code",
      "metadata": {
        "id": "WL0yvMK4Jllz",
        "colab_type": "code",
        "colab": {
          "base_uri": "https://localhost:8080/",
          "height": 585
        },
        "outputId": "42e0c7e2-e5e2-450c-e8fe-28938e3a41c3"
      },
      "source": [
        "fig, axs = plt.subplots(3, 3, figsize=(12,8))\n",
        "#OverallQual vs. SalePrice\n",
        "axs[0, 0].scatter(train['OverallQual'], train['SalePrice'], c='green', alpha = 0.7)\n",
        "axs[0, 0].set_xlabel('OverallQual')\n",
        "axs[0, 0].set_ylabel('SalePrice')\n",
        "#GrLivArea vs. SalePrice\n",
        "axs[0, 1].scatter(train['GrLivArea'], train['SalePrice'], c='green', alpha = 0.7)\n",
        "axs[0, 1].set_xlabel('GrLivArea')\n",
        "axs[0, 1].set_ylabel('SalePrice')\n",
        "#GarageCars vs. SalePrice\n",
        "axs[0, 2].scatter(train['GarageCars'], train['SalePrice'], c='green', alpha = 0.7)\n",
        "axs[0, 2].set_xlabel('GarageCars')\n",
        "axs[0, 2].set_ylabel('SalePrice')\n",
        "#GarageArea vs. SalePrice\n",
        "axs[1, 0].scatter(train['GarageArea'], train['SalePrice'], c='green', alpha = 0.7)\n",
        "axs[1, 0].set_xlabel('GarageArea')\n",
        "axs[1, 0].set_ylabel('SalePrice')\n",
        "#TotalBsmtSF vs. SalePrice\n",
        "axs[1, 1].scatter(train['TotalBsmtSF'], train['SalePrice'], c='green', alpha = 0.7)\n",
        "axs[1, 1].set_xlabel('TotalBsmtSF')\n",
        "axs[1, 1].set_ylabel('SalePrice')\n",
        "#1stFlrSF vs. SalePrice\n",
        "axs[1, 2].scatter(train['1stFlrSF'], train['SalePrice'], c='green', alpha = 0.7)\n",
        "axs[1, 2].set_xlabel('1stFlrSF')\n",
        "axs[1, 2].set_ylabel('SalePrice')\n",
        "#FullBath vs. SalePrice\n",
        "axs[2, 0].scatter(train['FullBath'], train['SalePrice'], c='green', alpha = 0.7)\n",
        "axs[2, 0].set_xlabel('FullBath')\n",
        "axs[2, 0].set_ylabel('SalePrice')\n",
        "#YearBuilt vs. SalePrice\n",
        "axs[2, 1].scatter(train['YearBuilt'], train['SalePrice'], c='green', alpha = 0.7)\n",
        "axs[2, 1].set_xlabel('YearBuilt')\n",
        "axs[2, 1].set_ylabel('SalePrice')\n",
        "#YearRemodAdd vs. SalePrice\n",
        "axs[2, 2].scatter(train['YearRemodAdd'], train['SalePrice'], c='green', alpha = 0.7)\n",
        "axs[2, 2].set_xlabel('YearRemodAdd')\n",
        "axs[2, 2].set_ylabel('SalePrice')\n",
        "\n",
        "fig.tight_layout()\n",
        "plt.show()"
      ],
      "execution_count": 20,
      "outputs": [
        {
          "output_type": "display_data",
          "data": {
            "image/png": "[encoded data removed]",
            "text/plain": [
              "<Figure size 864x576 with 9 Axes>"
            ]
          },
          "metadata": {
            "tags": [],
            "needs_background": "light"
          }
        }
      ]
    },
    {
      "cell_type": "markdown",
      "metadata": {
        "id": "8qo6W35Vil1b",
        "colab_type": "text"
      },
      "source": [
        "# OUTLIER DETECTION"
      ]
    },
    {
      "cell_type": "markdown",
      "metadata": {
        "id": "1P61HmWNipsk",
        "colab_type": "text"
      },
      "source": [
        ""
      ]
    },
    {
      "cell_type": "markdown",
      "metadata": {
        "id": "vaBTElVZVWtI",
        "colab_type": "text"
      },
      "source": [
        "# 6. Search and handle NaN-values"
      ]
    },
    {
      "cell_type": "markdown",
      "metadata": {
        "id": "9p4mCgFDwEoD",
        "colab_type": "text"
      },
      "source": [
        "Search for NaN-values"
      ]
    },
    {
      "cell_type": "code",
      "metadata": {
        "id": "UdKL1D9X0Ty1",
        "colab_type": "code",
        "colab": {}
      },
      "source": [
        "ntrain = train.shape[0]\n",
        "ntest = test.shape[0]\n",
        "y = train.SalePrice.values\n",
        "#put train and test data together to handle both at once\n",
        "concat_data = pd.concat((train, test)).reset_index(drop=True)\n",
        "#drop target variable SalePrice because it's only part of train data\n",
        "concat_data.drop(['SalePrice'], axis = 1, inplace = True)"
      ],
      "execution_count": 21,
      "outputs": []
    },
    {
      "cell_type": "code",
      "metadata": {
        "id": "F-NOLNZIwGv-",
        "colab_type": "code",
        "colab": {
          "base_uri": "https://localhost:8080/",
          "height": 0
        },
        "outputId": "01d0f8d3-2938-457f-eca5-d685b19992e6"
      },
      "source": [
        "#search NaN-values per column in combined data\n",
        "missing_val_count_by_column = (concat_data.isnull().sum())\n",
        "\n",
        "#show all columns which have NaN-values and the number of NaN-values in descending order \n",
        "nanvalues = missing_val_count_by_column[missing_val_count_by_column > 0].sort_values(ascending=False)\n",
        "print('Number of NaN-values per column:\\n',nanvalues)"
      ],
      "execution_count": 22,
      "outputs": [
        {
          "output_type": "stream",
          "text": [
            "Number of NaN-values per column:\n",
            " PoolQC          2909\n",
            "MiscFeature     2814\n",
            "Alley           2721\n",
            "Fence           2348\n",
            "FireplaceQu     1420\n",
            "LotFrontage      486\n",
            "GarageFinish     159\n",
            "GarageYrBlt      159\n",
            "GarageQual       159\n",
            "GarageCond       159\n",
            "GarageType       157\n",
            "BsmtExposure      82\n",
            "BsmtCond          82\n",
            "BsmtQual          81\n",
            "BsmtFinType2      80\n",
            "BsmtFinType1      79\n",
            "MasVnrType        24\n",
            "MasVnrArea        23\n",
            "MSZoning           4\n",
            "BsmtFullBath       2\n",
            "BsmtHalfBath       2\n",
            "Utilities          2\n",
            "Functional         2\n",
            "Exterior2nd        1\n",
            "Exterior1st        1\n",
            "SaleType           1\n",
            "BsmtFinSF1         1\n",
            "BsmtFinSF2         1\n",
            "BsmtUnfSF          1\n",
            "Electrical         1\n",
            "KitchenQual        1\n",
            "GarageCars         1\n",
            "GarageArea         1\n",
            "TotalBsmtSF        1\n",
            "dtype: int64\n"
          ],
          "name": "stdout"
        }
      ]
    },
    {
      "cell_type": "code",
      "metadata": {
        "id": "mvqpxye67l4G",
        "colab_type": "code",
        "colab": {
          "base_uri": "https://localhost:8080/",
          "height": 0
        },
        "outputId": "4b00a2f3-7cce-4d89-927b-77ed55f4f5b0"
      },
      "source": [
        "nanvalues_percent = ((missing_val_count_by_column[missing_val_count_by_column > 0]) / len(concat_data)*100).sort_values(ascending=False)\n",
        "missing_percent = pd.DataFrame({'Missing Percentage':nanvalues_percent})\n",
        "missing_percent"
      ],
      "execution_count": 23,
      "outputs": [
        {
          "output_type": "execute_result",
          "data": {
            "text/html": [
              "<div>\n",
              "<style scoped>\n",
              "    .dataframe tbody tr th:only-of-type {\n",
              "        vertical-align: middle;\n",
              "    }\n",
              "\n",
              "    .dataframe tbody tr th {\n",
              "        vertical-align: top;\n",
              "    }\n",
              "\n",
              "    .dataframe thead th {\n",
              "        text-align: right;\n",
              "    }\n",
              "</style>\n",
              "<table border=\"1\" class=\"dataframe\">\n",
              "  <thead>\n",
              "    <tr style=\"text-align: right;\">\n",
              "      <th></th>\n",
              "      <th>Missing Percentage</th>\n",
              "    </tr>\n",
              "  </thead>\n",
              "  <tbody>\n",
              "    <tr>\n",
              "      <th>PoolQC</th>\n",
              "      <td>99.657417</td>\n",
              "    </tr>\n",
              "    <tr>\n",
              "      <th>MiscFeature</th>\n",
              "      <td>96.402878</td>\n",
              "    </tr>\n",
              "    <tr>\n",
              "      <th>Alley</th>\n",
              "      <td>93.216855</td>\n",
              "    </tr>\n",
              "    <tr>\n",
              "      <th>Fence</th>\n",
              "      <td>80.438506</td>\n",
              "    </tr>\n",
              "    <tr>\n",
              "      <th>FireplaceQu</th>\n",
              "      <td>48.646797</td>\n",
              "    </tr>\n",
              "    <tr>\n",
              "      <th>LotFrontage</th>\n",
              "      <td>16.649538</td>\n",
              "    </tr>\n",
              "    <tr>\n",
              "      <th>GarageFinish</th>\n",
              "      <td>5.447071</td>\n",
              "    </tr>\n",
              "    <tr>\n",
              "      <th>GarageYrBlt</th>\n",
              "      <td>5.447071</td>\n",
              "    </tr>\n",
              "    <tr>\n",
              "      <th>GarageQual</th>\n",
              "      <td>5.447071</td>\n",
              "    </tr>\n",
              "    <tr>\n",
              "      <th>GarageCond</th>\n",
              "      <td>5.447071</td>\n",
              "    </tr>\n",
              "    <tr>\n",
              "      <th>GarageType</th>\n",
              "      <td>5.378554</td>\n",
              "    </tr>\n",
              "    <tr>\n",
              "      <th>BsmtExposure</th>\n",
              "      <td>2.809181</td>\n",
              "    </tr>\n",
              "    <tr>\n",
              "      <th>BsmtCond</th>\n",
              "      <td>2.809181</td>\n",
              "    </tr>\n",
              "    <tr>\n",
              "      <th>BsmtQual</th>\n",
              "      <td>2.774923</td>\n",
              "    </tr>\n",
              "    <tr>\n",
              "      <th>BsmtFinType2</th>\n",
              "      <td>2.740665</td>\n",
              "    </tr>\n",
              "    <tr>\n",
              "      <th>BsmtFinType1</th>\n",
              "      <td>2.706406</td>\n",
              "    </tr>\n",
              "    <tr>\n",
              "      <th>MasVnrType</th>\n",
              "      <td>0.822199</td>\n",
              "    </tr>\n",
              "    <tr>\n",
              "      <th>MasVnrArea</th>\n",
              "      <td>0.787941</td>\n",
              "    </tr>\n",
              "    <tr>\n",
              "      <th>MSZoning</th>\n",
              "      <td>0.137033</td>\n",
              "    </tr>\n",
              "    <tr>\n",
              "      <th>BsmtFullBath</th>\n",
              "      <td>0.068517</td>\n",
              "    </tr>\n",
              "    <tr>\n",
              "      <th>BsmtHalfBath</th>\n",
              "      <td>0.068517</td>\n",
              "    </tr>\n",
              "    <tr>\n",
              "      <th>Utilities</th>\n",
              "      <td>0.068517</td>\n",
              "    </tr>\n",
              "    <tr>\n",
              "      <th>Functional</th>\n",
              "      <td>0.068517</td>\n",
              "    </tr>\n",
              "    <tr>\n",
              "      <th>Exterior2nd</th>\n",
              "      <td>0.034258</td>\n",
              "    </tr>\n",
              "    <tr>\n",
              "      <th>Exterior1st</th>\n",
              "      <td>0.034258</td>\n",
              "    </tr>\n",
              "    <tr>\n",
              "      <th>SaleType</th>\n",
              "      <td>0.034258</td>\n",
              "    </tr>\n",
              "    <tr>\n",
              "      <th>BsmtFinSF1</th>\n",
              "      <td>0.034258</td>\n",
              "    </tr>\n",
              "    <tr>\n",
              "      <th>BsmtFinSF2</th>\n",
              "      <td>0.034258</td>\n",
              "    </tr>\n",
              "    <tr>\n",
              "      <th>BsmtUnfSF</th>\n",
              "      <td>0.034258</td>\n",
              "    </tr>\n",
              "    <tr>\n",
              "      <th>Electrical</th>\n",
              "      <td>0.034258</td>\n",
              "    </tr>\n",
              "    <tr>\n",
              "      <th>KitchenQual</th>\n",
              "      <td>0.034258</td>\n",
              "    </tr>\n",
              "    <tr>\n",
              "      <th>GarageCars</th>\n",
              "      <td>0.034258</td>\n",
              "    </tr>\n",
              "    <tr>\n",
              "      <th>GarageArea</th>\n",
              "      <td>0.034258</td>\n",
              "    </tr>\n",
              "    <tr>\n",
              "      <th>TotalBsmtSF</th>\n",
              "      <td>0.034258</td>\n",
              "    </tr>\n",
              "  </tbody>\n",
              "</table>\n",
              "</div>"
            ],
            "text/plain": [
              "              Missing Percentage\n",
              "PoolQC                 99.657417\n",
              "MiscFeature            96.402878\n",
              "Alley                  93.216855\n",
              "Fence                  80.438506\n",
              "FireplaceQu            48.646797\n",
              "LotFrontage            16.649538\n",
              "GarageFinish            5.447071\n",
              "GarageYrBlt             5.447071\n",
              "GarageQual              5.447071\n",
              "GarageCond              5.447071\n",
              "GarageType              5.378554\n",
              "BsmtExposure            2.809181\n",
              "BsmtCond                2.809181\n",
              "BsmtQual                2.774923\n",
              "BsmtFinType2            2.740665\n",
              "BsmtFinType1            2.706406\n",
              "MasVnrType              0.822199\n",
              "MasVnrArea              0.787941\n",
              "MSZoning                0.137033\n",
              "BsmtFullBath            0.068517\n",
              "BsmtHalfBath            0.068517\n",
              "Utilities               0.068517\n",
              "Functional              0.068517\n",
              "Exterior2nd             0.034258\n",
              "Exterior1st             0.034258\n",
              "SaleType                0.034258\n",
              "BsmtFinSF1              0.034258\n",
              "BsmtFinSF2              0.034258\n",
              "BsmtUnfSF               0.034258\n",
              "Electrical              0.034258\n",
              "KitchenQual             0.034258\n",
              "GarageCars              0.034258\n",
              "GarageArea              0.034258\n",
              "TotalBsmtSF             0.034258"
            ]
          },
          "metadata": {
            "tags": []
          },
          "execution_count": 23
        }
      ]
    },
    {
      "cell_type": "code",
      "metadata": {
        "id": "xhC-WxU-mchL",
        "colab_type": "code",
        "colab": {
          "base_uri": "https://localhost:8080/",
          "height": 0
        },
        "outputId": "bb4379d5-0992-44be-abbb-41fd2b5ef6d8"
      },
      "source": [
        "nanvalues.count()"
      ],
      "execution_count": 24,
      "outputs": [
        {
          "output_type": "execute_result",
          "data": {
            "text/plain": [
              "34"
            ]
          },
          "metadata": {
            "tags": []
          },
          "execution_count": 24
        }
      ]
    },
    {
      "cell_type": "markdown",
      "metadata": {
        "id": "pw4MOkfPmh-w",
        "colab_type": "text"
      },
      "source": [
        "We got 34 different columns with NaN-values. We have to handle all of them before we gonna go on."
      ]
    },
    {
      "cell_type": "code",
      "metadata": {
        "id": "FB04tYHk-OPe",
        "colab_type": "code",
        "colab": {
          "base_uri": "https://localhost:8080/",
          "height": 0
        },
        "outputId": "8dfb2793-201e-4475-96be-1d114215c0ad"
      },
      "source": [
        "# Visualising percentage of NaN-values per feature\n",
        "plt.figure(figsize=[10,5])\n",
        "plt.bar(missing_percent.index, missing_percent['Missing Percentage'],color='green')\n",
        "plt.xlabel('Features with NaN-values', fontsize=15)\n",
        "plt.xticks(rotation='90')\n",
        "plt.ylabel('Percent of NaN-values', fontsize=15)\n",
        "plt.title('Percentage of NaN-values by feature', fontsize=15)\n",
        "plt.show()"
      ],
      "execution_count": 25,
      "outputs": [
        {
          "output_type": "display_data",
          "data": {
            "image/png": "[encoded data removed]",
            "text/plain": [
              "<Figure size 720x360 with 1 Axes>"
            ]
          },
          "metadata": {
            "tags": [],
            "needs_background": "light"
          }
        }
      ]
    },
    {
      "cell_type": "markdown",
      "metadata": {
        "id": "gIZwqGHrwaFQ",
        "colab_type": "text"
      },
      "source": [
        "One way to handle the colums with a very high amount of missing data would be to drop them. But first let's have a look at the data description (data_description.txt) to see if it would make sense to drop them:\n",
        "\n",
        "[More on handling NaN-values](https://www.kaggle.com/dansbecker/handling-missing-values)\n",
        "\n",
        "If you go through all features you realise it doesn't make sense to delete those features. So we gonna go another way to handle the missing values: Imputation!\n",
        "\n"
      ]
    },
    {
      "cell_type": "markdown",
      "metadata": {
        "id": "Nuzn9br-2_DE",
        "colab_type": "text"
      },
      "source": [
        "First we replace all the following features with 'None', because of the following explanations you get if you look them up in the description.txt:\n",
        "\n",
        "*   PoolQC: NaN-value stands for 'No Pool'\n",
        "*   MiscFeature: NaN-value stands for 'None'\n",
        "*   Alley: NaN-value stands for 'No alley access'\n",
        "*   Fence: NaN-value stands for 'No Fence'\n",
        "*   FireplaceQu: NaN-value stands for 'No Fireplace'\n",
        "*   GarageFinish: NaN-value stands for 'NoGarage'\n",
        "*   GarageQual: NaN-value stands for 'No Garage'\n",
        "*   GarageCond: NaN-value stands for 'No Garage'\n",
        "*   GarageType: NaN-value stands for 'No Garage'\n",
        "*   BsmtExposure: NaN-value stands for 'No Basement'\n",
        "*   BsmtCond: NaN-value stands for 'No Basement'\n",
        "*   BsmtQual: NaN-value stands for 'No Basement'\n",
        "*   BsmtFinType2: NaN-value stands for 'No Basement'\n",
        "*   BsmtFinType1: NaN-value stands for 'No Basement'\n",
        "*   MasVnrType: NaN-value stands for 'None'\n",
        "\n",
        "You could change them all one by one or all at once as seen in the following code:"
      ]
    },
    {
      "cell_type": "code",
      "metadata": {
        "id": "JYnZ9b0dlQmp",
        "colab_type": "code",
        "colab": {}
      },
      "source": [
        "#replacing NaN-values in colums where it means 'None' with 'None'\n",
        "missing_none_col = ['PoolQC', 'MiscFeature', 'Alley', 'Fence', 'FireplaceQu', 'GarageFinish', 'GarageQual', 'GarageCond', 'GarageType', 'BsmtExposure',\n",
        "                   'BsmtCond', 'BsmtQual', 'BsmtFinType2', 'BsmtFinType1', 'MasVnrType'] \n",
        "for i in missing_none_col:\n",
        "    concat_data[i] = concat_data[i].fillna('None')"
      ],
      "execution_count": 26,
      "outputs": []
    },
    {
      "cell_type": "markdown",
      "metadata": {
        "id": "LN8ncrrC3PDA",
        "colab_type": "text"
      },
      "source": [
        "Afterwards we replace all the following features with a '0':\n",
        "*   GarageYrBlt: NaN-value stands for 'No Garage' and consequently there is no date available.\n",
        "*   MasVnrArea: NaN-value stands for an area of 0 square feet.\n",
        "*   BsmtFullBath: NaN-value stands for 0 full bathrooms in the basement.\n",
        "*   BsmtHalfBath: NaN-value stands for 0 half bathrooms in the basement.\n",
        "*   BsmtFinSF1: NaN-value stands for an area of 0 square feet.\n",
        "*   BsmtFinSF2: NaN-value stands for an area of 0 square feet.\n",
        "*   BsmtUnfSF: NaN-value stands for an area of 0 square feet.\n",
        "*   GarageCars: NaN-value stands for zero cars (probably connected to having no garage at all --> no place for cars).\n",
        "*   GarageArea: NaN-value stands for an area of 0 square feet (probably connected to having no garage at all).\n",
        "*   TotalBsmtSF: NaN-value stands for an area of 0 square feet (probably connected to having no basement at all).\n",
        "\n",
        "We gonna change them all at once again:"
      ]
    },
    {
      "cell_type": "code",
      "metadata": {
        "id": "OpG_yekxpAHA",
        "colab_type": "code",
        "colab": {}
      },
      "source": [
        "#replacing NaN-values with a 0\n",
        "missing_zero_col = ['GarageYrBlt', 'MasVnrArea', 'BsmtFullBath', 'BsmtHalfBath', 'BsmtFinSF1', 'BsmtFinSF2', 'BsmtUnfSF', 'GarageCars', 'GarageArea', 'TotalBsmtSF']\n",
        "\n",
        "for i in missing_zero_col:\n",
        "    concat_data[i] = concat_data[i].fillna(0)"
      ],
      "execution_count": 27,
      "outputs": []
    },
    {
      "cell_type": "markdown",
      "metadata": {
        "id": "Kx07APfckree",
        "colab_type": "text"
      },
      "source": [
        "If you browse the description it says for the feature 'Functional' to assume 'typical' unless deductions are warranted. Therefore we gonna replace the NaN-values with 'Typ':"
      ]
    },
    {
      "cell_type": "code",
      "metadata": {
        "id": "meQG5oq0kq9i",
        "colab_type": "code",
        "colab": {}
      },
      "source": [
        "#replacing NaN-values with 'Typ'\n",
        "concat_data.Functional = concat_data.Functional.fillna('Typ')"
      ],
      "execution_count": 28,
      "outputs": []
    },
    {
      "cell_type": "markdown",
      "metadata": {
        "id": "fiKQRAXZlgTd",
        "colab_type": "text"
      },
      "source": [
        "The LotFrontage describes the 'Linear feet of street connected to property'. Assuming that it's almost the same to houses in the neighborhood, we fill the NaN-values with the median LotFrontage of the neighborhood:"
      ]
    },
    {
      "cell_type": "code",
      "metadata": {
        "id": "Q0rviB2LlT9J",
        "colab_type": "code",
        "colab": {}
      },
      "source": [
        "#replacing NaN-values by the median value of the neighborhood\n",
        "concat_data.LotFrontage = concat_data.groupby('Neighborhood').LotFrontage.transform(lambda x: x.fillna(x.median()))"
      ],
      "execution_count": 29,
      "outputs": []
    },
    {
      "cell_type": "markdown",
      "metadata": {
        "id": "GTk98ETzxa4B",
        "colab_type": "text"
      },
      "source": [
        "There are some features including NaN-values left, which don't have a good explanation in the description. But they are all categorical features so it makes sense to replace the NaN-values with the value that appears most [(mode)](https://pandas.pydata.org/pandas-docs/stable/reference/api/pandas.DataFrame.mode.html):"
      ]
    },
    {
      "cell_type": "code",
      "metadata": {
        "id": "Lrtfvo78uT8p",
        "colab_type": "code",
        "colab": {
          "base_uri": "https://localhost:8080/",
          "height": 0
        },
        "outputId": "d357dd88-7b7b-40de-c376-7177c18f48c3"
      },
      "source": [
        "concat_data.Electrical.value_counts()"
      ],
      "execution_count": 30,
      "outputs": [
        {
          "output_type": "execute_result",
          "data": {
            "text/plain": [
              "SBrkr    2671\n",
              "FuseA     188\n",
              "FuseF      50\n",
              "FuseP       8\n",
              "Mix         1\n",
              "Name: Electrical, dtype: int64"
            ]
          },
          "metadata": {
            "tags": []
          },
          "execution_count": 30
        }
      ]
    },
    {
      "cell_type": "code",
      "metadata": {
        "id": "ChDD4FTgvBmo",
        "colab_type": "code",
        "colab": {}
      },
      "source": [
        "#replace NaN-values with the value that appears most (mode) \n",
        "concat_data.Electrical = concat_data.Electrical.fillna(concat_data.Electrical.mode()[0])\n",
        "concat_data.KitchenQual = concat_data.KitchenQual.fillna(concat_data.KitchenQual.mode()[0])\n",
        "concat_data.Exterior1st = concat_data.Exterior1st.fillna(concat_data.Exterior1st.mode()[0])\n",
        "concat_data.Exterior2nd = concat_data.Exterior2nd.fillna(concat_data.Exterior2nd.mode()[0])\n",
        "concat_data.Utilities = concat_data.Utilities.fillna(concat_data.Utilities.mode()[0])\n",
        "concat_data.SaleType = concat_data.SaleType.fillna(concat_data.SaleType.mode()[0])\n",
        "concat_data.MSZoning = concat_data.groupby('MSSubClass').MSZoning.transform(lambda x: x.fillna(x.mode()[0]))"
      ],
      "execution_count": 31,
      "outputs": []
    },
    {
      "cell_type": "markdown",
      "metadata": {
        "id": "LdctEMfpxk7J",
        "colab_type": "text"
      },
      "source": [
        "If we check for example the feature 'Electrical' we can see that the one NaN-value got replaced by 'SBrkr', which is the most appearing value."
      ]
    },
    {
      "cell_type": "code",
      "metadata": {
        "id": "aCT4JdAxw0O-",
        "colab_type": "code",
        "colab": {
          "base_uri": "https://localhost:8080/",
          "height": 0
        },
        "outputId": "a5fc581a-295c-4357-92f3-725527d98c9a"
      },
      "source": [
        "concat_data.Electrical.value_counts()"
      ],
      "execution_count": 32,
      "outputs": [
        {
          "output_type": "execute_result",
          "data": {
            "text/plain": [
              "SBrkr    2672\n",
              "FuseA     188\n",
              "FuseF      50\n",
              "FuseP       8\n",
              "Mix         1\n",
              "Name: Electrical, dtype: int64"
            ]
          },
          "metadata": {
            "tags": []
          },
          "execution_count": 32
        }
      ]
    },
    {
      "cell_type": "markdown",
      "metadata": {
        "id": "gsTYISuAmhcf",
        "colab_type": "text"
      },
      "source": [
        "Let's check if we handled all features including NaN-values:"
      ]
    },
    {
      "cell_type": "code",
      "metadata": {
        "id": "PwJ5IxGn2O60",
        "colab_type": "code",
        "colab": {
          "base_uri": "https://localhost:8080/",
          "height": 0
        },
        "outputId": "ed5cc975-198b-433a-dbac-4253dea027af"
      },
      "source": [
        "#search NaN-values per column in combined data\n",
        "missing_val_count_by_column = (concat_data.isnull().sum())\n",
        "\n",
        "#show all columns which have NaN-values and the number of NaN-values in descending order \n",
        "nanvalues = missing_val_count_by_column[missing_val_count_by_column > 0].sort_values(ascending=False)\n",
        "print('Number of NaN-values per column:\\n',nanvalues)"
      ],
      "execution_count": 33,
      "outputs": [
        {
          "output_type": "stream",
          "text": [
            "Number of NaN-values per column:\n",
            " Series([], dtype: int64)\n"
          ],
          "name": "stdout"
        }
      ]
    },
    {
      "cell_type": "markdown",
      "metadata": {
        "id": "K1Zl_blu2YgJ",
        "colab_type": "text"
      },
      "source": [
        "As you can see, we handled all missing values and there are no NaN-values left anymore.\n",
        "\n",
        "After we fixed the missing values we need to change some features from numerical to categorical because they have been declared wrong:\n",
        "\n"
      ]
    },
    {
      "cell_type": "code",
      "metadata": {
        "id": "lRwwLhgoP5mS",
        "colab_type": "code",
        "colab": {}
      },
      "source": [
        "concat_data.MSSubClass = concat_data.MSSubClass.apply(str)\n",
        "concat_data.YrSold = concat_data.YrSold.astype(str)\n",
        "concat_data.MoSold = concat_data.MoSold.astype(str)"
      ],
      "execution_count": 34,
      "outputs": []
    },
    {
      "cell_type": "markdown",
      "metadata": {
        "id": "LEb4_yYK3acp",
        "colab_type": "text"
      },
      "source": [
        "# 7. Label Encoder"
      ]
    },
    {
      "cell_type": "markdown",
      "metadata": {
        "id": "n7RYmnECgC3z",
        "colab_type": "text"
      },
      "source": [
        "Label Encoder.."
      ]
    },
    {
      "cell_type": "code",
      "metadata": {
        "id": "ATCjcw_B4FOJ",
        "colab_type": "code",
        "colab": {
          "base_uri": "https://localhost:8080/",
          "height": 0
        },
        "outputId": "95ccf8c7-39ee-4c65-ddf4-947ae0f1a641"
      },
      "source": [
        "categoric = concat_data.dtypes[concat_data.dtypes == 'object'].index \n",
        "categoric"
      ],
      "execution_count": 35,
      "outputs": [
        {
          "output_type": "execute_result",
          "data": {
            "text/plain": [
              "Index(['MSSubClass', 'MSZoning', 'Street', 'Alley', 'LotShape', 'LandContour',\n",
              "       'Utilities', 'LotConfig', 'LandSlope', 'Neighborhood', 'Condition1',\n",
              "       'Condition2', 'BldgType', 'HouseStyle', 'RoofStyle', 'RoofMatl',\n",
              "       'Exterior1st', 'Exterior2nd', 'MasVnrType', 'ExterQual', 'ExterCond',\n",
              "       'Foundation', 'BsmtQual', 'BsmtCond', 'BsmtExposure', 'BsmtFinType1',\n",
              "       'BsmtFinType2', 'Heating', 'HeatingQC', 'CentralAir', 'Electrical',\n",
              "       'KitchenQual', 'Functional', 'FireplaceQu', 'GarageType',\n",
              "       'GarageFinish', 'GarageQual', 'GarageCond', 'PavedDrive', 'PoolQC',\n",
              "       'Fence', 'MiscFeature', 'MoSold', 'YrSold', 'SaleType',\n",
              "       'SaleCondition'],\n",
              "      dtype='object')"
            ]
          },
          "metadata": {
            "tags": []
          },
          "execution_count": 35
        }
      ]
    },
    {
      "cell_type": "code",
      "metadata": {
        "id": "_H-efQfC4Tgr",
        "colab_type": "code",
        "colab": {}
      },
      "source": [
        "ordinal = ['MSSubClass', 'Street', 'Alley', 'LotShape', 'LandSlope', 'OverallCond', 'ExterQual', 'ExterCond', 'BsmtQual', 'BsmtCond', \n",
        "           'BsmtExposure', 'BsmtFinType1', 'BsmtFinType2',  'HeatingQC', 'CentralAir', 'KitchenQual', 'Functional', 'FireplaceQu', \n",
        "           'GarageFinish', 'GarageQual', 'GarageCond', 'PavedDrive', 'PoolQC', 'Fence', 'MoSold', 'YrSold']\n",
        "        \n",
        "# Process columns and apply LabelEncoder to categorical features\n",
        "for c in ordinal:\n",
        "    lbl = LabelEncoder() \n",
        "    lbl.fit(list(concat_data[c].values)) \n",
        "    concat_data[c] = lbl.transform(list(concat_data[c].values))"
      ],
      "execution_count": 36,
      "outputs": []
    },
    {
      "cell_type": "code",
      "metadata": {
        "id": "i1u-Fogt6g7o",
        "colab_type": "code",
        "colab": {
          "base_uri": "https://localhost:8080/",
          "height": 0
        },
        "outputId": "841deb6f-544b-4d0d-f0c8-5701141c7f4b"
      },
      "source": [
        "categoric = concat_data.dtypes[concat_data.dtypes == 'object'].index \n",
        "categoric"
      ],
      "execution_count": 37,
      "outputs": [
        {
          "output_type": "execute_result",
          "data": {
            "text/plain": [
              "Index(['MSZoning', 'LandContour', 'Utilities', 'LotConfig', 'Neighborhood',\n",
              "       'Condition1', 'Condition2', 'BldgType', 'HouseStyle', 'RoofStyle',\n",
              "       'RoofMatl', 'Exterior1st', 'Exterior2nd', 'MasVnrType', 'Foundation',\n",
              "       'Heating', 'Electrical', 'GarageType', 'MiscFeature', 'SaleType',\n",
              "       'SaleCondition'],\n",
              "      dtype='object')"
            ]
          },
          "metadata": {
            "tags": []
          },
          "execution_count": 37
        }
      ]
    },
    {
      "cell_type": "markdown",
      "metadata": {
        "id": "w7UK_tmD6zQN",
        "colab_type": "text"
      },
      "source": [
        "Need to handle them with get_dummies."
      ]
    },
    {
      "cell_type": "markdown",
      "metadata": {
        "id": "IupO5jaEVaIx",
        "colab_type": "text"
      },
      "source": [
        "# 8. Fixing skewness "
      ]
    },
    {
      "cell_type": "markdown",
      "metadata": {
        "id": "5jtnsNCYf_1Y",
        "colab_type": "text"
      },
      "source": [
        "In this step we gonna check if some numerical features are skewed as well and, if so, we gonna fix them as well.\n",
        "\n",
        "For SalePrice we used the numpy function log1p. Now we gonna use a box-cox transformation."
      ]
    },
    {
      "cell_type": "code",
      "metadata": {
        "id": "m1U3SNYJ8509",
        "colab_type": "code",
        "colab": {}
      },
      "source": [
        "numeric = concat_data.dtypes[concat_data.dtypes != 'object'].index "
      ],
      "execution_count": 38,
      "outputs": []
    },
    {
      "cell_type": "code",
      "metadata": {
        "id": "c1R48Rfl95WJ",
        "colab_type": "code",
        "colab": {
          "base_uri": "https://localhost:8080/",
          "height": 0
        },
        "outputId": "f995a677-d5b6-41dc-e5b6-e2b3fbade4a3"
      },
      "source": [
        "skew_numeric = concat_data[numeric].apply(lambda x: skew(x)).sort_values(ascending=False)\n",
        "skew_numeric"
      ],
      "execution_count": 39,
      "outputs": [
        {
          "output_type": "execute_result",
          "data": {
            "text/plain": [
              "MiscVal          21.947195\n",
              "PoolArea         16.898328\n",
              "LotArea          12.822431\n",
              "LowQualFinSF     12.088761\n",
              "3SsnPorch        11.376065\n",
              "LandSlope         4.975157\n",
              "KitchenAbvGr      4.302254\n",
              "BsmtFinSF2        4.146143\n",
              "EnclosedPorch     4.003891\n",
              "ScreenPorch       3.946694\n",
              "BsmtHalfBath      3.931594\n",
              "MasVnrArea        2.613592\n",
              "OpenPorchSF       2.535114\n",
              "WoodDeckSF        1.842433\n",
              "LotFrontage       1.505704\n",
              "1stFlrSF          1.469604\n",
              "BsmtFinSF1        1.425230\n",
              "GrLivArea         1.269358\n",
              "TotalBsmtSF       1.156894\n",
              "BsmtUnfSF         0.919339\n",
              "2ndFlrSF          0.861675\n",
              "TotRmsAbvGrd      0.758367\n",
              "Fireplaces        0.733495\n",
              "HalfBath          0.694566\n",
              "BsmtFullBath      0.624832\n",
              "OverallCond       0.570312\n",
              "HeatingQC         0.486656\n",
              "FireplaceQu       0.333787\n",
              "BedroomAbvGr      0.326324\n",
              "GarageArea        0.239257\n",
              "OverallQual       0.197110\n",
              "FullBath          0.167606\n",
              "MSSubClass        0.138396\n",
              "YrSold            0.132399\n",
              "BsmtFinType1      0.084633\n",
              "GarageCars       -0.219581\n",
              "YearRemodAdd     -0.451020\n",
              "BsmtQual         -0.488273\n",
              "YearBuilt        -0.599806\n",
              "GarageFinish     -0.608033\n",
              "LotShape         -0.617690\n",
              "MoSold           -0.645257\n",
              "Alley            -0.652040\n",
              "BsmtExposure     -1.114856\n",
              "KitchenQual      -1.448023\n",
              "ExterQual        -1.801409\n",
              "Fence            -1.993777\n",
              "ExterCond        -2.497719\n",
              "BsmtCond         -2.862585\n",
              "PavedDrive       -2.979084\n",
              "BsmtFinType2     -3.044328\n",
              "GarageQual       -3.074152\n",
              "CentralAir       -3.459022\n",
              "GarageCond       -3.595790\n",
              "GarageYrBlt      -3.906205\n",
              "Functional       -4.055757\n",
              "Street          -15.500133\n",
              "PoolQC          -20.723994\n",
              "dtype: float64"
            ]
          },
          "metadata": {
            "tags": []
          },
          "execution_count": 39
        }
      ]
    },
    {
      "cell_type": "code",
      "metadata": {
        "id": "z4YrcnM9BRb8",
        "colab_type": "code",
        "colab": {}
      },
      "source": [
        "high_skew = skew_numeric[skew_numeric > 0.5]\n",
        "fix_skew = high_skew.index"
      ],
      "execution_count": 40,
      "outputs": []
    },
    {
      "cell_type": "code",
      "metadata": {
        "id": "_fPbnMN4CXqu",
        "colab_type": "code",
        "colab": {}
      },
      "source": [
        "for i in fix_skew:\n",
        "    concat_data[i] = boxcox1p(concat_data[i], boxcox_normmax(concat_data[i] + 1))"
      ],
      "execution_count": 41,
      "outputs": []
    },
    {
      "cell_type": "markdown",
      "metadata": {
        "id": "dHuDHn7EHA1d",
        "colab_type": "text"
      },
      "source": [
        "# 9. Feature Engineering"
      ]
    },
    {
      "cell_type": "markdown",
      "metadata": {
        "id": "nrzZcyAVfvJ2",
        "colab_type": "text"
      },
      "source": [
        "Adding some new features to reduce complexity and dimensionality of data to make predictions easier. Because of time shortage I've only done some example features, which show how to do it. There are more possible features which can be created in the future, to improve the predicitions furthermore.\n",
        "https://www.kaggle.com/amiiiney/price-prediction-regularization-stacking"
      ]
    },
    {
      "cell_type": "code",
      "metadata": {
        "id": "TzBBvR3_HC2E",
        "colab_type": "code",
        "colab": {}
      },
      "source": [
        "#create a variable which shows the total area of a house in square feet\n",
        "concat_data['TotalSF'] = concat_data['TotalBsmtSF'] + concat_data['1stFlrSF'] + concat_data['2ndFlrSF'] + concat_data['GrLivArea'] + concat_data['GarageArea']"
      ],
      "execution_count": 42,
      "outputs": []
    },
    {
      "cell_type": "code",
      "metadata": {
        "id": "boKtyyyhJ3hc",
        "colab_type": "code",
        "colab": {}
      },
      "source": [
        "#create a variable which combines all types of porches\n",
        "concat_data['PorchSF'] = concat_data['WoodDeckSF'] + concat_data['OpenPorchSF'] + concat_data['EnclosedPorch'] + concat_data['3SsnPorch'] + concat_data['ScreenPorch']"
      ],
      "execution_count": 43,
      "outputs": []
    },
    {
      "cell_type": "code",
      "metadata": {
        "id": "arPIJ0g3KomY",
        "colab_type": "code",
        "colab": {}
      },
      "source": [
        "#create a variable which differs between having a pool and having no pool\n",
        "concat_data['gotPool'] = concat_data['PoolArea'].apply(lambda x: 1 if x > 0 else 0)"
      ],
      "execution_count": 44,
      "outputs": []
    },
    {
      "cell_type": "markdown",
      "metadata": {
        "id": "4mK9k_zNQNhH",
        "colab_type": "text"
      },
      "source": [
        "# 10. Get dummies and split up data"
      ]
    },
    {
      "cell_type": "markdown",
      "metadata": {
        "id": "dMaW0PrsfsvN",
        "colab_type": "text"
      },
      "source": [
        "Before we start modelling we need to change the rest of the categorical features to numerical ones, because the algorithms/models we gonna use work better with numerical features.\n",
        "\n",
        "Therefore, I decided to go with [pandas.get_dummies](https://pandas.pydata.org/pandas-docs/stable/reference/api/pandas.get_dummies.html), which converts categorical variables into dummy/indicator variables."
      ]
    },
    {
      "cell_type": "code",
      "metadata": {
        "id": "F3-ApqTsQOxX",
        "colab_type": "code",
        "colab": {
          "base_uri": "https://localhost:8080/",
          "height": 0
        },
        "outputId": "5856119f-7892-4e2d-ad0d-40104faf15eb"
      },
      "source": [
        "final_data = pd.get_dummies(concat_data)\n",
        "final_data.shape"
      ],
      "execution_count": 45,
      "outputs": [
        {
          "output_type": "execute_result",
          "data": {
            "text/plain": [
              "(2919, 225)"
            ]
          },
          "metadata": {
            "tags": []
          },
          "execution_count": 45
        }
      ]
    },
    {
      "cell_type": "code",
      "metadata": {
        "id": "JKwm_uk2tJOY",
        "colab_type": "code",
        "colab": {
          "base_uri": "https://localhost:8080/",
          "height": 0
        },
        "outputId": "f7b19a25-14ec-4740-a872-c1e9b1934cd2"
      },
      "source": [
        "final_data.head()"
      ],
      "execution_count": 46,
      "outputs": [
        {
          "output_type": "execute_result",
          "data": {
            "text/html": [
              "<div>\n",
              "<style scoped>\n",
              "    .dataframe tbody tr th:only-of-type {\n",
              "        vertical-align: middle;\n",
              "    }\n",
              "\n",
              "    .dataframe tbody tr th {\n",
              "        vertical-align: top;\n",
              "    }\n",
              "\n",
              "    .dataframe thead th {\n",
              "        text-align: right;\n",
              "    }\n",
              "</style>\n",
              "<table border=\"1\" class=\"dataframe\">\n",
              "  <thead>\n",
              "    <tr style=\"text-align: right;\">\n",
              "      <th></th>\n",
              "      <th>MSSubClass</th>\n",
              "      <th>LotFrontage</th>\n",
              "      <th>LotArea</th>\n",
              "      <th>Street</th>\n",
              "      <th>Alley</th>\n",
              "      <th>LotShape</th>\n",
              "      <th>LandSlope</th>\n",
              "      <th>OverallQual</th>\n",
              "      <th>OverallCond</th>\n",
              "      <th>YearBuilt</th>\n",
              "      <th>YearRemodAdd</th>\n",
              "      <th>MasVnrArea</th>\n",
              "      <th>ExterQual</th>\n",
              "      <th>ExterCond</th>\n",
              "      <th>BsmtQual</th>\n",
              "      <th>BsmtCond</th>\n",
              "      <th>BsmtExposure</th>\n",
              "      <th>BsmtFinType1</th>\n",
              "      <th>BsmtFinSF1</th>\n",
              "      <th>BsmtFinType2</th>\n",
              "      <th>BsmtFinSF2</th>\n",
              "      <th>BsmtUnfSF</th>\n",
              "      <th>TotalBsmtSF</th>\n",
              "      <th>HeatingQC</th>\n",
              "      <th>CentralAir</th>\n",
              "      <th>1stFlrSF</th>\n",
              "      <th>2ndFlrSF</th>\n",
              "      <th>LowQualFinSF</th>\n",
              "      <th>GrLivArea</th>\n",
              "      <th>BsmtFullBath</th>\n",
              "      <th>BsmtHalfBath</th>\n",
              "      <th>FullBath</th>\n",
              "      <th>HalfBath</th>\n",
              "      <th>BedroomAbvGr</th>\n",
              "      <th>KitchenAbvGr</th>\n",
              "      <th>KitchenQual</th>\n",
              "      <th>TotRmsAbvGrd</th>\n",
              "      <th>Functional</th>\n",
              "      <th>Fireplaces</th>\n",
              "      <th>FireplaceQu</th>\n",
              "      <th>...</th>\n",
              "      <th>Foundation_Stone</th>\n",
              "      <th>Foundation_Wood</th>\n",
              "      <th>Heating_Floor</th>\n",
              "      <th>Heating_GasA</th>\n",
              "      <th>Heating_GasW</th>\n",
              "      <th>Heating_Grav</th>\n",
              "      <th>Heating_OthW</th>\n",
              "      <th>Heating_Wall</th>\n",
              "      <th>Electrical_FuseA</th>\n",
              "      <th>Electrical_FuseF</th>\n",
              "      <th>Electrical_FuseP</th>\n",
              "      <th>Electrical_Mix</th>\n",
              "      <th>Electrical_SBrkr</th>\n",
              "      <th>GarageType_2Types</th>\n",
              "      <th>GarageType_Attchd</th>\n",
              "      <th>GarageType_Basment</th>\n",
              "      <th>GarageType_BuiltIn</th>\n",
              "      <th>GarageType_CarPort</th>\n",
              "      <th>GarageType_Detchd</th>\n",
              "      <th>GarageType_None</th>\n",
              "      <th>MiscFeature_Gar2</th>\n",
              "      <th>MiscFeature_None</th>\n",
              "      <th>MiscFeature_Othr</th>\n",
              "      <th>MiscFeature_Shed</th>\n",
              "      <th>MiscFeature_TenC</th>\n",
              "      <th>SaleType_COD</th>\n",
              "      <th>SaleType_CWD</th>\n",
              "      <th>SaleType_Con</th>\n",
              "      <th>SaleType_ConLD</th>\n",
              "      <th>SaleType_ConLI</th>\n",
              "      <th>SaleType_ConLw</th>\n",
              "      <th>SaleType_New</th>\n",
              "      <th>SaleType_Oth</th>\n",
              "      <th>SaleType_WD</th>\n",
              "      <th>SaleCondition_Abnorml</th>\n",
              "      <th>SaleCondition_AdjLand</th>\n",
              "      <th>SaleCondition_Alloca</th>\n",
              "      <th>SaleCondition_Family</th>\n",
              "      <th>SaleCondition_Normal</th>\n",
              "      <th>SaleCondition_Partial</th>\n",
              "    </tr>\n",
              "  </thead>\n",
              "  <tbody>\n",
              "    <tr>\n",
              "      <th>0</th>\n",
              "      <td>10</td>\n",
              "      <td>14.663551</td>\n",
              "      <td>13.424520</td>\n",
              "      <td>1</td>\n",
              "      <td>1</td>\n",
              "      <td>3</td>\n",
              "      <td>0.0</td>\n",
              "      <td>7</td>\n",
              "      <td>3.466137</td>\n",
              "      <td>2003</td>\n",
              "      <td>2003</td>\n",
              "      <td>19.378557</td>\n",
              "      <td>2</td>\n",
              "      <td>4</td>\n",
              "      <td>2</td>\n",
              "      <td>4</td>\n",
              "      <td>3</td>\n",
              "      <td>2</td>\n",
              "      <td>117.855863</td>\n",
              "      <td>6</td>\n",
              "      <td>0.0</td>\n",
              "      <td>30.016555</td>\n",
              "      <td>296.832338</td>\n",
              "      <td>0</td>\n",
              "      <td>1</td>\n",
              "      <td>5.318379</td>\n",
              "      <td>1019.540733</td>\n",
              "      <td>0.0</td>\n",
              "      <td>7.234115</td>\n",
              "      <td>0.992784</td>\n",
              "      <td>0.00000</td>\n",
              "      <td>2</td>\n",
              "      <td>1.069352</td>\n",
              "      <td>3</td>\n",
              "      <td>0.75096</td>\n",
              "      <td>2</td>\n",
              "      <td>2.238463</td>\n",
              "      <td>6</td>\n",
              "      <td>0.000000</td>\n",
              "      <td>3</td>\n",
              "      <td>...</td>\n",
              "      <td>0</td>\n",
              "      <td>0</td>\n",
              "      <td>0</td>\n",
              "      <td>1</td>\n",
              "      <td>0</td>\n",
              "      <td>0</td>\n",
              "      <td>0</td>\n",
              "      <td>0</td>\n",
              "      <td>0</td>\n",
              "      <td>0</td>\n",
              "      <td>0</td>\n",
              "      <td>0</td>\n",
              "      <td>1</td>\n",
              "      <td>0</td>\n",
              "      <td>1</td>\n",
              "      <td>0</td>\n",
              "      <td>0</td>\n",
              "      <td>0</td>\n",
              "      <td>0</td>\n",
              "      <td>0</td>\n",
              "      <td>0</td>\n",
              "      <td>1</td>\n",
              "      <td>0</td>\n",
              "      <td>0</td>\n",
              "      <td>0</td>\n",
              "      <td>0</td>\n",
              "      <td>0</td>\n",
              "      <td>0</td>\n",
              "      <td>0</td>\n",
              "      <td>0</td>\n",
              "      <td>0</td>\n",
              "      <td>0</td>\n",
              "      <td>0</td>\n",
              "      <td>1</td>\n",
              "      <td>0</td>\n",
              "      <td>0</td>\n",
              "      <td>0</td>\n",
              "      <td>0</td>\n",
              "      <td>1</td>\n",
              "      <td>0</td>\n",
              "    </tr>\n",
              "    <tr>\n",
              "      <th>1</th>\n",
              "      <td>5</td>\n",
              "      <td>16.494889</td>\n",
              "      <td>13.694527</td>\n",
              "      <td>1</td>\n",
              "      <td>1</td>\n",
              "      <td>3</td>\n",
              "      <td>0.0</td>\n",
              "      <td>6</td>\n",
              "      <td>5.762683</td>\n",
              "      <td>1976</td>\n",
              "      <td>1976</td>\n",
              "      <td>0.000000</td>\n",
              "      <td>3</td>\n",
              "      <td>4</td>\n",
              "      <td>2</td>\n",
              "      <td>4</td>\n",
              "      <td>1</td>\n",
              "      <td>0</td>\n",
              "      <td>146.805798</td>\n",
              "      <td>6</td>\n",
              "      <td>0.0</td>\n",
              "      <td>44.178889</td>\n",
              "      <td>407.302427</td>\n",
              "      <td>0</td>\n",
              "      <td>1</td>\n",
              "      <td>5.550627</td>\n",
              "      <td>0.000000</td>\n",
              "      <td>0.0</td>\n",
              "      <td>6.947212</td>\n",
              "      <td>0.000000</td>\n",
              "      <td>0.71081</td>\n",
              "      <td>2</td>\n",
              "      <td>0.000000</td>\n",
              "      <td>3</td>\n",
              "      <td>0.75096</td>\n",
              "      <td>3</td>\n",
              "      <td>1.978208</td>\n",
              "      <td>6</td>\n",
              "      <td>0.900816</td>\n",
              "      <td>5</td>\n",
              "      <td>...</td>\n",
              "      <td>0</td>\n",
              "      <td>0</td>\n",
              "      <td>0</td>\n",
              "      <td>1</td>\n",
              "      <td>0</td>\n",
              "      <td>0</td>\n",
              "      <td>0</td>\n",
              "      <td>0</td>\n",
              "      <td>0</td>\n",
              "      <td>0</td>\n",
              "      <td>0</td>\n",
              "      <td>0</td>\n",
              "      <td>1</td>\n",
              "      <td>0</td>\n",
              "      <td>1</td>\n",
              "      <td>0</td>\n",
              "      <td>0</td>\n",
              "      <td>0</td>\n",
              "      <td>0</td>\n",
              "      <td>0</td>\n",
              "      <td>0</td>\n",
              "      <td>1</td>\n",
              "      <td>0</td>\n",
              "      <td>0</td>\n",
              "      <td>0</td>\n",
              "      <td>0</td>\n",
              "      <td>0</td>\n",
              "      <td>0</td>\n",
              "      <td>0</td>\n",
              "      <td>0</td>\n",
              "      <td>0</td>\n",
              "      <td>0</td>\n",
              "      <td>0</td>\n",
              "      <td>1</td>\n",
              "      <td>0</td>\n",
              "      <td>0</td>\n",
              "      <td>0</td>\n",
              "      <td>0</td>\n",
              "      <td>1</td>\n",
              "      <td>0</td>\n",
              "    </tr>\n",
              "    <tr>\n",
              "      <th>2</th>\n",
              "      <td>10</td>\n",
              "      <td>15.044953</td>\n",
              "      <td>14.034133</td>\n",
              "      <td>1</td>\n",
              "      <td>1</td>\n",
              "      <td>0</td>\n",
              "      <td>0.0</td>\n",
              "      <td>7</td>\n",
              "      <td>3.466137</td>\n",
              "      <td>2001</td>\n",
              "      <td>2002</td>\n",
              "      <td>17.721069</td>\n",
              "      <td>2</td>\n",
              "      <td>4</td>\n",
              "      <td>2</td>\n",
              "      <td>4</td>\n",
              "      <td>2</td>\n",
              "      <td>2</td>\n",
              "      <td>91.575284</td>\n",
              "      <td>6</td>\n",
              "      <td>0.0</td>\n",
              "      <td>56.957796</td>\n",
              "      <td>314.805067</td>\n",
              "      <td>0</td>\n",
              "      <td>1</td>\n",
              "      <td>5.362015</td>\n",
              "      <td>1034.306417</td>\n",
              "      <td>0.0</td>\n",
              "      <td>7.275132</td>\n",
              "      <td>0.992784</td>\n",
              "      <td>0.00000</td>\n",
              "      <td>2</td>\n",
              "      <td>1.069352</td>\n",
              "      <td>3</td>\n",
              "      <td>0.75096</td>\n",
              "      <td>2</td>\n",
              "      <td>1.978208</td>\n",
              "      <td>6</td>\n",
              "      <td>0.900816</td>\n",
              "      <td>5</td>\n",
              "      <td>...</td>\n",
              "      <td>0</td>\n",
              "      <td>0</td>\n",
              "      <td>0</td>\n",
              "      <td>1</td>\n",
              "      <td>0</td>\n",
              "      <td>0</td>\n",
              "      <td>0</td>\n",
              "      <td>0</td>\n",
              "      <td>0</td>\n",
              "      <td>0</td>\n",
              "      <td>0</td>\n",
              "      <td>0</td>\n",
              "      <td>1</td>\n",
              "      <td>0</td>\n",
              "      <td>1</td>\n",
              "      <td>0</td>\n",
              "      <td>0</td>\n",
              "      <td>0</td>\n",
              "      <td>0</td>\n",
              "      <td>0</td>\n",
              "      <td>0</td>\n",
              "      <td>1</td>\n",
              "      <td>0</td>\n",
              "      <td>0</td>\n",
              "      <td>0</td>\n",
              "      <td>0</td>\n",
              "      <td>0</td>\n",
              "      <td>0</td>\n",
              "      <td>0</td>\n",
              "      <td>0</td>\n",
              "      <td>0</td>\n",
              "      <td>0</td>\n",
              "      <td>0</td>\n",
              "      <td>1</td>\n",
              "      <td>0</td>\n",
              "      <td>0</td>\n",
              "      <td>0</td>\n",
              "      <td>0</td>\n",
              "      <td>1</td>\n",
              "      <td>0</td>\n",
              "    </tr>\n",
              "    <tr>\n",
              "      <th>3</th>\n",
              "      <td>11</td>\n",
              "      <td>14.008495</td>\n",
              "      <td>13.683421</td>\n",
              "      <td>1</td>\n",
              "      <td>1</td>\n",
              "      <td>0</td>\n",
              "      <td>0.0</td>\n",
              "      <td>7</td>\n",
              "      <td>3.466137</td>\n",
              "      <td>1915</td>\n",
              "      <td>1970</td>\n",
              "      <td>0.000000</td>\n",
              "      <td>3</td>\n",
              "      <td>4</td>\n",
              "      <td>4</td>\n",
              "      <td>1</td>\n",
              "      <td>3</td>\n",
              "      <td>0</td>\n",
              "      <td>52.776367</td>\n",
              "      <td>6</td>\n",
              "      <td>0.0</td>\n",
              "      <td>64.881737</td>\n",
              "      <td>268.234296</td>\n",
              "      <td>2</td>\n",
              "      <td>1</td>\n",
              "      <td>5.388291</td>\n",
              "      <td>899.200533</td>\n",
              "      <td>0.0</td>\n",
              "      <td>7.237969</td>\n",
              "      <td>0.992784</td>\n",
              "      <td>0.00000</td>\n",
              "      <td>1</td>\n",
              "      <td>0.000000</td>\n",
              "      <td>3</td>\n",
              "      <td>0.75096</td>\n",
              "      <td>2</td>\n",
              "      <td>2.116352</td>\n",
              "      <td>6</td>\n",
              "      <td>0.900816</td>\n",
              "      <td>2</td>\n",
              "      <td>...</td>\n",
              "      <td>0</td>\n",
              "      <td>0</td>\n",
              "      <td>0</td>\n",
              "      <td>1</td>\n",
              "      <td>0</td>\n",
              "      <td>0</td>\n",
              "      <td>0</td>\n",
              "      <td>0</td>\n",
              "      <td>0</td>\n",
              "      <td>0</td>\n",
              "      <td>0</td>\n",
              "      <td>0</td>\n",
              "      <td>1</td>\n",
              "      <td>0</td>\n",
              "      <td>0</td>\n",
              "      <td>0</td>\n",
              "      <td>0</td>\n",
              "      <td>0</td>\n",
              "      <td>1</td>\n",
              "      <td>0</td>\n",
              "      <td>0</td>\n",
              "      <td>1</td>\n",
              "      <td>0</td>\n",
              "      <td>0</td>\n",
              "      <td>0</td>\n",
              "      <td>0</td>\n",
              "      <td>0</td>\n",
              "      <td>0</td>\n",
              "      <td>0</td>\n",
              "      <td>0</td>\n",
              "      <td>0</td>\n",
              "      <td>0</td>\n",
              "      <td>0</td>\n",
              "      <td>1</td>\n",
              "      <td>1</td>\n",
              "      <td>0</td>\n",
              "      <td>0</td>\n",
              "      <td>0</td>\n",
              "      <td>0</td>\n",
              "      <td>0</td>\n",
              "    </tr>\n",
              "    <tr>\n",
              "      <th>4</th>\n",
              "      <td>10</td>\n",
              "      <td>16.954474</td>\n",
              "      <td>14.550142</td>\n",
              "      <td>1</td>\n",
              "      <td>1</td>\n",
              "      <td>0</td>\n",
              "      <td>0.0</td>\n",
              "      <td>8</td>\n",
              "      <td>3.466137</td>\n",
              "      <td>2000</td>\n",
              "      <td>2000</td>\n",
              "      <td>25.323127</td>\n",
              "      <td>2</td>\n",
              "      <td>4</td>\n",
              "      <td>2</td>\n",
              "      <td>4</td>\n",
              "      <td>0</td>\n",
              "      <td>2</td>\n",
              "      <td>112.040325</td>\n",
              "      <td>6</td>\n",
              "      <td>0.0</td>\n",
              "      <td>61.233859</td>\n",
              "      <td>376.259375</td>\n",
              "      <td>0</td>\n",
              "      <td>1</td>\n",
              "      <td>5.493032</td>\n",
              "      <td>1265.167706</td>\n",
              "      <td>0.0</td>\n",
              "      <td>7.470741</td>\n",
              "      <td>0.992784</td>\n",
              "      <td>0.00000</td>\n",
              "      <td>2</td>\n",
              "      <td>1.069352</td>\n",
              "      <td>4</td>\n",
              "      <td>0.75096</td>\n",
              "      <td>2</td>\n",
              "      <td>2.347900</td>\n",
              "      <td>6</td>\n",
              "      <td>0.900816</td>\n",
              "      <td>5</td>\n",
              "      <td>...</td>\n",
              "      <td>0</td>\n",
              "      <td>0</td>\n",
              "      <td>0</td>\n",
              "      <td>1</td>\n",
              "      <td>0</td>\n",
              "      <td>0</td>\n",
              "      <td>0</td>\n",
              "      <td>0</td>\n",
              "      <td>0</td>\n",
              "      <td>0</td>\n",
              "      <td>0</td>\n",
              "      <td>0</td>\n",
              "      <td>1</td>\n",
              "      <td>0</td>\n",
              "      <td>1</td>\n",
              "      <td>0</td>\n",
              "      <td>0</td>\n",
              "      <td>0</td>\n",
              "      <td>0</td>\n",
              "      <td>0</td>\n",
              "      <td>0</td>\n",
              "      <td>1</td>\n",
              "      <td>0</td>\n",
              "      <td>0</td>\n",
              "      <td>0</td>\n",
              "      <td>0</td>\n",
              "      <td>0</td>\n",
              "      <td>0</td>\n",
              "      <td>0</td>\n",
              "      <td>0</td>\n",
              "      <td>0</td>\n",
              "      <td>0</td>\n",
              "      <td>0</td>\n",
              "      <td>1</td>\n",
              "      <td>0</td>\n",
              "      <td>0</td>\n",
              "      <td>0</td>\n",
              "      <td>0</td>\n",
              "      <td>1</td>\n",
              "      <td>0</td>\n",
              "    </tr>\n",
              "  </tbody>\n",
              "</table>\n",
              "<p>5 rows × 225 columns</p>\n",
              "</div>"
            ],
            "text/plain": [
              "   MSSubClass  LotFrontage  ...  SaleCondition_Normal  SaleCondition_Partial\n",
              "0          10    14.663551  ...                     1                      0\n",
              "1           5    16.494889  ...                     1                      0\n",
              "2          10    15.044953  ...                     1                      0\n",
              "3          11    14.008495  ...                     0                      0\n",
              "4          10    16.954474  ...                     1                      0\n",
              "\n",
              "[5 rows x 225 columns]"
            ]
          },
          "metadata": {
            "tags": []
          },
          "execution_count": 46
        }
      ]
    },
    {
      "cell_type": "code",
      "metadata": {
        "id": "-e1ZD4Jquc3N",
        "colab_type": "code",
        "colab": {
          "base_uri": "https://localhost:8080/",
          "height": 0
        },
        "outputId": "8ff2c4cb-8d59-46fb-fb80-bfe866f77707"
      },
      "source": [
        "#split up the concatenated data again in train and test\n",
        "train = final_data[:ntrain]\n",
        "test = final_data[ntrain:]\n",
        "print(train.shape)\n",
        "print(test.shape)"
      ],
      "execution_count": 47,
      "outputs": [
        {
          "output_type": "stream",
          "text": [
            "(1460, 225)\n",
            "(1459, 225)\n"
          ],
          "name": "stdout"
        }
      ]
    },
    {
      "cell_type": "code",
      "metadata": {
        "id": "KOvchgbv1Dll",
        "colab_type": "code",
        "colab": {}
      },
      "source": [
        "X = train"
      ],
      "execution_count": 48,
      "outputs": []
    },
    {
      "cell_type": "code",
      "metadata": {
        "id": "dpuyBPX3uL-M",
        "colab_type": "code",
        "colab": {
          "base_uri": "https://localhost:8080/",
          "height": 0
        },
        "outputId": "65494eaa-1a5f-4e7d-aa7c-b7d40897a003"
      },
      "source": [
        "#split the train data into train and test sets\n",
        "X_train, X_test, y_train, y_test = train_test_split(X, y, test_size=0.3, random_state=42)\n",
        "#show the shape of the train and test sets\n",
        "print(X_train.shape,y_train.shape,X_test.shape,y_test.shape)"
      ],
      "execution_count": 49,
      "outputs": [
        {
          "output_type": "stream",
          "text": [
            "(1022, 225) (1022,) (438, 225) (438,)\n"
          ],
          "name": "stdout"
        }
      ]
    },
    {
      "cell_type": "markdown",
      "metadata": {
        "id": "RtkivvNX9Ip_",
        "colab_type": "text"
      },
      "source": [
        "# 11. Modelling"
      ]
    },
    {
      "cell_type": "markdown",
      "metadata": {
        "id": "n7-_sIqB0Z2r",
        "colab_type": "text"
      },
      "source": [
        "Defining the scores which we take to check the performance of the different models."
      ]
    },
    {
      "cell_type": "code",
      "metadata": {
        "id": "cOhNrHFw_b2Y",
        "colab_type": "code",
        "colab": {}
      },
      "source": [
        "def rmse(model, X, y):\n",
        "    rmse= np.sqrt(-cross_val_score(model, X, y, scoring=\"neg_mean_squared_error\", cv = 10))\n",
        "    return rmse\n",
        "\n",
        "def rmsle(y, y_pred):\n",
        "    return np.sqrt(mean_squared_error(y, y_pred))"
      ],
      "execution_count": 50,
      "outputs": []
    },
    {
      "cell_type": "markdown",
      "metadata": {
        "id": "Z9Keg5zVx9pg",
        "colab_type": "text"
      },
      "source": [
        "## Setting up the chosen models\n",
        "\n",
        "I decided to do 5 different regression techniques, which are all part of scikit learn, and to compare the results afterwards. \n",
        "The regression techniques are:\n",
        "*   [RidgeCV](https://scikit-learn.org/stable/modules/generated/sklearn.linear_model.RidgeCV.html)\n",
        "*  [LassoCV](https://scikit-learn.org/stable/modules/generated/sklearn.linear_model.LassoCV.html)\n",
        "*   [ElasticNetCV](https://scikit-learn.org/stable/modules/generated/sklearn.linear_model.ElasticNetCV.html)\n",
        "*   [RandomForestRegressor](https://scikit-learn.org/stable/modules/generated/sklearn.ensemble.RandomForestRegressor.html) (suggested by Kaggle challenge overview)\n",
        "*   [GradientBoostingRegression](https://scikit-learn.org/stable/modules/generated/sklearn.ensemble.GradientBoostingRegressor.html) (suggested by Kaggle challenge overview)"
      ]
    },
    {
      "cell_type": "code",
      "metadata": {
        "id": "hHsrOREJFMqC",
        "colab_type": "code",
        "colab": {}
      },
      "source": [
        "#set up all models \n",
        "#LassoCV\n",
        "lasso_alphas = [0.0001, 0.0005, 0.001, 0.005, 0.01, 0.05, 0.1, 0.5, 1]\n",
        "lasso = make_pipeline(RobustScaler(), LassoCV(alphas = lasso_alphas, max_iter = 10000, random_state = 1))\n",
        "\n",
        "#RidgeCV\n",
        "ridge_alphas = [1e-10,1e-8,1e-5,1e-4,1e-3,1e-2,0.5,1,1.5,2,3,4,5,10,20,30,40]\n",
        "ridge = make_pipeline(RobustScaler(), RidgeCV(alphas=ridge_alphas))\n",
        "\n",
        "#ElasticNetCV\n",
        "elnet_alphas = [0.0001, 0.0002, 0.0003, 0.0004, 0.0005, 0.0006, 0.0007]\n",
        "elnet_l1ratio = [0.8, 0.85, 0.9, 0.95, 0.99, 1]\n",
        "elnet = make_pipeline(RobustScaler(), ElasticNetCV(max_iter=100000, alphas=elnet_alphas, l1_ratio=elnet_l1ratio, random_state = 1))\n",
        "\n",
        "#GradientBoostingRegressor\n",
        "gboost = GradientBoostingRegressor(n_estimators=2000, learning_rate=0.05,\n",
        "                                   max_depth=3, max_features='sqrt',\n",
        "                                   min_samples_leaf=15, min_samples_split=10, \n",
        "                                   loss='huber', random_state=42)\n",
        "\n",
        "#RandomForestRegressor\n",
        "rf = RandomForestRegressor(n_estimators=1200,\n",
        "                          max_depth=15,\n",
        "                          min_samples_split=5,\n",
        "                          min_samples_leaf=5,\n",
        "                          max_features=None,\n",
        "                          oob_score=True,\n",
        "                          random_state=42)"
      ],
      "execution_count": 51,
      "outputs": []
    },
    {
      "cell_type": "markdown",
      "metadata": {
        "id": "iQyd22aiy83S",
        "colab_type": "text"
      },
      "source": [
        "## Calculate the RMSE of all models\n",
        "\n",
        "I calculated the Root Mean Square Error of all models to check the performance and to be able to compare all models.\n",
        "\n",
        "The lower the RMSE score, the better the model."
      ]
    },
    {
      "cell_type": "code",
      "metadata": {
        "id": "zL3XMJjH90L6",
        "colab_type": "code",
        "colab": {
          "base_uri": "https://localhost:8080/",
          "height": 0
        },
        "outputId": "052ced77-0768-48cd-d1f1-358ea0624764"
      },
      "source": [
        "#show  Root Mean Square Error (RMSE) of all models\n",
        "score = rmse(lasso, X_train, y_train)\n",
        "print(\"Lasso score: {:.4f} ({:.4f})\\n\".format(score.mean(), score.std()))\n",
        "score = rmse(ridge, X_train, y_train)\n",
        "print(\"Ridge score: {:.4f} ({:.4f})\\n\".format(score.mean(), score.std()))\n",
        "score = rmse(elnet, X_train, y_train)\n",
        "print(\"ElNet score: {:.4f} ({:.4f})\\n\".format(score.mean(), score.std()))\n",
        "score = rmse(gboost, X_train, y_train)\n",
        "print(\"GBoost score: {:.4f} ({:.4f})\\n\".format(score.mean(), score.std()))\n",
        "score = rmse(rf, X_train, y_train)\n",
        "print(\"Random Forest score: {:.4f} ({:.4f})\\n\".format(score.mean(), score.std()))"
      ],
      "execution_count": 52,
      "outputs": [
        {
          "output_type": "stream",
          "text": [
            "Lasso score: 0.1343 (0.0371)\n",
            "\n",
            "Ridge score: 0.1323 (0.0377)\n",
            "\n",
            "ElNet score: 0.1403 (0.0438)\n",
            "\n",
            "GBoost score: 0.1192 (0.0266)\n",
            "\n",
            "Random Forest score: 0.1518 (0.0247)\n",
            "\n"
          ],
          "name": "stdout"
        }
      ]
    },
    {
      "cell_type": "markdown",
      "metadata": {
        "id": "ABHfSaarzaaJ",
        "colab_type": "text"
      },
      "source": [
        "## Fitting the models"
      ]
    },
    {
      "cell_type": "code",
      "metadata": {
        "id": "GA2Wm0CNLVzL",
        "colab_type": "code",
        "colab": {}
      },
      "source": [
        "#fitting all models\n",
        "lasso_model = lasso.fit(X_train, y_train)\n",
        "ridge_model = ridge.fit(X_train, y_train)\n",
        "elnet_model = elnet.fit(X_train, y_train)\n",
        "gboost_model = gboost.fit(X_train, y_train)\n",
        "rf_model = rf.fit(X_train, y_train)"
      ],
      "execution_count": 53,
      "outputs": []
    },
    {
      "cell_type": "markdown",
      "metadata": {
        "id": "BZOZAUNLzhtH",
        "colab_type": "text"
      },
      "source": [
        "## Making predictions"
      ]
    },
    {
      "cell_type": "code",
      "metadata": {
        "id": "2xii99OlTKyT",
        "colab_type": "code",
        "colab": {}
      },
      "source": [
        "lasso_train_pred = lasso_model.predict(train)\n",
        "finallasso = np.expm1(lasso_model.predict(test))\n",
        "\n",
        "ridge_train_pred = ridge_model.predict(train)\n",
        "finalridge = np.expm1(ridge_model.predict(test))\n",
        "\n",
        "elnet_train_pred = elnet_model.predict(train)\n",
        "finalelnet = np.expm1(elnet_model.predict(test))\n",
        "\n",
        "gboost_train_pred = gboost_model.predict(train)\n",
        "finalgboost = np.expm1(gboost_model.predict(test))\n",
        "\n",
        "rf_train_pred = rf_model.predict(train)\n",
        "finalrf = np.expm1(rf_model.predict(test))"
      ],
      "execution_count": 54,
      "outputs": []
    },
    {
      "cell_type": "code",
      "metadata": {
        "id": "ou9coaiWP9by",
        "colab_type": "code",
        "colab": {
          "base_uri": "https://localhost:8080/",
          "height": 0
        },
        "outputId": "41cabe46-3ca2-46b4-ff8b-24e762f6b4a2"
      },
      "source": [
        "print(rmsle(y, rf_train_pred))\n",
        "#macht das Sinn???"
      ],
      "execution_count": 55,
      "outputs": [
        {
          "output_type": "stream",
          "text": [
            "0.11182835587380123\n"
          ],
          "name": "stdout"
        }
      ]
    },
    {
      "cell_type": "markdown",
      "metadata": {
        "id": "pIIHQj4X0HiK",
        "colab_type": "text"
      },
      "source": [
        "## Calculating the average SalePrice out of all predicted values"
      ]
    },
    {
      "cell_type": "markdown",
      "metadata": {
        "id": "x0MhFPnEWkdx",
        "colab_type": "text"
      },
      "source": [
        "My first idea was to simply take the predicted values from all models and divide them by the number of models. Consequently, the result is the average predicted SalePrice."
      ]
    },
    {
      "cell_type": "code",
      "metadata": {
        "id": "cMm6KpuLVjZD",
        "colab_type": "code",
        "colab": {}
      },
      "source": [
        "#calculate the average SalePrice out of all models\n",
        "average = (finallasso + finalridge + finalelnet + finalgboost + finalrf) / 5"
      ],
      "execution_count": 56,
      "outputs": []
    },
    {
      "cell_type": "markdown",
      "metadata": {
        "id": "g8NLHE0m0Sg6",
        "colab_type": "text"
      },
      "source": [
        "## Stacking\n",
        "\n",
        "After combining the different models in an easy way by just taking the average SalePrice out of all five models, I decided to try Stacking as well. \n",
        "\n",
        "I used gboost as the meta_regressor because it has the best RMSE score."
      ]
    },
    {
      "cell_type": "code",
      "metadata": {
        "id": "LEHE4ZzPEL3E",
        "colab_type": "code",
        "colab": {}
      },
      "source": [
        "#stack = StackingCVRegressor(regressors=(lasso, ridge, elnet, rf),\n",
        "#                                meta_regressor= gboost,\n",
        "#                                use_features_in_secondary=True)"
      ],
      "execution_count": 57,
      "outputs": []
    },
    {
      "cell_type": "code",
      "metadata": {
        "id": "BdICOss01Svp",
        "colab_type": "code",
        "colab": {}
      },
      "source": [
        "#stack_model = stack.fit(np.array(X_train), np.array(y_train))"
      ],
      "execution_count": 58,
      "outputs": []
    },
    {
      "cell_type": "code",
      "metadata": {
        "id": "WTefA0zM1GPP",
        "colab_type": "code",
        "colab": {}
      },
      "source": [
        "#stack_train_pred = stack_model.predict(train)"
      ],
      "execution_count": 59,
      "outputs": []
    },
    {
      "cell_type": "code",
      "metadata": {
        "id": "i_p3Nf2OOmdo",
        "colab_type": "code",
        "colab": {}
      },
      "source": [
        "#finalstack = np.expm1(stack_model.predict(test))"
      ],
      "execution_count": 60,
      "outputs": []
    },
    {
      "cell_type": "code",
      "metadata": {
        "id": "xiIvJhIOOtvb",
        "colab_type": "code",
        "colab": {}
      },
      "source": [
        "#finalstack"
      ],
      "execution_count": 61,
      "outputs": []
    },
    {
      "cell_type": "markdown",
      "metadata": {
        "id": "temJ4SqwXUWq",
        "colab_type": "text"
      },
      "source": [
        "# 12. Submission"
      ]
    },
    {
      "cell_type": "code",
      "metadata": {
        "id": "plXC4LUWXpwJ",
        "colab_type": "code",
        "colab": {
          "base_uri": "https://localhost:8080/",
          "height": 0
        },
        "outputId": "049dc9ff-32cb-458e-8d48-a185f85e8e12"
      },
      "source": [
        "final_submission = pd.DataFrame({\n",
        "        \"Id\": test_id,\n",
        "        \"SalePrice\": average\n",
        "    })\n",
        "final_submission.to_csv(\"final_submission.csv\", index=False)\n",
        "final_submission.head()"
      ],
      "execution_count": 62,
      "outputs": [
        {
          "output_type": "execute_result",
          "data": {
            "text/html": [
              "<div>\n",
              "<style scoped>\n",
              "    .dataframe tbody tr th:only-of-type {\n",
              "        vertical-align: middle;\n",
              "    }\n",
              "\n",
              "    .dataframe tbody tr th {\n",
              "        vertical-align: top;\n",
              "    }\n",
              "\n",
              "    .dataframe thead th {\n",
              "        text-align: right;\n",
              "    }\n",
              "</style>\n",
              "<table border=\"1\" class=\"dataframe\">\n",
              "  <thead>\n",
              "    <tr style=\"text-align: right;\">\n",
              "      <th></th>\n",
              "      <th>Id</th>\n",
              "      <th>SalePrice</th>\n",
              "    </tr>\n",
              "  </thead>\n",
              "  <tbody>\n",
              "    <tr>\n",
              "      <th>0</th>\n",
              "      <td>1461</td>\n",
              "      <td>120302.745547</td>\n",
              "    </tr>\n",
              "    <tr>\n",
              "      <th>1</th>\n",
              "      <td>1462</td>\n",
              "      <td>154100.157981</td>\n",
              "    </tr>\n",
              "    <tr>\n",
              "      <th>2</th>\n",
              "      <td>1463</td>\n",
              "      <td>180697.617019</td>\n",
              "    </tr>\n",
              "    <tr>\n",
              "      <th>3</th>\n",
              "      <td>1464</td>\n",
              "      <td>192199.709578</td>\n",
              "    </tr>\n",
              "    <tr>\n",
              "      <th>4</th>\n",
              "      <td>1465</td>\n",
              "      <td>199038.058051</td>\n",
              "    </tr>\n",
              "  </tbody>\n",
              "</table>\n",
              "</div>"
            ],
            "text/plain": [
              "     Id      SalePrice\n",
              "0  1461  120302.745547\n",
              "1  1462  154100.157981\n",
              "2  1463  180697.617019\n",
              "3  1464  192199.709578\n",
              "4  1465  199038.058051"
            ]
          },
          "metadata": {
            "tags": []
          },
          "execution_count": 62
        }
      ]
    },
    {
      "cell_type": "code",
      "metadata": {
        "id": "PZ8OO8l6bvJ0",
        "colab_type": "code",
        "colab": {
          "base_uri": "https://localhost:8080/",
          "height": 0
        },
        "outputId": "af13f8b5-dbaf-472c-fe44-c78a36530177"
      },
      "source": [
        "sub = pd.DataFrame()\n",
        "sub['Id'] = test_id\n",
        "sub['SalePrice'] = average\n",
        "sub.to_csv('submission.csv',index=False)\n",
        "sub.head()"
      ],
      "execution_count": 63,
      "outputs": [
        {
          "output_type": "execute_result",
          "data": {
            "text/html": [
              "<div>\n",
              "<style scoped>\n",
              "    .dataframe tbody tr th:only-of-type {\n",
              "        vertical-align: middle;\n",
              "    }\n",
              "\n",
              "    .dataframe tbody tr th {\n",
              "        vertical-align: top;\n",
              "    }\n",
              "\n",
              "    .dataframe thead th {\n",
              "        text-align: right;\n",
              "    }\n",
              "</style>\n",
              "<table border=\"1\" class=\"dataframe\">\n",
              "  <thead>\n",
              "    <tr style=\"text-align: right;\">\n",
              "      <th></th>\n",
              "      <th>Id</th>\n",
              "      <th>SalePrice</th>\n",
              "    </tr>\n",
              "  </thead>\n",
              "  <tbody>\n",
              "    <tr>\n",
              "      <th>0</th>\n",
              "      <td>1461</td>\n",
              "      <td>120302.745547</td>\n",
              "    </tr>\n",
              "    <tr>\n",
              "      <th>1</th>\n",
              "      <td>1462</td>\n",
              "      <td>154100.157981</td>\n",
              "    </tr>\n",
              "    <tr>\n",
              "      <th>2</th>\n",
              "      <td>1463</td>\n",
              "      <td>180697.617019</td>\n",
              "    </tr>\n",
              "    <tr>\n",
              "      <th>3</th>\n",
              "      <td>1464</td>\n",
              "      <td>192199.709578</td>\n",
              "    </tr>\n",
              "    <tr>\n",
              "      <th>4</th>\n",
              "      <td>1465</td>\n",
              "      <td>199038.058051</td>\n",
              "    </tr>\n",
              "  </tbody>\n",
              "</table>\n",
              "</div>"
            ],
            "text/plain": [
              "     Id      SalePrice\n",
              "0  1461  120302.745547\n",
              "1  1462  154100.157981\n",
              "2  1463  180697.617019\n",
              "3  1464  192199.709578\n",
              "4  1465  199038.058051"
            ]
          },
          "metadata": {
            "tags": []
          },
          "execution_count": 63
        }
      ]
    },
    {
      "cell_type": "code",
      "metadata": {
        "id": "vQGKu66FcCh1",
        "colab_type": "code",
        "colab": {}
      },
      "source": [
        ""
      ],
      "execution_count": 63,
      "outputs": []
    }
  ]
}
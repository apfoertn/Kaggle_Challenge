{
  "nbformat": 4,
  "nbformat_minor": 0,
  "metadata": {
    "colab": {
      "name": "Kopie von Kaggle_Houses.ipynb",
      "provenance": [],
      "collapsed_sections": [
        "cq_E9cskTwEU",
        "dyZ4fHI2T6o5",
        "aP3UEz1TUeja",
        "iNS-ojudUwei",
        "SzQ1M37zU2Du",
        "dHuDHn7EHA1d",
        "4mK9k_zNQNhH"
      ],
      "authorship_tag": "ABX9TyMLCLTdcG6ZLVP5AoA61OdJ",
      "include_colab_link": true
    },
    "kernelspec": {
      "name": "python3",
      "display_name": "Python 3"
    },
    "accelerator": "GPU"
  },
  "cells": [
    {
      "cell_type": "markdown",
      "metadata": {
        "id": "view-in-github",
        "colab_type": "text"
      },
      "source": [
        "<a href=\"https://colab.research.google.com/github/apfoertn/Kaggle_Challenge/blob/master/Kopie_von_Kaggle_Houses.ipynb\" target=\"_parent\"><img src=\"https://colab.research.google.com/assets/colab-badge.svg\" alt=\"Open In Colab\"/></a>"
      ]
    },
    {
      "cell_type": "markdown",
      "metadata": {
        "id": "w_ixYjVAS2A8",
        "colab_type": "text"
      },
      "source": [
        "# **Project description**\n",
        "\n",
        "The goal of this competition and consequently of my notebook is to predict the sale price of residential homes in Ames, Iowa, by setting up different regression techniques. \n",
        "\n",
        "My notebook is therefore split up in the following parts:\n",
        "1. Import all necessary packages\n",
        "2. Import data\n",
        "3. Getting in touch with the data\n",
        "4. Have a look at the target variable 'SalePrice'\n",
        "5. Other features, their correlation to the target variable 'SalePrice' and outliers\n",
        "6. Fixing skewness of SalePrice\n",
        "7. Search and handle NaN-values\n",
        "8. Label Encoder\n",
        "9. Fixing skewness of numerical features\n",
        "10. Adding new features\n",
        "11. Get dummies and split up data\n",
        "12. Modelling\n",
        "13. Submission\n",
        "\n",
        "\n"
      ]
    },
    {
      "cell_type": "markdown",
      "metadata": {
        "id": "cq_E9cskTwEU",
        "colab_type": "text"
      },
      "source": [
        "# 1. Import all necessary packages"
      ]
    },
    {
      "cell_type": "code",
      "metadata": {
        "id": "OwRMfBdRT8-2",
        "colab_type": "code",
        "colab": {
          "base_uri": "https://localhost:8080/",
          "height": 0
        },
        "outputId": "587152ed-ef3f-40f9-d168-8ad3ae9a38e0"
      },
      "source": [
        "#check if notebook runs in colab\n",
        "import sys\n",
        "IN_COLAB = 'google.colab' in sys.modules\n",
        "print('running in Colab:',IN_COLAB)\n",
        "path='..'\n",
        "if IN_COLAB:\n",
        "  #in colab, we need to clone the data from the repo\n",
        "  !git clone https://github.com/apfoertn/Kaggle_Challenge.git\n",
        "  path='Kaggle_Challenge'"
      ],
      "execution_count": 1,
      "outputs": [
        {
          "output_type": "stream",
          "text": [
            "running in Colab: True\n",
            "fatal: destination path 'Kaggle_Challenge' already exists and is not an empty directory.\n"
          ],
          "name": "stdout"
        }
      ]
    },
    {
      "cell_type": "code",
      "metadata": {
        "id": "MBVRxx7FT_It",
        "colab_type": "code",
        "colab": {
          "base_uri": "https://localhost:8080/",
          "height": 0
        },
        "outputId": "3722b6e4-6595-4d2c-c443-36910b46c08c"
      },
      "source": [
        "#import all necessary packages\n",
        "import pandas as pd\n",
        "import numpy as np\n",
        "import matplotlib.pyplot as plt \n",
        "import seaborn as sns\n",
        "from scipy.stats import skew \n",
        "from scipy.stats import boxcox_normmax\n",
        "from scipy.special import boxcox1p\n",
        "from sklearn.preprocessing import LabelEncoder \n",
        "\n",
        "#packages for modelling\n",
        "from sklearn.model_selection import train_test_split\n",
        "from sklearn.model_selection import cross_val_score\n",
        "from sklearn.metrics import mean_squared_error\n",
        "from sklearn.pipeline import make_pipeline\n",
        "from sklearn.preprocessing import RobustScaler\n",
        "from sklearn.model_selection import RandomizedSearchCV\n",
        "\n",
        "#models\n",
        "from sklearn.linear_model import LassoCV\n",
        "from sklearn.linear_model import RidgeCV\n",
        "from sklearn.linear_model import ElasticNetCV\n",
        "from sklearn.ensemble import GradientBoostingRegressor\n",
        "from sklearn.ensemble import RandomForestRegressor\n",
        "from mlxtend.regressor import StackingCVRegressor\n",
        "\n",
        "#ignore warnings\n",
        "import warnings\n",
        "warnings.filterwarnings('ignore')"
      ],
      "execution_count": 2,
      "outputs": [
        {
          "output_type": "stream",
          "text": [
            "/usr/local/lib/python3.6/dist-packages/statsmodels/tools/_testing.py:19: FutureWarning: pandas.util.testing is deprecated. Use the functions in the public API at pandas.testing instead.\n",
            "  import pandas.util.testing as tm\n"
          ],
          "name": "stderr"
        }
      ]
    },
    {
      "cell_type": "markdown",
      "metadata": {
        "id": "dyZ4fHI2T6o5",
        "colab_type": "text"
      },
      "source": [
        "# 2. Import data"
      ]
    },
    {
      "cell_type": "code",
      "metadata": {
        "id": "ecnTI0UESx-A",
        "colab_type": "code",
        "colab": {}
      },
      "source": [
        "#import data from GitHub\n",
        "train = pd.read_csv(path+'/data/train.csv')\n",
        "test = pd.read_csv(path+'/data/test.csv')"
      ],
      "execution_count": 3,
      "outputs": []
    },
    {
      "cell_type": "markdown",
      "metadata": {
        "id": "aP3UEz1TUeja",
        "colab_type": "text"
      },
      "source": [
        "# 3. Getting in touch with the data\n",
        "\n",
        "Having a first look on the data to get a first impression of the datasets."
      ]
    },
    {
      "cell_type": "code",
      "metadata": {
        "id": "eBrEWcLEV6wC",
        "colab_type": "code",
        "colab": {
          "base_uri": "https://localhost:8080/",
          "height": 52
        },
        "outputId": "c5da9fe3-329a-42fe-fc9c-3f275ed3f62d"
      },
      "source": [
        "print('Number of observations in train data:',train.shape[0])\n",
        "print('Number of colums in train data:', train.shape[1])"
      ],
      "execution_count": 4,
      "outputs": [
        {
          "output_type": "stream",
          "text": [
            "Number of observations in train data: 1460\n",
            "Number of colums in train data: 81\n"
          ],
          "name": "stdout"
        }
      ]
    },
    {
      "cell_type": "code",
      "metadata": {
        "id": "M3_13YOCWAAO",
        "colab_type": "code",
        "colab": {
          "base_uri": "https://localhost:8080/",
          "height": 390
        },
        "outputId": "9ef49c93-d006-41b6-e7e5-a1ffb28ed458"
      },
      "source": [
        "#show the first 10 lines of train data\n",
        "train.head(10)"
      ],
      "execution_count": 5,
      "outputs": [
        {
          "output_type": "execute_result",
          "data": {
            "text/html": [
              "<div>\n",
              "<style scoped>\n",
              "    .dataframe tbody tr th:only-of-type {\n",
              "        vertical-align: middle;\n",
              "    }\n",
              "\n",
              "    .dataframe tbody tr th {\n",
              "        vertical-align: top;\n",
              "    }\n",
              "\n",
              "    .dataframe thead th {\n",
              "        text-align: right;\n",
              "    }\n",
              "</style>\n",
              "<table border=\"1\" class=\"dataframe\">\n",
              "  <thead>\n",
              "    <tr style=\"text-align: right;\">\n",
              "      <th></th>\n",
              "      <th>Id</th>\n",
              "      <th>MSSubClass</th>\n",
              "      <th>MSZoning</th>\n",
              "      <th>LotFrontage</th>\n",
              "      <th>LotArea</th>\n",
              "      <th>Street</th>\n",
              "      <th>Alley</th>\n",
              "      <th>LotShape</th>\n",
              "      <th>LandContour</th>\n",
              "      <th>Utilities</th>\n",
              "      <th>LotConfig</th>\n",
              "      <th>LandSlope</th>\n",
              "      <th>Neighborhood</th>\n",
              "      <th>Condition1</th>\n",
              "      <th>Condition2</th>\n",
              "      <th>BldgType</th>\n",
              "      <th>HouseStyle</th>\n",
              "      <th>OverallQual</th>\n",
              "      <th>OverallCond</th>\n",
              "      <th>YearBuilt</th>\n",
              "      <th>YearRemodAdd</th>\n",
              "      <th>RoofStyle</th>\n",
              "      <th>RoofMatl</th>\n",
              "      <th>Exterior1st</th>\n",
              "      <th>Exterior2nd</th>\n",
              "      <th>MasVnrType</th>\n",
              "      <th>MasVnrArea</th>\n",
              "      <th>ExterQual</th>\n",
              "      <th>ExterCond</th>\n",
              "      <th>Foundation</th>\n",
              "      <th>BsmtQual</th>\n",
              "      <th>BsmtCond</th>\n",
              "      <th>BsmtExposure</th>\n",
              "      <th>BsmtFinType1</th>\n",
              "      <th>BsmtFinSF1</th>\n",
              "      <th>BsmtFinType2</th>\n",
              "      <th>BsmtFinSF2</th>\n",
              "      <th>BsmtUnfSF</th>\n",
              "      <th>TotalBsmtSF</th>\n",
              "      <th>Heating</th>\n",
              "      <th>...</th>\n",
              "      <th>CentralAir</th>\n",
              "      <th>Electrical</th>\n",
              "      <th>1stFlrSF</th>\n",
              "      <th>2ndFlrSF</th>\n",
              "      <th>LowQualFinSF</th>\n",
              "      <th>GrLivArea</th>\n",
              "      <th>BsmtFullBath</th>\n",
              "      <th>BsmtHalfBath</th>\n",
              "      <th>FullBath</th>\n",
              "      <th>HalfBath</th>\n",
              "      <th>BedroomAbvGr</th>\n",
              "      <th>KitchenAbvGr</th>\n",
              "      <th>KitchenQual</th>\n",
              "      <th>TotRmsAbvGrd</th>\n",
              "      <th>Functional</th>\n",
              "      <th>Fireplaces</th>\n",
              "      <th>FireplaceQu</th>\n",
              "      <th>GarageType</th>\n",
              "      <th>GarageYrBlt</th>\n",
              "      <th>GarageFinish</th>\n",
              "      <th>GarageCars</th>\n",
              "      <th>GarageArea</th>\n",
              "      <th>GarageQual</th>\n",
              "      <th>GarageCond</th>\n",
              "      <th>PavedDrive</th>\n",
              "      <th>WoodDeckSF</th>\n",
              "      <th>OpenPorchSF</th>\n",
              "      <th>EnclosedPorch</th>\n",
              "      <th>3SsnPorch</th>\n",
              "      <th>ScreenPorch</th>\n",
              "      <th>PoolArea</th>\n",
              "      <th>PoolQC</th>\n",
              "      <th>Fence</th>\n",
              "      <th>MiscFeature</th>\n",
              "      <th>MiscVal</th>\n",
              "      <th>MoSold</th>\n",
              "      <th>YrSold</th>\n",
              "      <th>SaleType</th>\n",
              "      <th>SaleCondition</th>\n",
              "      <th>SalePrice</th>\n",
              "    </tr>\n",
              "  </thead>\n",
              "  <tbody>\n",
              "    <tr>\n",
              "      <th>0</th>\n",
              "      <td>1</td>\n",
              "      <td>60</td>\n",
              "      <td>RL</td>\n",
              "      <td>65.0</td>\n",
              "      <td>8450</td>\n",
              "      <td>Pave</td>\n",
              "      <td>NaN</td>\n",
              "      <td>Reg</td>\n",
              "      <td>Lvl</td>\n",
              "      <td>AllPub</td>\n",
              "      <td>Inside</td>\n",
              "      <td>Gtl</td>\n",
              "      <td>CollgCr</td>\n",
              "      <td>Norm</td>\n",
              "      <td>Norm</td>\n",
              "      <td>1Fam</td>\n",
              "      <td>2Story</td>\n",
              "      <td>7</td>\n",
              "      <td>5</td>\n",
              "      <td>2003</td>\n",
              "      <td>2003</td>\n",
              "      <td>Gable</td>\n",
              "      <td>CompShg</td>\n",
              "      <td>VinylSd</td>\n",
              "      <td>VinylSd</td>\n",
              "      <td>BrkFace</td>\n",
              "      <td>196.0</td>\n",
              "      <td>Gd</td>\n",
              "      <td>TA</td>\n",
              "      <td>PConc</td>\n",
              "      <td>Gd</td>\n",
              "      <td>TA</td>\n",
              "      <td>No</td>\n",
              "      <td>GLQ</td>\n",
              "      <td>706</td>\n",
              "      <td>Unf</td>\n",
              "      <td>0</td>\n",
              "      <td>150</td>\n",
              "      <td>856</td>\n",
              "      <td>GasA</td>\n",
              "      <td>...</td>\n",
              "      <td>Y</td>\n",
              "      <td>SBrkr</td>\n",
              "      <td>856</td>\n",
              "      <td>854</td>\n",
              "      <td>0</td>\n",
              "      <td>1710</td>\n",
              "      <td>1</td>\n",
              "      <td>0</td>\n",
              "      <td>2</td>\n",
              "      <td>1</td>\n",
              "      <td>3</td>\n",
              "      <td>1</td>\n",
              "      <td>Gd</td>\n",
              "      <td>8</td>\n",
              "      <td>Typ</td>\n",
              "      <td>0</td>\n",
              "      <td>NaN</td>\n",
              "      <td>Attchd</td>\n",
              "      <td>2003.0</td>\n",
              "      <td>RFn</td>\n",
              "      <td>2</td>\n",
              "      <td>548</td>\n",
              "      <td>TA</td>\n",
              "      <td>TA</td>\n",
              "      <td>Y</td>\n",
              "      <td>0</td>\n",
              "      <td>61</td>\n",
              "      <td>0</td>\n",
              "      <td>0</td>\n",
              "      <td>0</td>\n",
              "      <td>0</td>\n",
              "      <td>NaN</td>\n",
              "      <td>NaN</td>\n",
              "      <td>NaN</td>\n",
              "      <td>0</td>\n",
              "      <td>2</td>\n",
              "      <td>2008</td>\n",
              "      <td>WD</td>\n",
              "      <td>Normal</td>\n",
              "      <td>208500</td>\n",
              "    </tr>\n",
              "    <tr>\n",
              "      <th>1</th>\n",
              "      <td>2</td>\n",
              "      <td>20</td>\n",
              "      <td>RL</td>\n",
              "      <td>80.0</td>\n",
              "      <td>9600</td>\n",
              "      <td>Pave</td>\n",
              "      <td>NaN</td>\n",
              "      <td>Reg</td>\n",
              "      <td>Lvl</td>\n",
              "      <td>AllPub</td>\n",
              "      <td>FR2</td>\n",
              "      <td>Gtl</td>\n",
              "      <td>Veenker</td>\n",
              "      <td>Feedr</td>\n",
              "      <td>Norm</td>\n",
              "      <td>1Fam</td>\n",
              "      <td>1Story</td>\n",
              "      <td>6</td>\n",
              "      <td>8</td>\n",
              "      <td>1976</td>\n",
              "      <td>1976</td>\n",
              "      <td>Gable</td>\n",
              "      <td>CompShg</td>\n",
              "      <td>MetalSd</td>\n",
              "      <td>MetalSd</td>\n",
              "      <td>None</td>\n",
              "      <td>0.0</td>\n",
              "      <td>TA</td>\n",
              "      <td>TA</td>\n",
              "      <td>CBlock</td>\n",
              "      <td>Gd</td>\n",
              "      <td>TA</td>\n",
              "      <td>Gd</td>\n",
              "      <td>ALQ</td>\n",
              "      <td>978</td>\n",
              "      <td>Unf</td>\n",
              "      <td>0</td>\n",
              "      <td>284</td>\n",
              "      <td>1262</td>\n",
              "      <td>GasA</td>\n",
              "      <td>...</td>\n",
              "      <td>Y</td>\n",
              "      <td>SBrkr</td>\n",
              "      <td>1262</td>\n",
              "      <td>0</td>\n",
              "      <td>0</td>\n",
              "      <td>1262</td>\n",
              "      <td>0</td>\n",
              "      <td>1</td>\n",
              "      <td>2</td>\n",
              "      <td>0</td>\n",
              "      <td>3</td>\n",
              "      <td>1</td>\n",
              "      <td>TA</td>\n",
              "      <td>6</td>\n",
              "      <td>Typ</td>\n",
              "      <td>1</td>\n",
              "      <td>TA</td>\n",
              "      <td>Attchd</td>\n",
              "      <td>1976.0</td>\n",
              "      <td>RFn</td>\n",
              "      <td>2</td>\n",
              "      <td>460</td>\n",
              "      <td>TA</td>\n",
              "      <td>TA</td>\n",
              "      <td>Y</td>\n",
              "      <td>298</td>\n",
              "      <td>0</td>\n",
              "      <td>0</td>\n",
              "      <td>0</td>\n",
              "      <td>0</td>\n",
              "      <td>0</td>\n",
              "      <td>NaN</td>\n",
              "      <td>NaN</td>\n",
              "      <td>NaN</td>\n",
              "      <td>0</td>\n",
              "      <td>5</td>\n",
              "      <td>2007</td>\n",
              "      <td>WD</td>\n",
              "      <td>Normal</td>\n",
              "      <td>181500</td>\n",
              "    </tr>\n",
              "    <tr>\n",
              "      <th>2</th>\n",
              "      <td>3</td>\n",
              "      <td>60</td>\n",
              "      <td>RL</td>\n",
              "      <td>68.0</td>\n",
              "      <td>11250</td>\n",
              "      <td>Pave</td>\n",
              "      <td>NaN</td>\n",
              "      <td>IR1</td>\n",
              "      <td>Lvl</td>\n",
              "      <td>AllPub</td>\n",
              "      <td>Inside</td>\n",
              "      <td>Gtl</td>\n",
              "      <td>CollgCr</td>\n",
              "      <td>Norm</td>\n",
              "      <td>Norm</td>\n",
              "      <td>1Fam</td>\n",
              "      <td>2Story</td>\n",
              "      <td>7</td>\n",
              "      <td>5</td>\n",
              "      <td>2001</td>\n",
              "      <td>2002</td>\n",
              "      <td>Gable</td>\n",
              "      <td>CompShg</td>\n",
              "      <td>VinylSd</td>\n",
              "      <td>VinylSd</td>\n",
              "      <td>BrkFace</td>\n",
              "      <td>162.0</td>\n",
              "      <td>Gd</td>\n",
              "      <td>TA</td>\n",
              "      <td>PConc</td>\n",
              "      <td>Gd</td>\n",
              "      <td>TA</td>\n",
              "      <td>Mn</td>\n",
              "      <td>GLQ</td>\n",
              "      <td>486</td>\n",
              "      <td>Unf</td>\n",
              "      <td>0</td>\n",
              "      <td>434</td>\n",
              "      <td>920</td>\n",
              "      <td>GasA</td>\n",
              "      <td>...</td>\n",
              "      <td>Y</td>\n",
              "      <td>SBrkr</td>\n",
              "      <td>920</td>\n",
              "      <td>866</td>\n",
              "      <td>0</td>\n",
              "      <td>1786</td>\n",
              "      <td>1</td>\n",
              "      <td>0</td>\n",
              "      <td>2</td>\n",
              "      <td>1</td>\n",
              "      <td>3</td>\n",
              "      <td>1</td>\n",
              "      <td>Gd</td>\n",
              "      <td>6</td>\n",
              "      <td>Typ</td>\n",
              "      <td>1</td>\n",
              "      <td>TA</td>\n",
              "      <td>Attchd</td>\n",
              "      <td>2001.0</td>\n",
              "      <td>RFn</td>\n",
              "      <td>2</td>\n",
              "      <td>608</td>\n",
              "      <td>TA</td>\n",
              "      <td>TA</td>\n",
              "      <td>Y</td>\n",
              "      <td>0</td>\n",
              "      <td>42</td>\n",
              "      <td>0</td>\n",
              "      <td>0</td>\n",
              "      <td>0</td>\n",
              "      <td>0</td>\n",
              "      <td>NaN</td>\n",
              "      <td>NaN</td>\n",
              "      <td>NaN</td>\n",
              "      <td>0</td>\n",
              "      <td>9</td>\n",
              "      <td>2008</td>\n",
              "      <td>WD</td>\n",
              "      <td>Normal</td>\n",
              "      <td>223500</td>\n",
              "    </tr>\n",
              "    <tr>\n",
              "      <th>3</th>\n",
              "      <td>4</td>\n",
              "      <td>70</td>\n",
              "      <td>RL</td>\n",
              "      <td>60.0</td>\n",
              "      <td>9550</td>\n",
              "      <td>Pave</td>\n",
              "      <td>NaN</td>\n",
              "      <td>IR1</td>\n",
              "      <td>Lvl</td>\n",
              "      <td>AllPub</td>\n",
              "      <td>Corner</td>\n",
              "      <td>Gtl</td>\n",
              "      <td>Crawfor</td>\n",
              "      <td>Norm</td>\n",
              "      <td>Norm</td>\n",
              "      <td>1Fam</td>\n",
              "      <td>2Story</td>\n",
              "      <td>7</td>\n",
              "      <td>5</td>\n",
              "      <td>1915</td>\n",
              "      <td>1970</td>\n",
              "      <td>Gable</td>\n",
              "      <td>CompShg</td>\n",
              "      <td>Wd Sdng</td>\n",
              "      <td>Wd Shng</td>\n",
              "      <td>None</td>\n",
              "      <td>0.0</td>\n",
              "      <td>TA</td>\n",
              "      <td>TA</td>\n",
              "      <td>BrkTil</td>\n",
              "      <td>TA</td>\n",
              "      <td>Gd</td>\n",
              "      <td>No</td>\n",
              "      <td>ALQ</td>\n",
              "      <td>216</td>\n",
              "      <td>Unf</td>\n",
              "      <td>0</td>\n",
              "      <td>540</td>\n",
              "      <td>756</td>\n",
              "      <td>GasA</td>\n",
              "      <td>...</td>\n",
              "      <td>Y</td>\n",
              "      <td>SBrkr</td>\n",
              "      <td>961</td>\n",
              "      <td>756</td>\n",
              "      <td>0</td>\n",
              "      <td>1717</td>\n",
              "      <td>1</td>\n",
              "      <td>0</td>\n",
              "      <td>1</td>\n",
              "      <td>0</td>\n",
              "      <td>3</td>\n",
              "      <td>1</td>\n",
              "      <td>Gd</td>\n",
              "      <td>7</td>\n",
              "      <td>Typ</td>\n",
              "      <td>1</td>\n",
              "      <td>Gd</td>\n",
              "      <td>Detchd</td>\n",
              "      <td>1998.0</td>\n",
              "      <td>Unf</td>\n",
              "      <td>3</td>\n",
              "      <td>642</td>\n",
              "      <td>TA</td>\n",
              "      <td>TA</td>\n",
              "      <td>Y</td>\n",
              "      <td>0</td>\n",
              "      <td>35</td>\n",
              "      <td>272</td>\n",
              "      <td>0</td>\n",
              "      <td>0</td>\n",
              "      <td>0</td>\n",
              "      <td>NaN</td>\n",
              "      <td>NaN</td>\n",
              "      <td>NaN</td>\n",
              "      <td>0</td>\n",
              "      <td>2</td>\n",
              "      <td>2006</td>\n",
              "      <td>WD</td>\n",
              "      <td>Abnorml</td>\n",
              "      <td>140000</td>\n",
              "    </tr>\n",
              "    <tr>\n",
              "      <th>4</th>\n",
              "      <td>5</td>\n",
              "      <td>60</td>\n",
              "      <td>RL</td>\n",
              "      <td>84.0</td>\n",
              "      <td>14260</td>\n",
              "      <td>Pave</td>\n",
              "      <td>NaN</td>\n",
              "      <td>IR1</td>\n",
              "      <td>Lvl</td>\n",
              "      <td>AllPub</td>\n",
              "      <td>FR2</td>\n",
              "      <td>Gtl</td>\n",
              "      <td>NoRidge</td>\n",
              "      <td>Norm</td>\n",
              "      <td>Norm</td>\n",
              "      <td>1Fam</td>\n",
              "      <td>2Story</td>\n",
              "      <td>8</td>\n",
              "      <td>5</td>\n",
              "      <td>2000</td>\n",
              "      <td>2000</td>\n",
              "      <td>Gable</td>\n",
              "      <td>CompShg</td>\n",
              "      <td>VinylSd</td>\n",
              "      <td>VinylSd</td>\n",
              "      <td>BrkFace</td>\n",
              "      <td>350.0</td>\n",
              "      <td>Gd</td>\n",
              "      <td>TA</td>\n",
              "      <td>PConc</td>\n",
              "      <td>Gd</td>\n",
              "      <td>TA</td>\n",
              "      <td>Av</td>\n",
              "      <td>GLQ</td>\n",
              "      <td>655</td>\n",
              "      <td>Unf</td>\n",
              "      <td>0</td>\n",
              "      <td>490</td>\n",
              "      <td>1145</td>\n",
              "      <td>GasA</td>\n",
              "      <td>...</td>\n",
              "      <td>Y</td>\n",
              "      <td>SBrkr</td>\n",
              "      <td>1145</td>\n",
              "      <td>1053</td>\n",
              "      <td>0</td>\n",
              "      <td>2198</td>\n",
              "      <td>1</td>\n",
              "      <td>0</td>\n",
              "      <td>2</td>\n",
              "      <td>1</td>\n",
              "      <td>4</td>\n",
              "      <td>1</td>\n",
              "      <td>Gd</td>\n",
              "      <td>9</td>\n",
              "      <td>Typ</td>\n",
              "      <td>1</td>\n",
              "      <td>TA</td>\n",
              "      <td>Attchd</td>\n",
              "      <td>2000.0</td>\n",
              "      <td>RFn</td>\n",
              "      <td>3</td>\n",
              "      <td>836</td>\n",
              "      <td>TA</td>\n",
              "      <td>TA</td>\n",
              "      <td>Y</td>\n",
              "      <td>192</td>\n",
              "      <td>84</td>\n",
              "      <td>0</td>\n",
              "      <td>0</td>\n",
              "      <td>0</td>\n",
              "      <td>0</td>\n",
              "      <td>NaN</td>\n",
              "      <td>NaN</td>\n",
              "      <td>NaN</td>\n",
              "      <td>0</td>\n",
              "      <td>12</td>\n",
              "      <td>2008</td>\n",
              "      <td>WD</td>\n",
              "      <td>Normal</td>\n",
              "      <td>250000</td>\n",
              "    </tr>\n",
              "    <tr>\n",
              "      <th>5</th>\n",
              "      <td>6</td>\n",
              "      <td>50</td>\n",
              "      <td>RL</td>\n",
              "      <td>85.0</td>\n",
              "      <td>14115</td>\n",
              "      <td>Pave</td>\n",
              "      <td>NaN</td>\n",
              "      <td>IR1</td>\n",
              "      <td>Lvl</td>\n",
              "      <td>AllPub</td>\n",
              "      <td>Inside</td>\n",
              "      <td>Gtl</td>\n",
              "      <td>Mitchel</td>\n",
              "      <td>Norm</td>\n",
              "      <td>Norm</td>\n",
              "      <td>1Fam</td>\n",
              "      <td>1.5Fin</td>\n",
              "      <td>5</td>\n",
              "      <td>5</td>\n",
              "      <td>1993</td>\n",
              "      <td>1995</td>\n",
              "      <td>Gable</td>\n",
              "      <td>CompShg</td>\n",
              "      <td>VinylSd</td>\n",
              "      <td>VinylSd</td>\n",
              "      <td>None</td>\n",
              "      <td>0.0</td>\n",
              "      <td>TA</td>\n",
              "      <td>TA</td>\n",
              "      <td>Wood</td>\n",
              "      <td>Gd</td>\n",
              "      <td>TA</td>\n",
              "      <td>No</td>\n",
              "      <td>GLQ</td>\n",
              "      <td>732</td>\n",
              "      <td>Unf</td>\n",
              "      <td>0</td>\n",
              "      <td>64</td>\n",
              "      <td>796</td>\n",
              "      <td>GasA</td>\n",
              "      <td>...</td>\n",
              "      <td>Y</td>\n",
              "      <td>SBrkr</td>\n",
              "      <td>796</td>\n",
              "      <td>566</td>\n",
              "      <td>0</td>\n",
              "      <td>1362</td>\n",
              "      <td>1</td>\n",
              "      <td>0</td>\n",
              "      <td>1</td>\n",
              "      <td>1</td>\n",
              "      <td>1</td>\n",
              "      <td>1</td>\n",
              "      <td>TA</td>\n",
              "      <td>5</td>\n",
              "      <td>Typ</td>\n",
              "      <td>0</td>\n",
              "      <td>NaN</td>\n",
              "      <td>Attchd</td>\n",
              "      <td>1993.0</td>\n",
              "      <td>Unf</td>\n",
              "      <td>2</td>\n",
              "      <td>480</td>\n",
              "      <td>TA</td>\n",
              "      <td>TA</td>\n",
              "      <td>Y</td>\n",
              "      <td>40</td>\n",
              "      <td>30</td>\n",
              "      <td>0</td>\n",
              "      <td>320</td>\n",
              "      <td>0</td>\n",
              "      <td>0</td>\n",
              "      <td>NaN</td>\n",
              "      <td>MnPrv</td>\n",
              "      <td>Shed</td>\n",
              "      <td>700</td>\n",
              "      <td>10</td>\n",
              "      <td>2009</td>\n",
              "      <td>WD</td>\n",
              "      <td>Normal</td>\n",
              "      <td>143000</td>\n",
              "    </tr>\n",
              "    <tr>\n",
              "      <th>6</th>\n",
              "      <td>7</td>\n",
              "      <td>20</td>\n",
              "      <td>RL</td>\n",
              "      <td>75.0</td>\n",
              "      <td>10084</td>\n",
              "      <td>Pave</td>\n",
              "      <td>NaN</td>\n",
              "      <td>Reg</td>\n",
              "      <td>Lvl</td>\n",
              "      <td>AllPub</td>\n",
              "      <td>Inside</td>\n",
              "      <td>Gtl</td>\n",
              "      <td>Somerst</td>\n",
              "      <td>Norm</td>\n",
              "      <td>Norm</td>\n",
              "      <td>1Fam</td>\n",
              "      <td>1Story</td>\n",
              "      <td>8</td>\n",
              "      <td>5</td>\n",
              "      <td>2004</td>\n",
              "      <td>2005</td>\n",
              "      <td>Gable</td>\n",
              "      <td>CompShg</td>\n",
              "      <td>VinylSd</td>\n",
              "      <td>VinylSd</td>\n",
              "      <td>Stone</td>\n",
              "      <td>186.0</td>\n",
              "      <td>Gd</td>\n",
              "      <td>TA</td>\n",
              "      <td>PConc</td>\n",
              "      <td>Ex</td>\n",
              "      <td>TA</td>\n",
              "      <td>Av</td>\n",
              "      <td>GLQ</td>\n",
              "      <td>1369</td>\n",
              "      <td>Unf</td>\n",
              "      <td>0</td>\n",
              "      <td>317</td>\n",
              "      <td>1686</td>\n",
              "      <td>GasA</td>\n",
              "      <td>...</td>\n",
              "      <td>Y</td>\n",
              "      <td>SBrkr</td>\n",
              "      <td>1694</td>\n",
              "      <td>0</td>\n",
              "      <td>0</td>\n",
              "      <td>1694</td>\n",
              "      <td>1</td>\n",
              "      <td>0</td>\n",
              "      <td>2</td>\n",
              "      <td>0</td>\n",
              "      <td>3</td>\n",
              "      <td>1</td>\n",
              "      <td>Gd</td>\n",
              "      <td>7</td>\n",
              "      <td>Typ</td>\n",
              "      <td>1</td>\n",
              "      <td>Gd</td>\n",
              "      <td>Attchd</td>\n",
              "      <td>2004.0</td>\n",
              "      <td>RFn</td>\n",
              "      <td>2</td>\n",
              "      <td>636</td>\n",
              "      <td>TA</td>\n",
              "      <td>TA</td>\n",
              "      <td>Y</td>\n",
              "      <td>255</td>\n",
              "      <td>57</td>\n",
              "      <td>0</td>\n",
              "      <td>0</td>\n",
              "      <td>0</td>\n",
              "      <td>0</td>\n",
              "      <td>NaN</td>\n",
              "      <td>NaN</td>\n",
              "      <td>NaN</td>\n",
              "      <td>0</td>\n",
              "      <td>8</td>\n",
              "      <td>2007</td>\n",
              "      <td>WD</td>\n",
              "      <td>Normal</td>\n",
              "      <td>307000</td>\n",
              "    </tr>\n",
              "    <tr>\n",
              "      <th>7</th>\n",
              "      <td>8</td>\n",
              "      <td>60</td>\n",
              "      <td>RL</td>\n",
              "      <td>NaN</td>\n",
              "      <td>10382</td>\n",
              "      <td>Pave</td>\n",
              "      <td>NaN</td>\n",
              "      <td>IR1</td>\n",
              "      <td>Lvl</td>\n",
              "      <td>AllPub</td>\n",
              "      <td>Corner</td>\n",
              "      <td>Gtl</td>\n",
              "      <td>NWAmes</td>\n",
              "      <td>PosN</td>\n",
              "      <td>Norm</td>\n",
              "      <td>1Fam</td>\n",
              "      <td>2Story</td>\n",
              "      <td>7</td>\n",
              "      <td>6</td>\n",
              "      <td>1973</td>\n",
              "      <td>1973</td>\n",
              "      <td>Gable</td>\n",
              "      <td>CompShg</td>\n",
              "      <td>HdBoard</td>\n",
              "      <td>HdBoard</td>\n",
              "      <td>Stone</td>\n",
              "      <td>240.0</td>\n",
              "      <td>TA</td>\n",
              "      <td>TA</td>\n",
              "      <td>CBlock</td>\n",
              "      <td>Gd</td>\n",
              "      <td>TA</td>\n",
              "      <td>Mn</td>\n",
              "      <td>ALQ</td>\n",
              "      <td>859</td>\n",
              "      <td>BLQ</td>\n",
              "      <td>32</td>\n",
              "      <td>216</td>\n",
              "      <td>1107</td>\n",
              "      <td>GasA</td>\n",
              "      <td>...</td>\n",
              "      <td>Y</td>\n",
              "      <td>SBrkr</td>\n",
              "      <td>1107</td>\n",
              "      <td>983</td>\n",
              "      <td>0</td>\n",
              "      <td>2090</td>\n",
              "      <td>1</td>\n",
              "      <td>0</td>\n",
              "      <td>2</td>\n",
              "      <td>1</td>\n",
              "      <td>3</td>\n",
              "      <td>1</td>\n",
              "      <td>TA</td>\n",
              "      <td>7</td>\n",
              "      <td>Typ</td>\n",
              "      <td>2</td>\n",
              "      <td>TA</td>\n",
              "      <td>Attchd</td>\n",
              "      <td>1973.0</td>\n",
              "      <td>RFn</td>\n",
              "      <td>2</td>\n",
              "      <td>484</td>\n",
              "      <td>TA</td>\n",
              "      <td>TA</td>\n",
              "      <td>Y</td>\n",
              "      <td>235</td>\n",
              "      <td>204</td>\n",
              "      <td>228</td>\n",
              "      <td>0</td>\n",
              "      <td>0</td>\n",
              "      <td>0</td>\n",
              "      <td>NaN</td>\n",
              "      <td>NaN</td>\n",
              "      <td>Shed</td>\n",
              "      <td>350</td>\n",
              "      <td>11</td>\n",
              "      <td>2009</td>\n",
              "      <td>WD</td>\n",
              "      <td>Normal</td>\n",
              "      <td>200000</td>\n",
              "    </tr>\n",
              "    <tr>\n",
              "      <th>8</th>\n",
              "      <td>9</td>\n",
              "      <td>50</td>\n",
              "      <td>RM</td>\n",
              "      <td>51.0</td>\n",
              "      <td>6120</td>\n",
              "      <td>Pave</td>\n",
              "      <td>NaN</td>\n",
              "      <td>Reg</td>\n",
              "      <td>Lvl</td>\n",
              "      <td>AllPub</td>\n",
              "      <td>Inside</td>\n",
              "      <td>Gtl</td>\n",
              "      <td>OldTown</td>\n",
              "      <td>Artery</td>\n",
              "      <td>Norm</td>\n",
              "      <td>1Fam</td>\n",
              "      <td>1.5Fin</td>\n",
              "      <td>7</td>\n",
              "      <td>5</td>\n",
              "      <td>1931</td>\n",
              "      <td>1950</td>\n",
              "      <td>Gable</td>\n",
              "      <td>CompShg</td>\n",
              "      <td>BrkFace</td>\n",
              "      <td>Wd Shng</td>\n",
              "      <td>None</td>\n",
              "      <td>0.0</td>\n",
              "      <td>TA</td>\n",
              "      <td>TA</td>\n",
              "      <td>BrkTil</td>\n",
              "      <td>TA</td>\n",
              "      <td>TA</td>\n",
              "      <td>No</td>\n",
              "      <td>Unf</td>\n",
              "      <td>0</td>\n",
              "      <td>Unf</td>\n",
              "      <td>0</td>\n",
              "      <td>952</td>\n",
              "      <td>952</td>\n",
              "      <td>GasA</td>\n",
              "      <td>...</td>\n",
              "      <td>Y</td>\n",
              "      <td>FuseF</td>\n",
              "      <td>1022</td>\n",
              "      <td>752</td>\n",
              "      <td>0</td>\n",
              "      <td>1774</td>\n",
              "      <td>0</td>\n",
              "      <td>0</td>\n",
              "      <td>2</td>\n",
              "      <td>0</td>\n",
              "      <td>2</td>\n",
              "      <td>2</td>\n",
              "      <td>TA</td>\n",
              "      <td>8</td>\n",
              "      <td>Min1</td>\n",
              "      <td>2</td>\n",
              "      <td>TA</td>\n",
              "      <td>Detchd</td>\n",
              "      <td>1931.0</td>\n",
              "      <td>Unf</td>\n",
              "      <td>2</td>\n",
              "      <td>468</td>\n",
              "      <td>Fa</td>\n",
              "      <td>TA</td>\n",
              "      <td>Y</td>\n",
              "      <td>90</td>\n",
              "      <td>0</td>\n",
              "      <td>205</td>\n",
              "      <td>0</td>\n",
              "      <td>0</td>\n",
              "      <td>0</td>\n",
              "      <td>NaN</td>\n",
              "      <td>NaN</td>\n",
              "      <td>NaN</td>\n",
              "      <td>0</td>\n",
              "      <td>4</td>\n",
              "      <td>2008</td>\n",
              "      <td>WD</td>\n",
              "      <td>Abnorml</td>\n",
              "      <td>129900</td>\n",
              "    </tr>\n",
              "    <tr>\n",
              "      <th>9</th>\n",
              "      <td>10</td>\n",
              "      <td>190</td>\n",
              "      <td>RL</td>\n",
              "      <td>50.0</td>\n",
              "      <td>7420</td>\n",
              "      <td>Pave</td>\n",
              "      <td>NaN</td>\n",
              "      <td>Reg</td>\n",
              "      <td>Lvl</td>\n",
              "      <td>AllPub</td>\n",
              "      <td>Corner</td>\n",
              "      <td>Gtl</td>\n",
              "      <td>BrkSide</td>\n",
              "      <td>Artery</td>\n",
              "      <td>Artery</td>\n",
              "      <td>2fmCon</td>\n",
              "      <td>1.5Unf</td>\n",
              "      <td>5</td>\n",
              "      <td>6</td>\n",
              "      <td>1939</td>\n",
              "      <td>1950</td>\n",
              "      <td>Gable</td>\n",
              "      <td>CompShg</td>\n",
              "      <td>MetalSd</td>\n",
              "      <td>MetalSd</td>\n",
              "      <td>None</td>\n",
              "      <td>0.0</td>\n",
              "      <td>TA</td>\n",
              "      <td>TA</td>\n",
              "      <td>BrkTil</td>\n",
              "      <td>TA</td>\n",
              "      <td>TA</td>\n",
              "      <td>No</td>\n",
              "      <td>GLQ</td>\n",
              "      <td>851</td>\n",
              "      <td>Unf</td>\n",
              "      <td>0</td>\n",
              "      <td>140</td>\n",
              "      <td>991</td>\n",
              "      <td>GasA</td>\n",
              "      <td>...</td>\n",
              "      <td>Y</td>\n",
              "      <td>SBrkr</td>\n",
              "      <td>1077</td>\n",
              "      <td>0</td>\n",
              "      <td>0</td>\n",
              "      <td>1077</td>\n",
              "      <td>1</td>\n",
              "      <td>0</td>\n",
              "      <td>1</td>\n",
              "      <td>0</td>\n",
              "      <td>2</td>\n",
              "      <td>2</td>\n",
              "      <td>TA</td>\n",
              "      <td>5</td>\n",
              "      <td>Typ</td>\n",
              "      <td>2</td>\n",
              "      <td>TA</td>\n",
              "      <td>Attchd</td>\n",
              "      <td>1939.0</td>\n",
              "      <td>RFn</td>\n",
              "      <td>1</td>\n",
              "      <td>205</td>\n",
              "      <td>Gd</td>\n",
              "      <td>TA</td>\n",
              "      <td>Y</td>\n",
              "      <td>0</td>\n",
              "      <td>4</td>\n",
              "      <td>0</td>\n",
              "      <td>0</td>\n",
              "      <td>0</td>\n",
              "      <td>0</td>\n",
              "      <td>NaN</td>\n",
              "      <td>NaN</td>\n",
              "      <td>NaN</td>\n",
              "      <td>0</td>\n",
              "      <td>1</td>\n",
              "      <td>2008</td>\n",
              "      <td>WD</td>\n",
              "      <td>Normal</td>\n",
              "      <td>118000</td>\n",
              "    </tr>\n",
              "  </tbody>\n",
              "</table>\n",
              "<p>10 rows × 81 columns</p>\n",
              "</div>"
            ],
            "text/plain": [
              "   Id  MSSubClass MSZoning  ...  SaleType  SaleCondition SalePrice\n",
              "0   1          60       RL  ...        WD         Normal    208500\n",
              "1   2          20       RL  ...        WD         Normal    181500\n",
              "2   3          60       RL  ...        WD         Normal    223500\n",
              "3   4          70       RL  ...        WD        Abnorml    140000\n",
              "4   5          60       RL  ...        WD         Normal    250000\n",
              "5   6          50       RL  ...        WD         Normal    143000\n",
              "6   7          20       RL  ...        WD         Normal    307000\n",
              "7   8          60       RL  ...        WD         Normal    200000\n",
              "8   9          50       RM  ...        WD        Abnorml    129900\n",
              "9  10         190       RL  ...        WD         Normal    118000\n",
              "\n",
              "[10 rows x 81 columns]"
            ]
          },
          "metadata": {
            "tags": []
          },
          "execution_count": 5
        }
      ]
    },
    {
      "cell_type": "code",
      "metadata": {
        "id": "ILuf-5kZWCS1",
        "colab_type": "code",
        "colab": {
          "base_uri": "https://localhost:8080/",
          "height": 52
        },
        "outputId": "a32487f9-e8a8-4bd7-966b-d83afe067333"
      },
      "source": [
        "print('Number of observations in test data:',test.shape[0])\n",
        "print('Number of colums in test data:', test.shape[1])"
      ],
      "execution_count": 6,
      "outputs": [
        {
          "output_type": "stream",
          "text": [
            "Number of observations in test data: 1459\n",
            "Number of colums in test data: 80\n"
          ],
          "name": "stdout"
        }
      ]
    },
    {
      "cell_type": "code",
      "metadata": {
        "id": "NfHpwyD-WHzy",
        "colab_type": "code",
        "colab": {
          "base_uri": "https://localhost:8080/",
          "height": 360
        },
        "outputId": "bd0258b3-a4ad-4218-8922-046520565ff0"
      },
      "source": [
        "#show the first 10 lines of test data\n",
        "test.head(10)"
      ],
      "execution_count": 7,
      "outputs": [
        {
          "output_type": "execute_result",
          "data": {
            "text/html": [
              "<div>\n",
              "<style scoped>\n",
              "    .dataframe tbody tr th:only-of-type {\n",
              "        vertical-align: middle;\n",
              "    }\n",
              "\n",
              "    .dataframe tbody tr th {\n",
              "        vertical-align: top;\n",
              "    }\n",
              "\n",
              "    .dataframe thead th {\n",
              "        text-align: right;\n",
              "    }\n",
              "</style>\n",
              "<table border=\"1\" class=\"dataframe\">\n",
              "  <thead>\n",
              "    <tr style=\"text-align: right;\">\n",
              "      <th></th>\n",
              "      <th>Id</th>\n",
              "      <th>MSSubClass</th>\n",
              "      <th>MSZoning</th>\n",
              "      <th>LotFrontage</th>\n",
              "      <th>LotArea</th>\n",
              "      <th>Street</th>\n",
              "      <th>Alley</th>\n",
              "      <th>LotShape</th>\n",
              "      <th>LandContour</th>\n",
              "      <th>Utilities</th>\n",
              "      <th>LotConfig</th>\n",
              "      <th>LandSlope</th>\n",
              "      <th>Neighborhood</th>\n",
              "      <th>Condition1</th>\n",
              "      <th>Condition2</th>\n",
              "      <th>BldgType</th>\n",
              "      <th>HouseStyle</th>\n",
              "      <th>OverallQual</th>\n",
              "      <th>OverallCond</th>\n",
              "      <th>YearBuilt</th>\n",
              "      <th>YearRemodAdd</th>\n",
              "      <th>RoofStyle</th>\n",
              "      <th>RoofMatl</th>\n",
              "      <th>Exterior1st</th>\n",
              "      <th>Exterior2nd</th>\n",
              "      <th>MasVnrType</th>\n",
              "      <th>MasVnrArea</th>\n",
              "      <th>ExterQual</th>\n",
              "      <th>ExterCond</th>\n",
              "      <th>Foundation</th>\n",
              "      <th>BsmtQual</th>\n",
              "      <th>BsmtCond</th>\n",
              "      <th>BsmtExposure</th>\n",
              "      <th>BsmtFinType1</th>\n",
              "      <th>BsmtFinSF1</th>\n",
              "      <th>BsmtFinType2</th>\n",
              "      <th>BsmtFinSF2</th>\n",
              "      <th>BsmtUnfSF</th>\n",
              "      <th>TotalBsmtSF</th>\n",
              "      <th>Heating</th>\n",
              "      <th>HeatingQC</th>\n",
              "      <th>CentralAir</th>\n",
              "      <th>Electrical</th>\n",
              "      <th>1stFlrSF</th>\n",
              "      <th>2ndFlrSF</th>\n",
              "      <th>LowQualFinSF</th>\n",
              "      <th>GrLivArea</th>\n",
              "      <th>BsmtFullBath</th>\n",
              "      <th>BsmtHalfBath</th>\n",
              "      <th>FullBath</th>\n",
              "      <th>HalfBath</th>\n",
              "      <th>BedroomAbvGr</th>\n",
              "      <th>KitchenAbvGr</th>\n",
              "      <th>KitchenQual</th>\n",
              "      <th>TotRmsAbvGrd</th>\n",
              "      <th>Functional</th>\n",
              "      <th>Fireplaces</th>\n",
              "      <th>FireplaceQu</th>\n",
              "      <th>GarageType</th>\n",
              "      <th>GarageYrBlt</th>\n",
              "      <th>GarageFinish</th>\n",
              "      <th>GarageCars</th>\n",
              "      <th>GarageArea</th>\n",
              "      <th>GarageQual</th>\n",
              "      <th>GarageCond</th>\n",
              "      <th>PavedDrive</th>\n",
              "      <th>WoodDeckSF</th>\n",
              "      <th>OpenPorchSF</th>\n",
              "      <th>EnclosedPorch</th>\n",
              "      <th>3SsnPorch</th>\n",
              "      <th>ScreenPorch</th>\n",
              "      <th>PoolArea</th>\n",
              "      <th>PoolQC</th>\n",
              "      <th>Fence</th>\n",
              "      <th>MiscFeature</th>\n",
              "      <th>MiscVal</th>\n",
              "      <th>MoSold</th>\n",
              "      <th>YrSold</th>\n",
              "      <th>SaleType</th>\n",
              "      <th>SaleCondition</th>\n",
              "    </tr>\n",
              "  </thead>\n",
              "  <tbody>\n",
              "    <tr>\n",
              "      <th>0</th>\n",
              "      <td>1461</td>\n",
              "      <td>20</td>\n",
              "      <td>RH</td>\n",
              "      <td>80.0</td>\n",
              "      <td>11622</td>\n",
              "      <td>Pave</td>\n",
              "      <td>NaN</td>\n",
              "      <td>Reg</td>\n",
              "      <td>Lvl</td>\n",
              "      <td>AllPub</td>\n",
              "      <td>Inside</td>\n",
              "      <td>Gtl</td>\n",
              "      <td>NAmes</td>\n",
              "      <td>Feedr</td>\n",
              "      <td>Norm</td>\n",
              "      <td>1Fam</td>\n",
              "      <td>1Story</td>\n",
              "      <td>5</td>\n",
              "      <td>6</td>\n",
              "      <td>1961</td>\n",
              "      <td>1961</td>\n",
              "      <td>Gable</td>\n",
              "      <td>CompShg</td>\n",
              "      <td>VinylSd</td>\n",
              "      <td>VinylSd</td>\n",
              "      <td>None</td>\n",
              "      <td>0.0</td>\n",
              "      <td>TA</td>\n",
              "      <td>TA</td>\n",
              "      <td>CBlock</td>\n",
              "      <td>TA</td>\n",
              "      <td>TA</td>\n",
              "      <td>No</td>\n",
              "      <td>Rec</td>\n",
              "      <td>468.0</td>\n",
              "      <td>LwQ</td>\n",
              "      <td>144.0</td>\n",
              "      <td>270.0</td>\n",
              "      <td>882.0</td>\n",
              "      <td>GasA</td>\n",
              "      <td>TA</td>\n",
              "      <td>Y</td>\n",
              "      <td>SBrkr</td>\n",
              "      <td>896</td>\n",
              "      <td>0</td>\n",
              "      <td>0</td>\n",
              "      <td>896</td>\n",
              "      <td>0.0</td>\n",
              "      <td>0.0</td>\n",
              "      <td>1</td>\n",
              "      <td>0</td>\n",
              "      <td>2</td>\n",
              "      <td>1</td>\n",
              "      <td>TA</td>\n",
              "      <td>5</td>\n",
              "      <td>Typ</td>\n",
              "      <td>0</td>\n",
              "      <td>NaN</td>\n",
              "      <td>Attchd</td>\n",
              "      <td>1961.0</td>\n",
              "      <td>Unf</td>\n",
              "      <td>1.0</td>\n",
              "      <td>730.0</td>\n",
              "      <td>TA</td>\n",
              "      <td>TA</td>\n",
              "      <td>Y</td>\n",
              "      <td>140</td>\n",
              "      <td>0</td>\n",
              "      <td>0</td>\n",
              "      <td>0</td>\n",
              "      <td>120</td>\n",
              "      <td>0</td>\n",
              "      <td>NaN</td>\n",
              "      <td>MnPrv</td>\n",
              "      <td>NaN</td>\n",
              "      <td>0</td>\n",
              "      <td>6</td>\n",
              "      <td>2010</td>\n",
              "      <td>WD</td>\n",
              "      <td>Normal</td>\n",
              "    </tr>\n",
              "    <tr>\n",
              "      <th>1</th>\n",
              "      <td>1462</td>\n",
              "      <td>20</td>\n",
              "      <td>RL</td>\n",
              "      <td>81.0</td>\n",
              "      <td>14267</td>\n",
              "      <td>Pave</td>\n",
              "      <td>NaN</td>\n",
              "      <td>IR1</td>\n",
              "      <td>Lvl</td>\n",
              "      <td>AllPub</td>\n",
              "      <td>Corner</td>\n",
              "      <td>Gtl</td>\n",
              "      <td>NAmes</td>\n",
              "      <td>Norm</td>\n",
              "      <td>Norm</td>\n",
              "      <td>1Fam</td>\n",
              "      <td>1Story</td>\n",
              "      <td>6</td>\n",
              "      <td>6</td>\n",
              "      <td>1958</td>\n",
              "      <td>1958</td>\n",
              "      <td>Hip</td>\n",
              "      <td>CompShg</td>\n",
              "      <td>Wd Sdng</td>\n",
              "      <td>Wd Sdng</td>\n",
              "      <td>BrkFace</td>\n",
              "      <td>108.0</td>\n",
              "      <td>TA</td>\n",
              "      <td>TA</td>\n",
              "      <td>CBlock</td>\n",
              "      <td>TA</td>\n",
              "      <td>TA</td>\n",
              "      <td>No</td>\n",
              "      <td>ALQ</td>\n",
              "      <td>923.0</td>\n",
              "      <td>Unf</td>\n",
              "      <td>0.0</td>\n",
              "      <td>406.0</td>\n",
              "      <td>1329.0</td>\n",
              "      <td>GasA</td>\n",
              "      <td>TA</td>\n",
              "      <td>Y</td>\n",
              "      <td>SBrkr</td>\n",
              "      <td>1329</td>\n",
              "      <td>0</td>\n",
              "      <td>0</td>\n",
              "      <td>1329</td>\n",
              "      <td>0.0</td>\n",
              "      <td>0.0</td>\n",
              "      <td>1</td>\n",
              "      <td>1</td>\n",
              "      <td>3</td>\n",
              "      <td>1</td>\n",
              "      <td>Gd</td>\n",
              "      <td>6</td>\n",
              "      <td>Typ</td>\n",
              "      <td>0</td>\n",
              "      <td>NaN</td>\n",
              "      <td>Attchd</td>\n",
              "      <td>1958.0</td>\n",
              "      <td>Unf</td>\n",
              "      <td>1.0</td>\n",
              "      <td>312.0</td>\n",
              "      <td>TA</td>\n",
              "      <td>TA</td>\n",
              "      <td>Y</td>\n",
              "      <td>393</td>\n",
              "      <td>36</td>\n",
              "      <td>0</td>\n",
              "      <td>0</td>\n",
              "      <td>0</td>\n",
              "      <td>0</td>\n",
              "      <td>NaN</td>\n",
              "      <td>NaN</td>\n",
              "      <td>Gar2</td>\n",
              "      <td>12500</td>\n",
              "      <td>6</td>\n",
              "      <td>2010</td>\n",
              "      <td>WD</td>\n",
              "      <td>Normal</td>\n",
              "    </tr>\n",
              "    <tr>\n",
              "      <th>2</th>\n",
              "      <td>1463</td>\n",
              "      <td>60</td>\n",
              "      <td>RL</td>\n",
              "      <td>74.0</td>\n",
              "      <td>13830</td>\n",
              "      <td>Pave</td>\n",
              "      <td>NaN</td>\n",
              "      <td>IR1</td>\n",
              "      <td>Lvl</td>\n",
              "      <td>AllPub</td>\n",
              "      <td>Inside</td>\n",
              "      <td>Gtl</td>\n",
              "      <td>Gilbert</td>\n",
              "      <td>Norm</td>\n",
              "      <td>Norm</td>\n",
              "      <td>1Fam</td>\n",
              "      <td>2Story</td>\n",
              "      <td>5</td>\n",
              "      <td>5</td>\n",
              "      <td>1997</td>\n",
              "      <td>1998</td>\n",
              "      <td>Gable</td>\n",
              "      <td>CompShg</td>\n",
              "      <td>VinylSd</td>\n",
              "      <td>VinylSd</td>\n",
              "      <td>None</td>\n",
              "      <td>0.0</td>\n",
              "      <td>TA</td>\n",
              "      <td>TA</td>\n",
              "      <td>PConc</td>\n",
              "      <td>Gd</td>\n",
              "      <td>TA</td>\n",
              "      <td>No</td>\n",
              "      <td>GLQ</td>\n",
              "      <td>791.0</td>\n",
              "      <td>Unf</td>\n",
              "      <td>0.0</td>\n",
              "      <td>137.0</td>\n",
              "      <td>928.0</td>\n",
              "      <td>GasA</td>\n",
              "      <td>Gd</td>\n",
              "      <td>Y</td>\n",
              "      <td>SBrkr</td>\n",
              "      <td>928</td>\n",
              "      <td>701</td>\n",
              "      <td>0</td>\n",
              "      <td>1629</td>\n",
              "      <td>0.0</td>\n",
              "      <td>0.0</td>\n",
              "      <td>2</td>\n",
              "      <td>1</td>\n",
              "      <td>3</td>\n",
              "      <td>1</td>\n",
              "      <td>TA</td>\n",
              "      <td>6</td>\n",
              "      <td>Typ</td>\n",
              "      <td>1</td>\n",
              "      <td>TA</td>\n",
              "      <td>Attchd</td>\n",
              "      <td>1997.0</td>\n",
              "      <td>Fin</td>\n",
              "      <td>2.0</td>\n",
              "      <td>482.0</td>\n",
              "      <td>TA</td>\n",
              "      <td>TA</td>\n",
              "      <td>Y</td>\n",
              "      <td>212</td>\n",
              "      <td>34</td>\n",
              "      <td>0</td>\n",
              "      <td>0</td>\n",
              "      <td>0</td>\n",
              "      <td>0</td>\n",
              "      <td>NaN</td>\n",
              "      <td>MnPrv</td>\n",
              "      <td>NaN</td>\n",
              "      <td>0</td>\n",
              "      <td>3</td>\n",
              "      <td>2010</td>\n",
              "      <td>WD</td>\n",
              "      <td>Normal</td>\n",
              "    </tr>\n",
              "    <tr>\n",
              "      <th>3</th>\n",
              "      <td>1464</td>\n",
              "      <td>60</td>\n",
              "      <td>RL</td>\n",
              "      <td>78.0</td>\n",
              "      <td>9978</td>\n",
              "      <td>Pave</td>\n",
              "      <td>NaN</td>\n",
              "      <td>IR1</td>\n",
              "      <td>Lvl</td>\n",
              "      <td>AllPub</td>\n",
              "      <td>Inside</td>\n",
              "      <td>Gtl</td>\n",
              "      <td>Gilbert</td>\n",
              "      <td>Norm</td>\n",
              "      <td>Norm</td>\n",
              "      <td>1Fam</td>\n",
              "      <td>2Story</td>\n",
              "      <td>6</td>\n",
              "      <td>6</td>\n",
              "      <td>1998</td>\n",
              "      <td>1998</td>\n",
              "      <td>Gable</td>\n",
              "      <td>CompShg</td>\n",
              "      <td>VinylSd</td>\n",
              "      <td>VinylSd</td>\n",
              "      <td>BrkFace</td>\n",
              "      <td>20.0</td>\n",
              "      <td>TA</td>\n",
              "      <td>TA</td>\n",
              "      <td>PConc</td>\n",
              "      <td>TA</td>\n",
              "      <td>TA</td>\n",
              "      <td>No</td>\n",
              "      <td>GLQ</td>\n",
              "      <td>602.0</td>\n",
              "      <td>Unf</td>\n",
              "      <td>0.0</td>\n",
              "      <td>324.0</td>\n",
              "      <td>926.0</td>\n",
              "      <td>GasA</td>\n",
              "      <td>Ex</td>\n",
              "      <td>Y</td>\n",
              "      <td>SBrkr</td>\n",
              "      <td>926</td>\n",
              "      <td>678</td>\n",
              "      <td>0</td>\n",
              "      <td>1604</td>\n",
              "      <td>0.0</td>\n",
              "      <td>0.0</td>\n",
              "      <td>2</td>\n",
              "      <td>1</td>\n",
              "      <td>3</td>\n",
              "      <td>1</td>\n",
              "      <td>Gd</td>\n",
              "      <td>7</td>\n",
              "      <td>Typ</td>\n",
              "      <td>1</td>\n",
              "      <td>Gd</td>\n",
              "      <td>Attchd</td>\n",
              "      <td>1998.0</td>\n",
              "      <td>Fin</td>\n",
              "      <td>2.0</td>\n",
              "      <td>470.0</td>\n",
              "      <td>TA</td>\n",
              "      <td>TA</td>\n",
              "      <td>Y</td>\n",
              "      <td>360</td>\n",
              "      <td>36</td>\n",
              "      <td>0</td>\n",
              "      <td>0</td>\n",
              "      <td>0</td>\n",
              "      <td>0</td>\n",
              "      <td>NaN</td>\n",
              "      <td>NaN</td>\n",
              "      <td>NaN</td>\n",
              "      <td>0</td>\n",
              "      <td>6</td>\n",
              "      <td>2010</td>\n",
              "      <td>WD</td>\n",
              "      <td>Normal</td>\n",
              "    </tr>\n",
              "    <tr>\n",
              "      <th>4</th>\n",
              "      <td>1465</td>\n",
              "      <td>120</td>\n",
              "      <td>RL</td>\n",
              "      <td>43.0</td>\n",
              "      <td>5005</td>\n",
              "      <td>Pave</td>\n",
              "      <td>NaN</td>\n",
              "      <td>IR1</td>\n",
              "      <td>HLS</td>\n",
              "      <td>AllPub</td>\n",
              "      <td>Inside</td>\n",
              "      <td>Gtl</td>\n",
              "      <td>StoneBr</td>\n",
              "      <td>Norm</td>\n",
              "      <td>Norm</td>\n",
              "      <td>TwnhsE</td>\n",
              "      <td>1Story</td>\n",
              "      <td>8</td>\n",
              "      <td>5</td>\n",
              "      <td>1992</td>\n",
              "      <td>1992</td>\n",
              "      <td>Gable</td>\n",
              "      <td>CompShg</td>\n",
              "      <td>HdBoard</td>\n",
              "      <td>HdBoard</td>\n",
              "      <td>None</td>\n",
              "      <td>0.0</td>\n",
              "      <td>Gd</td>\n",
              "      <td>TA</td>\n",
              "      <td>PConc</td>\n",
              "      <td>Gd</td>\n",
              "      <td>TA</td>\n",
              "      <td>No</td>\n",
              "      <td>ALQ</td>\n",
              "      <td>263.0</td>\n",
              "      <td>Unf</td>\n",
              "      <td>0.0</td>\n",
              "      <td>1017.0</td>\n",
              "      <td>1280.0</td>\n",
              "      <td>GasA</td>\n",
              "      <td>Ex</td>\n",
              "      <td>Y</td>\n",
              "      <td>SBrkr</td>\n",
              "      <td>1280</td>\n",
              "      <td>0</td>\n",
              "      <td>0</td>\n",
              "      <td>1280</td>\n",
              "      <td>0.0</td>\n",
              "      <td>0.0</td>\n",
              "      <td>2</td>\n",
              "      <td>0</td>\n",
              "      <td>2</td>\n",
              "      <td>1</td>\n",
              "      <td>Gd</td>\n",
              "      <td>5</td>\n",
              "      <td>Typ</td>\n",
              "      <td>0</td>\n",
              "      <td>NaN</td>\n",
              "      <td>Attchd</td>\n",
              "      <td>1992.0</td>\n",
              "      <td>RFn</td>\n",
              "      <td>2.0</td>\n",
              "      <td>506.0</td>\n",
              "      <td>TA</td>\n",
              "      <td>TA</td>\n",
              "      <td>Y</td>\n",
              "      <td>0</td>\n",
              "      <td>82</td>\n",
              "      <td>0</td>\n",
              "      <td>0</td>\n",
              "      <td>144</td>\n",
              "      <td>0</td>\n",
              "      <td>NaN</td>\n",
              "      <td>NaN</td>\n",
              "      <td>NaN</td>\n",
              "      <td>0</td>\n",
              "      <td>1</td>\n",
              "      <td>2010</td>\n",
              "      <td>WD</td>\n",
              "      <td>Normal</td>\n",
              "    </tr>\n",
              "    <tr>\n",
              "      <th>5</th>\n",
              "      <td>1466</td>\n",
              "      <td>60</td>\n",
              "      <td>RL</td>\n",
              "      <td>75.0</td>\n",
              "      <td>10000</td>\n",
              "      <td>Pave</td>\n",
              "      <td>NaN</td>\n",
              "      <td>IR1</td>\n",
              "      <td>Lvl</td>\n",
              "      <td>AllPub</td>\n",
              "      <td>Corner</td>\n",
              "      <td>Gtl</td>\n",
              "      <td>Gilbert</td>\n",
              "      <td>Norm</td>\n",
              "      <td>Norm</td>\n",
              "      <td>1Fam</td>\n",
              "      <td>2Story</td>\n",
              "      <td>6</td>\n",
              "      <td>5</td>\n",
              "      <td>1993</td>\n",
              "      <td>1994</td>\n",
              "      <td>Gable</td>\n",
              "      <td>CompShg</td>\n",
              "      <td>HdBoard</td>\n",
              "      <td>HdBoard</td>\n",
              "      <td>None</td>\n",
              "      <td>0.0</td>\n",
              "      <td>TA</td>\n",
              "      <td>TA</td>\n",
              "      <td>PConc</td>\n",
              "      <td>Gd</td>\n",
              "      <td>TA</td>\n",
              "      <td>No</td>\n",
              "      <td>Unf</td>\n",
              "      <td>0.0</td>\n",
              "      <td>Unf</td>\n",
              "      <td>0.0</td>\n",
              "      <td>763.0</td>\n",
              "      <td>763.0</td>\n",
              "      <td>GasA</td>\n",
              "      <td>Gd</td>\n",
              "      <td>Y</td>\n",
              "      <td>SBrkr</td>\n",
              "      <td>763</td>\n",
              "      <td>892</td>\n",
              "      <td>0</td>\n",
              "      <td>1655</td>\n",
              "      <td>0.0</td>\n",
              "      <td>0.0</td>\n",
              "      <td>2</td>\n",
              "      <td>1</td>\n",
              "      <td>3</td>\n",
              "      <td>1</td>\n",
              "      <td>TA</td>\n",
              "      <td>7</td>\n",
              "      <td>Typ</td>\n",
              "      <td>1</td>\n",
              "      <td>TA</td>\n",
              "      <td>Attchd</td>\n",
              "      <td>1993.0</td>\n",
              "      <td>Fin</td>\n",
              "      <td>2.0</td>\n",
              "      <td>440.0</td>\n",
              "      <td>TA</td>\n",
              "      <td>TA</td>\n",
              "      <td>Y</td>\n",
              "      <td>157</td>\n",
              "      <td>84</td>\n",
              "      <td>0</td>\n",
              "      <td>0</td>\n",
              "      <td>0</td>\n",
              "      <td>0</td>\n",
              "      <td>NaN</td>\n",
              "      <td>NaN</td>\n",
              "      <td>NaN</td>\n",
              "      <td>0</td>\n",
              "      <td>4</td>\n",
              "      <td>2010</td>\n",
              "      <td>WD</td>\n",
              "      <td>Normal</td>\n",
              "    </tr>\n",
              "    <tr>\n",
              "      <th>6</th>\n",
              "      <td>1467</td>\n",
              "      <td>20</td>\n",
              "      <td>RL</td>\n",
              "      <td>NaN</td>\n",
              "      <td>7980</td>\n",
              "      <td>Pave</td>\n",
              "      <td>NaN</td>\n",
              "      <td>IR1</td>\n",
              "      <td>Lvl</td>\n",
              "      <td>AllPub</td>\n",
              "      <td>Inside</td>\n",
              "      <td>Gtl</td>\n",
              "      <td>Gilbert</td>\n",
              "      <td>Norm</td>\n",
              "      <td>Norm</td>\n",
              "      <td>1Fam</td>\n",
              "      <td>1Story</td>\n",
              "      <td>6</td>\n",
              "      <td>7</td>\n",
              "      <td>1992</td>\n",
              "      <td>2007</td>\n",
              "      <td>Gable</td>\n",
              "      <td>CompShg</td>\n",
              "      <td>HdBoard</td>\n",
              "      <td>HdBoard</td>\n",
              "      <td>None</td>\n",
              "      <td>0.0</td>\n",
              "      <td>TA</td>\n",
              "      <td>Gd</td>\n",
              "      <td>PConc</td>\n",
              "      <td>Gd</td>\n",
              "      <td>TA</td>\n",
              "      <td>No</td>\n",
              "      <td>ALQ</td>\n",
              "      <td>935.0</td>\n",
              "      <td>Unf</td>\n",
              "      <td>0.0</td>\n",
              "      <td>233.0</td>\n",
              "      <td>1168.0</td>\n",
              "      <td>GasA</td>\n",
              "      <td>Ex</td>\n",
              "      <td>Y</td>\n",
              "      <td>SBrkr</td>\n",
              "      <td>1187</td>\n",
              "      <td>0</td>\n",
              "      <td>0</td>\n",
              "      <td>1187</td>\n",
              "      <td>1.0</td>\n",
              "      <td>0.0</td>\n",
              "      <td>2</td>\n",
              "      <td>0</td>\n",
              "      <td>3</td>\n",
              "      <td>1</td>\n",
              "      <td>TA</td>\n",
              "      <td>6</td>\n",
              "      <td>Typ</td>\n",
              "      <td>0</td>\n",
              "      <td>NaN</td>\n",
              "      <td>Attchd</td>\n",
              "      <td>1992.0</td>\n",
              "      <td>Fin</td>\n",
              "      <td>2.0</td>\n",
              "      <td>420.0</td>\n",
              "      <td>TA</td>\n",
              "      <td>TA</td>\n",
              "      <td>Y</td>\n",
              "      <td>483</td>\n",
              "      <td>21</td>\n",
              "      <td>0</td>\n",
              "      <td>0</td>\n",
              "      <td>0</td>\n",
              "      <td>0</td>\n",
              "      <td>NaN</td>\n",
              "      <td>GdPrv</td>\n",
              "      <td>Shed</td>\n",
              "      <td>500</td>\n",
              "      <td>3</td>\n",
              "      <td>2010</td>\n",
              "      <td>WD</td>\n",
              "      <td>Normal</td>\n",
              "    </tr>\n",
              "    <tr>\n",
              "      <th>7</th>\n",
              "      <td>1468</td>\n",
              "      <td>60</td>\n",
              "      <td>RL</td>\n",
              "      <td>63.0</td>\n",
              "      <td>8402</td>\n",
              "      <td>Pave</td>\n",
              "      <td>NaN</td>\n",
              "      <td>IR1</td>\n",
              "      <td>Lvl</td>\n",
              "      <td>AllPub</td>\n",
              "      <td>Inside</td>\n",
              "      <td>Gtl</td>\n",
              "      <td>Gilbert</td>\n",
              "      <td>Norm</td>\n",
              "      <td>Norm</td>\n",
              "      <td>1Fam</td>\n",
              "      <td>2Story</td>\n",
              "      <td>6</td>\n",
              "      <td>5</td>\n",
              "      <td>1998</td>\n",
              "      <td>1998</td>\n",
              "      <td>Gable</td>\n",
              "      <td>CompShg</td>\n",
              "      <td>VinylSd</td>\n",
              "      <td>VinylSd</td>\n",
              "      <td>None</td>\n",
              "      <td>0.0</td>\n",
              "      <td>TA</td>\n",
              "      <td>TA</td>\n",
              "      <td>PConc</td>\n",
              "      <td>Gd</td>\n",
              "      <td>TA</td>\n",
              "      <td>No</td>\n",
              "      <td>Unf</td>\n",
              "      <td>0.0</td>\n",
              "      <td>Unf</td>\n",
              "      <td>0.0</td>\n",
              "      <td>789.0</td>\n",
              "      <td>789.0</td>\n",
              "      <td>GasA</td>\n",
              "      <td>Gd</td>\n",
              "      <td>Y</td>\n",
              "      <td>SBrkr</td>\n",
              "      <td>789</td>\n",
              "      <td>676</td>\n",
              "      <td>0</td>\n",
              "      <td>1465</td>\n",
              "      <td>0.0</td>\n",
              "      <td>0.0</td>\n",
              "      <td>2</td>\n",
              "      <td>1</td>\n",
              "      <td>3</td>\n",
              "      <td>1</td>\n",
              "      <td>TA</td>\n",
              "      <td>7</td>\n",
              "      <td>Typ</td>\n",
              "      <td>1</td>\n",
              "      <td>Gd</td>\n",
              "      <td>Attchd</td>\n",
              "      <td>1998.0</td>\n",
              "      <td>Fin</td>\n",
              "      <td>2.0</td>\n",
              "      <td>393.0</td>\n",
              "      <td>TA</td>\n",
              "      <td>TA</td>\n",
              "      <td>Y</td>\n",
              "      <td>0</td>\n",
              "      <td>75</td>\n",
              "      <td>0</td>\n",
              "      <td>0</td>\n",
              "      <td>0</td>\n",
              "      <td>0</td>\n",
              "      <td>NaN</td>\n",
              "      <td>NaN</td>\n",
              "      <td>NaN</td>\n",
              "      <td>0</td>\n",
              "      <td>5</td>\n",
              "      <td>2010</td>\n",
              "      <td>WD</td>\n",
              "      <td>Normal</td>\n",
              "    </tr>\n",
              "    <tr>\n",
              "      <th>8</th>\n",
              "      <td>1469</td>\n",
              "      <td>20</td>\n",
              "      <td>RL</td>\n",
              "      <td>85.0</td>\n",
              "      <td>10176</td>\n",
              "      <td>Pave</td>\n",
              "      <td>NaN</td>\n",
              "      <td>Reg</td>\n",
              "      <td>Lvl</td>\n",
              "      <td>AllPub</td>\n",
              "      <td>Inside</td>\n",
              "      <td>Gtl</td>\n",
              "      <td>Gilbert</td>\n",
              "      <td>Norm</td>\n",
              "      <td>Norm</td>\n",
              "      <td>1Fam</td>\n",
              "      <td>1Story</td>\n",
              "      <td>7</td>\n",
              "      <td>5</td>\n",
              "      <td>1990</td>\n",
              "      <td>1990</td>\n",
              "      <td>Gable</td>\n",
              "      <td>CompShg</td>\n",
              "      <td>HdBoard</td>\n",
              "      <td>HdBoard</td>\n",
              "      <td>None</td>\n",
              "      <td>0.0</td>\n",
              "      <td>TA</td>\n",
              "      <td>TA</td>\n",
              "      <td>PConc</td>\n",
              "      <td>Gd</td>\n",
              "      <td>TA</td>\n",
              "      <td>Gd</td>\n",
              "      <td>GLQ</td>\n",
              "      <td>637.0</td>\n",
              "      <td>Unf</td>\n",
              "      <td>0.0</td>\n",
              "      <td>663.0</td>\n",
              "      <td>1300.0</td>\n",
              "      <td>GasA</td>\n",
              "      <td>Gd</td>\n",
              "      <td>Y</td>\n",
              "      <td>SBrkr</td>\n",
              "      <td>1341</td>\n",
              "      <td>0</td>\n",
              "      <td>0</td>\n",
              "      <td>1341</td>\n",
              "      <td>1.0</td>\n",
              "      <td>0.0</td>\n",
              "      <td>1</td>\n",
              "      <td>1</td>\n",
              "      <td>2</td>\n",
              "      <td>1</td>\n",
              "      <td>Gd</td>\n",
              "      <td>5</td>\n",
              "      <td>Typ</td>\n",
              "      <td>1</td>\n",
              "      <td>Po</td>\n",
              "      <td>Attchd</td>\n",
              "      <td>1990.0</td>\n",
              "      <td>Unf</td>\n",
              "      <td>2.0</td>\n",
              "      <td>506.0</td>\n",
              "      <td>TA</td>\n",
              "      <td>TA</td>\n",
              "      <td>Y</td>\n",
              "      <td>192</td>\n",
              "      <td>0</td>\n",
              "      <td>0</td>\n",
              "      <td>0</td>\n",
              "      <td>0</td>\n",
              "      <td>0</td>\n",
              "      <td>NaN</td>\n",
              "      <td>NaN</td>\n",
              "      <td>NaN</td>\n",
              "      <td>0</td>\n",
              "      <td>2</td>\n",
              "      <td>2010</td>\n",
              "      <td>WD</td>\n",
              "      <td>Normal</td>\n",
              "    </tr>\n",
              "    <tr>\n",
              "      <th>9</th>\n",
              "      <td>1470</td>\n",
              "      <td>20</td>\n",
              "      <td>RL</td>\n",
              "      <td>70.0</td>\n",
              "      <td>8400</td>\n",
              "      <td>Pave</td>\n",
              "      <td>NaN</td>\n",
              "      <td>Reg</td>\n",
              "      <td>Lvl</td>\n",
              "      <td>AllPub</td>\n",
              "      <td>Corner</td>\n",
              "      <td>Gtl</td>\n",
              "      <td>NAmes</td>\n",
              "      <td>Norm</td>\n",
              "      <td>Norm</td>\n",
              "      <td>1Fam</td>\n",
              "      <td>1Story</td>\n",
              "      <td>4</td>\n",
              "      <td>5</td>\n",
              "      <td>1970</td>\n",
              "      <td>1970</td>\n",
              "      <td>Gable</td>\n",
              "      <td>CompShg</td>\n",
              "      <td>Plywood</td>\n",
              "      <td>Plywood</td>\n",
              "      <td>None</td>\n",
              "      <td>0.0</td>\n",
              "      <td>TA</td>\n",
              "      <td>TA</td>\n",
              "      <td>CBlock</td>\n",
              "      <td>TA</td>\n",
              "      <td>TA</td>\n",
              "      <td>No</td>\n",
              "      <td>ALQ</td>\n",
              "      <td>804.0</td>\n",
              "      <td>Rec</td>\n",
              "      <td>78.0</td>\n",
              "      <td>0.0</td>\n",
              "      <td>882.0</td>\n",
              "      <td>GasA</td>\n",
              "      <td>TA</td>\n",
              "      <td>Y</td>\n",
              "      <td>SBrkr</td>\n",
              "      <td>882</td>\n",
              "      <td>0</td>\n",
              "      <td>0</td>\n",
              "      <td>882</td>\n",
              "      <td>1.0</td>\n",
              "      <td>0.0</td>\n",
              "      <td>1</td>\n",
              "      <td>0</td>\n",
              "      <td>2</td>\n",
              "      <td>1</td>\n",
              "      <td>TA</td>\n",
              "      <td>4</td>\n",
              "      <td>Typ</td>\n",
              "      <td>0</td>\n",
              "      <td>NaN</td>\n",
              "      <td>Attchd</td>\n",
              "      <td>1970.0</td>\n",
              "      <td>Fin</td>\n",
              "      <td>2.0</td>\n",
              "      <td>525.0</td>\n",
              "      <td>TA</td>\n",
              "      <td>TA</td>\n",
              "      <td>Y</td>\n",
              "      <td>240</td>\n",
              "      <td>0</td>\n",
              "      <td>0</td>\n",
              "      <td>0</td>\n",
              "      <td>0</td>\n",
              "      <td>0</td>\n",
              "      <td>NaN</td>\n",
              "      <td>MnPrv</td>\n",
              "      <td>NaN</td>\n",
              "      <td>0</td>\n",
              "      <td>4</td>\n",
              "      <td>2010</td>\n",
              "      <td>WD</td>\n",
              "      <td>Normal</td>\n",
              "    </tr>\n",
              "  </tbody>\n",
              "</table>\n",
              "</div>"
            ],
            "text/plain": [
              "     Id  MSSubClass MSZoning  ...  YrSold  SaleType SaleCondition\n",
              "0  1461          20       RH  ...    2010        WD        Normal\n",
              "1  1462          20       RL  ...    2010        WD        Normal\n",
              "2  1463          60       RL  ...    2010        WD        Normal\n",
              "3  1464          60       RL  ...    2010        WD        Normal\n",
              "4  1465         120       RL  ...    2010        WD        Normal\n",
              "5  1466          60       RL  ...    2010        WD        Normal\n",
              "6  1467          20       RL  ...    2010        WD        Normal\n",
              "7  1468          60       RL  ...    2010        WD        Normal\n",
              "8  1469          20       RL  ...    2010        WD        Normal\n",
              "9  1470          20       RL  ...    2010        WD        Normal\n",
              "\n",
              "[10 rows x 80 columns]"
            ]
          },
          "metadata": {
            "tags": []
          },
          "execution_count": 7
        }
      ]
    },
    {
      "cell_type": "markdown",
      "metadata": {
        "id": "1p4aimaAWYoq",
        "colab_type": "text"
      },
      "source": [
        "If we compare both datasets, we see that the test data has one feature/column less than the train data. \n",
        "\n",
        "But if we think about our target variable 'SalePrice', which we wanna predict, it makes sense that it is missing in the test dataset.\n",
        "\n",
        "Now let's see with which datatypes we are dealing with:"
      ]
    },
    {
      "cell_type": "code",
      "metadata": {
        "id": "Ho-RPyDgW7aV",
        "colab_type": "code",
        "colab": {
          "base_uri": "https://localhost:8080/",
          "height": 88
        },
        "outputId": "c1c223c6-1ccc-481d-ee73-ca3f7cfb506e"
      },
      "source": [
        "#check the occuring datatypes and their amount\n",
        "train.dtypes.value_counts()"
      ],
      "execution_count": 8,
      "outputs": [
        {
          "output_type": "execute_result",
          "data": {
            "text/plain": [
              "object     43\n",
              "int64      35\n",
              "float64     3\n",
              "dtype: int64"
            ]
          },
          "metadata": {
            "tags": []
          },
          "execution_count": 8
        }
      ]
    },
    {
      "cell_type": "markdown",
      "metadata": {
        "id": "oh8-2EukXwQm",
        "colab_type": "text"
      },
      "source": [
        "The result shows that we are dealing with numerical (int64 & float64) and categorical (object) data. Later on, we gonna check if they all are declared correct. For example, features containing a year/month are often declared as a numerical feature, but they should be handled as categorical. "
      ]
    },
    {
      "cell_type": "markdown",
      "metadata": {
        "id": "iNS-ojudUwei",
        "colab_type": "text"
      },
      "source": [
        "# 4. Have a look at the target variable 'SalePrice'"
      ]
    },
    {
      "cell_type": "markdown",
      "metadata": {
        "id": "YnH6BXr2gUvi",
        "colab_type": "text"
      },
      "source": [
        "SalePrice is the target variable which we wanna predict. Therefore, we gonna have a closer look at it."
      ]
    },
    {
      "cell_type": "code",
      "metadata": {
        "id": "WSgYFivfa3Pg",
        "colab_type": "code",
        "colab": {
          "base_uri": "https://localhost:8080/",
          "height": 177
        },
        "outputId": "7af8a01e-71c4-4e2a-f173-3fa80400959e"
      },
      "source": [
        "#get an overview over the feature SalePrice\n",
        "train.SalePrice.describe()"
      ],
      "execution_count": 9,
      "outputs": [
        {
          "output_type": "execute_result",
          "data": {
            "text/plain": [
              "count      1460.000000\n",
              "mean     180921.195890\n",
              "std       79442.502883\n",
              "min       34900.000000\n",
              "25%      129975.000000\n",
              "50%      163000.000000\n",
              "75%      214000.000000\n",
              "max      755000.000000\n",
              "Name: SalePrice, dtype: float64"
            ]
          },
          "metadata": {
            "tags": []
          },
          "execution_count": 9
        }
      ]
    },
    {
      "cell_type": "markdown",
      "metadata": {
        "id": "OAvAfqSoa6O7",
        "colab_type": "text"
      },
      "source": [
        "The description of the SalePrice provides some interesting first insights:\n",
        "\n",
        "*   The average price of a house is 180.921 dollars.\n",
        "*   The cheapest house costs 349.000 dollars.\n",
        "*   The most expensive house costs 755.000 dollars.\n",
        "\n",
        "To get an impression of the distribution of the SalePrice let's plot it into a histogramm.\n",
        "\n",
        "\n",
        "\n"
      ]
    },
    {
      "cell_type": "code",
      "metadata": {
        "id": "ZO2kVSThb5aP",
        "colab_type": "code",
        "colab": {
          "base_uri": "https://localhost:8080/",
          "height": 432
        },
        "outputId": "38925cdc-6541-461e-a82e-45b7f4ac53e3"
      },
      "source": [
        "#group the sale price into categories to visualise distribution\n",
        "\n",
        "#sort the values from the top to the least value\n",
        "df = train.SalePrice.sort_values(ascending = False)\n",
        "df\n",
        "\n",
        "#create bins\n",
        "binsVal = np.arange(0, 800000, 50000)\n",
        "binsVal\n",
        "\n",
        "#set figure size and create histogram\n",
        "plt.figure(figsize=[10,6])\n",
        "plt.hist(df, bins = binsVal, color='green')\n",
        "\n",
        "#set the title, xticks and labels\n",
        "plt.xlabel('SalePrice')\n",
        "plt.xticks(rotation='90')\n",
        "plt.xticks([0, 50000, 100000, 150000, 200000, 250000, 300000, 350000, 400000, 450000, 500000, 550000, 600000, 650000, 700000, 750000, 800000])\n",
        "plt.ylabel('Number of Houses')\n",
        "plt.title('SalePrice Histrogram')\n",
        "\n",
        "#show plot\n",
        "plt.show()"
      ],
      "execution_count": 10,
      "outputs": [
        {
          "output_type": "display_data",
          "data": {
            "image/png": "[encoded data removed]",
            "text/plain": [
              "<Figure size 720x432 with 1 Axes>"
            ]
          },
          "metadata": {
            "tags": [],
            "needs_background": "light"
          }
        }
      ]
    },
    {
      "cell_type": "markdown",
      "metadata": {
        "id": "FyRzQfrKcEFO",
        "colab_type": "text"
      },
      "source": [
        "The first histogram created with matplotlib shows a first distribution of the SalePrice. \n",
        "\n",
        "You can see that almost 2/3(~900 of 1460) of the houses cost between 100.000 and 200.000 dollars and only a few houses cost more than 400.000 dollars.\n",
        "\n",
        "Furthermore, it would be nice to have a best fit line, to be able to make a better statement about the distribution.\n",
        "\n",
        "The best fit line could be created (in my opinion) in a very circumstantial way with matplotlib (tried it, but failed). But there is a better alternative: [seaborn.distplot](https://seaborn.pydata.org/generated/seaborn.distplot.html?highlight=distplot#seaborn.distplot)"
      ]
    },
    {
      "cell_type": "code",
      "metadata": {
        "id": "Rt2Rl-I9dRZO",
        "colab_type": "code",
        "colab": {
          "base_uri": "https://localhost:8080/",
          "height": 427
        },
        "outputId": "c6d096c1-d249-43c8-ba43-fe7135c94c25"
      },
      "source": [
        "#set the size of the figure\n",
        "plt.figure(figsize=[10,6])\n",
        "plt.xticks(rotation='90')\n",
        "#create plot\n",
        "sns.distplot(train.SalePrice, color='green')\n",
        "#show plot\n",
        "plt.show()"
      ],
      "execution_count": 11,
      "outputs": [
        {
          "output_type": "display_data",
          "data": {
            "image/png": "[encoded data removed]",
            "text/plain": [
              "<Figure size 720x432 with 1 Axes>"
            ]
          },
          "metadata": {
            "tags": [],
            "needs_background": "light"
          }
        }
      ]
    },
    {
      "cell_type": "markdown",
      "metadata": {
        "id": "31hTG6_MdmPZ",
        "colab_type": "text"
      },
      "source": [
        "As you can see the best fit line is already included in this kind of plot. \n",
        "\n",
        "The best fit line shows us that the SalePrice is not normally distributed, it is right-skewed! Right-skewed means that the tail is on the right side of the distribution and indicates a positive skewed data.([More info about skewness](https://medium.com/@TheDataGyan/day-8-data-transformation-skewness-normalization-and-much-more-4c144d370e55))\n",
        "\n",
        "But let's check the skewness value:"
      ]
    },
    {
      "cell_type": "code",
      "metadata": {
        "id": "8IGt1VZbfQkL",
        "colab_type": "code",
        "colab": {
          "base_uri": "https://localhost:8080/",
          "height": 35
        },
        "outputId": "e3397fec-5422-4529-a615-6cf586c8f863"
      },
      "source": [
        "train.SalePrice.skew()"
      ],
      "execution_count": 12,
      "outputs": [
        {
          "output_type": "execute_result",
          "data": {
            "text/plain": [
              "1.8828757597682129"
            ]
          },
          "metadata": {
            "tags": []
          },
          "execution_count": 12
        }
      ]
    },
    {
      "cell_type": "markdown",
      "metadata": {
        "id": "09F28n4Yfko8",
        "colab_type": "text"
      },
      "source": [
        "The skewness value of 1.8 confirms the assumption about the skewness. \n",
        "\n",
        "If the skewness value lies above 1 or is lower than -1 the distribution is highly skewed. ([More info about skewness](https://medium.com/@TheDataGyan/day-8-data-transformation-skewness-normalization-and-much-more-4c144d370e55))\n",
        "\n",
        "Therefore, we need to transform the distribution of SalePrice.\n",
        "\n",
        "But why? Because we need a normal distribution to get good predicitions with the ML models.\n",
        "\n",
        "We gonna fix this, after we had a look on the other features and their correlation to the SalePrice."
      ]
    },
    {
      "cell_type": "markdown",
      "metadata": {
        "id": "SzQ1M37zU2Du",
        "colab_type": "text"
      },
      "source": [
        "# 5. Other features, their correlation to the target variable 'SalePrice' and Outliers"
      ]
    },
    {
      "cell_type": "markdown",
      "metadata": {
        "id": "XJ-u0jm7gO5F",
        "colab_type": "text"
      },
      "source": [
        "Let's have a look at the other features, their correlation with SalePrice and check outliers. \n",
        "\n",
        "We have already evaluated that we are dealing with numerical and categorical data. Let's see which features are of which datatype: "
      ]
    },
    {
      "cell_type": "code",
      "metadata": {
        "id": "Ua062ss1lI-B",
        "colab_type": "code",
        "colab": {
          "base_uri": "https://localhost:8080/",
          "height": 426
        },
        "outputId": "ba394d43-1524-4df6-bc5c-e4806c0be6b3"
      },
      "source": [
        "#get all numerical columns \n",
        "numerical = train.dtypes[train.dtypes != 'object'].index\n",
        "\n",
        "#get all categorical columns \n",
        "categorical = train.dtypes[train.dtypes == 'object'].index\n",
        "\n",
        "#show both\n",
        "print('List of numerical columns: \\n',numerical, '\\n\\n')\n",
        "print('List of categorical columns: \\n',categorical)"
      ],
      "execution_count": 13,
      "outputs": [
        {
          "output_type": "stream",
          "text": [
            "List of numerical columns: \n",
            " Index(['Id', 'MSSubClass', 'LotFrontage', 'LotArea', 'OverallQual',\n",
            "       'OverallCond', 'YearBuilt', 'YearRemodAdd', 'MasVnrArea', 'BsmtFinSF1',\n",
            "       'BsmtFinSF2', 'BsmtUnfSF', 'TotalBsmtSF', '1stFlrSF', '2ndFlrSF',\n",
            "       'LowQualFinSF', 'GrLivArea', 'BsmtFullBath', 'BsmtHalfBath', 'FullBath',\n",
            "       'HalfBath', 'BedroomAbvGr', 'KitchenAbvGr', 'TotRmsAbvGrd',\n",
            "       'Fireplaces', 'GarageYrBlt', 'GarageCars', 'GarageArea', 'WoodDeckSF',\n",
            "       'OpenPorchSF', 'EnclosedPorch', '3SsnPorch', 'ScreenPorch', 'PoolArea',\n",
            "       'MiscVal', 'MoSold', 'YrSold', 'SalePrice'],\n",
            "      dtype='object') \n",
            "\n",
            "\n",
            "List of categorical columns: \n",
            " Index(['MSZoning', 'Street', 'Alley', 'LotShape', 'LandContour', 'Utilities',\n",
            "       'LotConfig', 'LandSlope', 'Neighborhood', 'Condition1', 'Condition2',\n",
            "       'BldgType', 'HouseStyle', 'RoofStyle', 'RoofMatl', 'Exterior1st',\n",
            "       'Exterior2nd', 'MasVnrType', 'ExterQual', 'ExterCond', 'Foundation',\n",
            "       'BsmtQual', 'BsmtCond', 'BsmtExposure', 'BsmtFinType1', 'BsmtFinType2',\n",
            "       'Heating', 'HeatingQC', 'CentralAir', 'Electrical', 'KitchenQual',\n",
            "       'Functional', 'FireplaceQu', 'GarageType', 'GarageFinish', 'GarageQual',\n",
            "       'GarageCond', 'PavedDrive', 'PoolQC', 'Fence', 'MiscFeature',\n",
            "       'SaleType', 'SaleCondition'],\n",
            "      dtype='object')\n"
          ],
          "name": "stdout"
        }
      ]
    },
    {
      "cell_type": "markdown",
      "metadata": {
        "id": "oX3Rpoqxle77",
        "colab_type": "text"
      },
      "source": [
        "The ID is included in the list of numerical features, but ID is only a random number for identification and doesn't have any impact on the SalePrice (our prediction). Therefore we gonna drop it.\n"
      ]
    },
    {
      "cell_type": "code",
      "metadata": {
        "id": "RUyXoHRdrQWi",
        "colab_type": "code",
        "colab": {}
      },
      "source": [
        "#save IDs in a variable\n",
        "train_id = train['Id']\n",
        "test_id = test['Id']\n",
        "#drop the feature 'ID'\n",
        "train.drop(['Id'], axis = 1, inplace = True)\n",
        "test.drop(['Id'], axis = 1, inplace = True)"
      ],
      "execution_count": 14,
      "outputs": []
    },
    {
      "cell_type": "markdown",
      "metadata": {
        "id": "xK0iO-N7rOvz",
        "colab_type": "text"
      },
      "source": [
        "Now let's check the correlation of all features with the target variable SalePrice."
      ]
    },
    {
      "cell_type": "code",
      "metadata": {
        "id": "R2vo2evOmZth",
        "colab_type": "code",
        "colab": {
          "base_uri": "https://localhost:8080/",
          "height": 692
        },
        "outputId": "517db412-d503-473f-e8bf-24644da894ac"
      },
      "source": [
        "#get correlation of all features with SalePrice and list them in descending order\n",
        "corr = train.corr()\n",
        "corr['SalePrice'].sort_values(ascending=False)"
      ],
      "execution_count": 15,
      "outputs": [
        {
          "output_type": "execute_result",
          "data": {
            "text/plain": [
              "SalePrice        1.000000\n",
              "OverallQual      0.790982\n",
              "GrLivArea        0.708624\n",
              "GarageCars       0.640409\n",
              "GarageArea       0.623431\n",
              "TotalBsmtSF      0.613581\n",
              "1stFlrSF         0.605852\n",
              "FullBath         0.560664\n",
              "TotRmsAbvGrd     0.533723\n",
              "YearBuilt        0.522897\n",
              "YearRemodAdd     0.507101\n",
              "GarageYrBlt      0.486362\n",
              "MasVnrArea       0.477493\n",
              "Fireplaces       0.466929\n",
              "BsmtFinSF1       0.386420\n",
              "LotFrontage      0.351799\n",
              "WoodDeckSF       0.324413\n",
              "2ndFlrSF         0.319334\n",
              "OpenPorchSF      0.315856\n",
              "HalfBath         0.284108\n",
              "LotArea          0.263843\n",
              "BsmtFullBath     0.227122\n",
              "BsmtUnfSF        0.214479\n",
              "BedroomAbvGr     0.168213\n",
              "ScreenPorch      0.111447\n",
              "PoolArea         0.092404\n",
              "MoSold           0.046432\n",
              "3SsnPorch        0.044584\n",
              "BsmtFinSF2      -0.011378\n",
              "BsmtHalfBath    -0.016844\n",
              "MiscVal         -0.021190\n",
              "LowQualFinSF    -0.025606\n",
              "YrSold          -0.028923\n",
              "OverallCond     -0.077856\n",
              "MSSubClass      -0.084284\n",
              "EnclosedPorch   -0.128578\n",
              "KitchenAbvGr    -0.135907\n",
              "Name: SalePrice, dtype: float64"
            ]
          },
          "metadata": {
            "tags": []
          },
          "execution_count": 15
        }
      ]
    },
    {
      "cell_type": "markdown",
      "metadata": {
        "id": "Wlm8RfJHDj91",
        "colab_type": "text"
      },
      "source": [
        "As you can see, there are a lot of features correlated with the target feature SalePrice. Of course, SalePrice has the highest correlation with itself.\n",
        "\n",
        "Let's have a closer look on the 10 most correlated features."
      ]
    },
    {
      "cell_type": "code",
      "metadata": {
        "id": "OPxY0y5-iZkm",
        "colab_type": "code",
        "colab": {}
      },
      "source": [
        "#get top10 most correlated features\n",
        "corr10 = corr.nlargest(10, ['SalePrice'])"
      ],
      "execution_count": 16,
      "outputs": []
    },
    {
      "cell_type": "code",
      "metadata": {
        "id": "TO-p7pWEC2xI",
        "colab_type": "code",
        "colab": {
          "base_uri": "https://localhost:8080/",
          "height": 357
        },
        "outputId": "a353042d-ff94-4654-985f-e5fe60078561"
      },
      "source": [
        "#plot heatmap of correlated features\n",
        "plt.subplots(figsize=(10,6))\n",
        "sns.heatmap(corr10, vmax=0.9, cmap='RdYlGn', square=True)\n",
        "plt.show()"
      ],
      "execution_count": 17,
      "outputs": [
        {
          "output_type": "display_data",
          "data": {
            "image/png": "[encoded data removed]",
            "text/plain": [
              "<Figure size 720x432 with 2 Axes>"
            ]
          },
          "metadata": {
            "tags": [],
            "needs_background": "light"
          }
        }
      ]
    },
    {
      "cell_type": "markdown",
      "metadata": {
        "id": "G9hQHedznIjX",
        "colab_type": "text"
      },
      "source": [
        "You can see the high correlation (green) of the features to SalePrice on the colum on the far right of the heatmap.\n",
        "\n",
        "Let's visualise the top 9 most correlated features (SalePrice doesn't make sense):"
      ]
    },
    {
      "cell_type": "code",
      "metadata": {
        "id": "WL0yvMK4Jllz",
        "colab_type": "code",
        "colab": {
          "base_uri": "https://localhost:8080/",
          "height": 585
        },
        "outputId": "4282d802-66b5-419d-9b1b-e00a3251a7b2"
      },
      "source": [
        "fig, axs = plt.subplots(3, 3, figsize=(12,8))\n",
        "#OverallQual vs. SalePrice\n",
        "axs[0, 0].scatter(train['OverallQual'], train['SalePrice'], c='green', alpha = 0.7)\n",
        "axs[0, 0].set_xlabel('OverallQual')\n",
        "axs[0, 0].set_ylabel('SalePrice')\n",
        "#GrLivArea vs. SalePrice\n",
        "axs[0, 1].scatter(train['GrLivArea'], train['SalePrice'], c='green', alpha = 0.7)\n",
        "axs[0, 1].set_xlabel('GrLivArea')\n",
        "axs[0, 1].set_ylabel('SalePrice')\n",
        "#GarageCars vs. SalePrice\n",
        "axs[0, 2].scatter(train['GarageCars'], train['SalePrice'], c='green', alpha = 0.7)\n",
        "axs[0, 2].set_xlabel('GarageCars')\n",
        "axs[0, 2].set_ylabel('SalePrice')\n",
        "#GarageArea vs. SalePrice\n",
        "axs[1, 0].scatter(train['GarageArea'], train['SalePrice'], c='green', alpha = 0.7)\n",
        "axs[1, 0].set_xlabel('GarageArea')\n",
        "axs[1, 0].set_ylabel('SalePrice')\n",
        "#TotalBsmtSF vs. SalePrice\n",
        "axs[1, 1].scatter(train['TotalBsmtSF'], train['SalePrice'], c='green', alpha = 0.7)\n",
        "axs[1, 1].set_xlabel('TotalBsmtSF')\n",
        "axs[1, 1].set_ylabel('SalePrice')\n",
        "#1stFlrSF vs. SalePrice\n",
        "axs[1, 2].scatter(train['1stFlrSF'], train['SalePrice'], c='green', alpha = 0.7)\n",
        "axs[1, 2].set_xlabel('1stFlrSF')\n",
        "axs[1, 2].set_ylabel('SalePrice')\n",
        "#FullBath vs. SalePrice\n",
        "axs[2, 0].scatter(train['FullBath'], train['SalePrice'], c='green', alpha = 0.7)\n",
        "axs[2, 0].set_xlabel('FullBath')\n",
        "axs[2, 0].set_ylabel('SalePrice')\n",
        "#YearBuilt vs. SalePrice\n",
        "axs[2, 1].scatter(train['YearBuilt'], train['SalePrice'], c='green', alpha = 0.7)\n",
        "axs[2, 1].set_xlabel('YearBuilt')\n",
        "axs[2, 1].set_ylabel('SalePrice')\n",
        "#YearRemodAdd vs. SalePrice\n",
        "axs[2, 2].scatter(train['YearRemodAdd'], train['SalePrice'], c='green', alpha = 0.7)\n",
        "axs[2, 2].set_xlabel('YearRemodAdd')\n",
        "axs[2, 2].set_ylabel('SalePrice')\n",
        "\n",
        "fig.tight_layout()\n",
        "plt.show()"
      ],
      "execution_count": 18,
      "outputs": [
        {
          "output_type": "display_data",
          "data": {
            "image/png": "[encoded data removed]",
            "text/plain": [
              "<Figure size 864x576 with 9 Axes>"
            ]
          },
          "metadata": {
            "tags": [],
            "needs_background": "light"
          }
        }
      ]
    },
    {
      "cell_type": "markdown",
      "metadata": {
        "id": "8w1AvVjcPCup",
        "colab_type": "text"
      },
      "source": [
        "As you can see in the graphs above, there are clearly some outliers in four relations: \n",
        "*   OverallQual vs. SalePrice\n",
        "*   GrLivArea vs. SalePrice \n",
        "*   TotalBsmtSF vs. SalePrice\n",
        "*   1stFlrSF vs. SalePrice\n",
        "\n",
        "You can discuss if there are outliers in other relations too, but we don't want to delete too many data points.\n",
        "\n",
        "So let's drop those outliers we have identified:\n",
        "\n"
      ]
    },
    {
      "cell_type": "code",
      "metadata": {
        "id": "navpxoaZOa4Z",
        "colab_type": "code",
        "colab": {}
      },
      "source": [
        "#drop outliers of SalePrice vs. OverallQual\n",
        "train.drop(train[(train['OverallQual']<5) & (train['SalePrice']>200000)].index, inplace=True)\n",
        "#drop outliers of SalePrice vs. GrLivArea\n",
        "train.drop(train[(train['GrLivArea']>4000) & (train['SalePrice']<300000)].index, inplace=True)\n",
        "#drop outliers of SalePrice vs. TotalBsmtSF\n",
        "train.drop(train[(train['TotalBsmtSF']>5000) & (train['SalePrice']<300000)].index, inplace=True)\n",
        "#drop outliers of SalePrice vs. 1stFlrSF\n",
        "train.drop(train[(train['1stFlrSF']>5000) & (train['SalePrice']<300000)].index, inplace=True)\n",
        "train.reset_index(drop=True, inplace=True)"
      ],
      "execution_count": 19,
      "outputs": []
    },
    {
      "cell_type": "markdown",
      "metadata": {
        "id": "E_xCRvGeO9ra",
        "colab_type": "text"
      },
      "source": [
        "# 6. Fixing skewness of SalePrice"
      ]
    },
    {
      "cell_type": "markdown",
      "metadata": {
        "id": "-NPOXAY5Pf32",
        "colab_type": "text"
      },
      "source": [
        "To fix positively skewed data there are different common options. For example cube root transformation, square root transformation or logarithm transformation. [Fixing Skewness](https://medium.com/@TheDataGyan/day-8-data-transformation-skewness-normalization-and-much-more-4c144d370e55)\n",
        "\n",
        "We are using the numpy function log1p. It applies log(1+x) to all elements of the column."
      ]
    },
    {
      "cell_type": "code",
      "metadata": {
        "id": "fqFHjWGgPQcS",
        "colab_type": "code",
        "colab": {}
      },
      "source": [
        "#transform SalePrice\n",
        "train.SalePrice = np.log1p(train.SalePrice)"
      ],
      "execution_count": 20,
      "outputs": []
    },
    {
      "cell_type": "code",
      "metadata": {
        "id": "T22-LBYPPSfR",
        "colab_type": "code",
        "colab": {
          "base_uri": "https://localhost:8080/",
          "height": 35
        },
        "outputId": "8c2585d5-9c5a-4bc4-8ec5-ea96f3328142"
      },
      "source": [
        "#check the skewness after transformation\n",
        "train.SalePrice.skew()"
      ],
      "execution_count": 21,
      "outputs": [
        {
          "output_type": "execute_result",
          "data": {
            "text/plain": [
              "0.12304515868289599"
            ]
          },
          "metadata": {
            "tags": []
          },
          "execution_count": 21
        }
      ]
    },
    {
      "cell_type": "code",
      "metadata": {
        "id": "IoF_Pl5FPUAC",
        "colab_type": "code",
        "colab": {
          "base_uri": "https://localhost:8080/",
          "height": 388
        },
        "outputId": "84af8dfd-9fb7-4c3f-9f6d-9cfcafd323cd"
      },
      "source": [
        "#plot the distribution after transformation\n",
        "df2 = train.SalePrice.sort_values(ascending = False)\n",
        "\n",
        "plt.figure(figsize=[15,6])\n",
        "sns.distplot(df2, color='green')\n",
        "plt.show()"
      ],
      "execution_count": 22,
      "outputs": [
        {
          "output_type": "display_data",
          "data": {
            "image/png": "[encoded data removed]",
            "text/plain": [
              "<Figure size 1080x432 with 1 Axes>"
            ]
          },
          "metadata": {
            "tags": [],
            "needs_background": "light"
          }
        }
      ]
    },
    {
      "cell_type": "markdown",
      "metadata": {
        "id": "1WCKkBsyPnkE",
        "colab_type": "text"
      },
      "source": [
        "You can see now, that the distribution is (almost) normally distributed. We can work on with this distribution."
      ]
    },
    {
      "cell_type": "markdown",
      "metadata": {
        "id": "vaBTElVZVWtI",
        "colab_type": "text"
      },
      "source": [
        "# 7. Search and handle NaN-values"
      ]
    },
    {
      "cell_type": "markdown",
      "metadata": {
        "id": "9p4mCgFDwEoD",
        "colab_type": "text"
      },
      "source": [
        "Another important aspect is searching and handling NaN-values (missing values). \n",
        "\n",
        "First we gonna concatenate both datasets so we can handle them both at once."
      ]
    },
    {
      "cell_type": "code",
      "metadata": {
        "id": "UdKL1D9X0Ty1",
        "colab_type": "code",
        "colab": {}
      },
      "source": [
        "ntrain = train.shape[0]\n",
        "ntest = test.shape[0]\n",
        "#save the SalePrice values from the training set in a variable\n",
        "y = train.SalePrice.values\n",
        "#put train and test data together to handle both at once\n",
        "concat_data = pd.concat((train, test)).reset_index(drop=True)\n",
        "#drop target variable SalePrice because it's only part of train data\n",
        "concat_data.drop(['SalePrice'], axis = 1, inplace = True)"
      ],
      "execution_count": 23,
      "outputs": []
    },
    {
      "cell_type": "code",
      "metadata": {
        "id": "F-NOLNZIwGv-",
        "colab_type": "code",
        "colab": {
          "base_uri": "https://localhost:8080/",
          "height": 657
        },
        "outputId": "39721e3c-e2a0-4b0c-f47c-6bd8f21a51f6"
      },
      "source": [
        "#search NaN-values per column in combined data\n",
        "missing_val_count_by_column = (concat_data.isnull().sum())\n",
        "\n",
        "#show all columns which have NaN-values and the number of NaN-values in descending order \n",
        "nanvalues = missing_val_count_by_column[missing_val_count_by_column > 0].sort_values(ascending=False)\n",
        "print('Number of NaN-values per column:\\n',nanvalues)"
      ],
      "execution_count": 24,
      "outputs": [
        {
          "output_type": "stream",
          "text": [
            "Number of NaN-values per column:\n",
            " PoolQC          2907\n",
            "MiscFeature     2811\n",
            "Alley           2718\n",
            "Fence           2345\n",
            "FireplaceQu     1420\n",
            "LotFrontage      485\n",
            "GarageFinish     159\n",
            "GarageYrBlt      159\n",
            "GarageQual       159\n",
            "GarageCond       159\n",
            "GarageType       157\n",
            "BsmtExposure      82\n",
            "BsmtCond          82\n",
            "BsmtQual          81\n",
            "BsmtFinType2      80\n",
            "BsmtFinType1      79\n",
            "MasVnrType        24\n",
            "MasVnrArea        23\n",
            "MSZoning           4\n",
            "BsmtFullBath       2\n",
            "BsmtHalfBath       2\n",
            "Utilities          2\n",
            "Functional         2\n",
            "Exterior2nd        1\n",
            "Exterior1st        1\n",
            "SaleType           1\n",
            "BsmtFinSF1         1\n",
            "BsmtFinSF2         1\n",
            "BsmtUnfSF          1\n",
            "Electrical         1\n",
            "KitchenQual        1\n",
            "GarageCars         1\n",
            "GarageArea         1\n",
            "TotalBsmtSF        1\n",
            "dtype: int64\n"
          ],
          "name": "stdout"
        }
      ]
    },
    {
      "cell_type": "code",
      "metadata": {
        "id": "mvqpxye67l4G",
        "colab_type": "code",
        "colab": {
          "base_uri": "https://localhost:8080/",
          "height": 1000
        },
        "outputId": "c4bffef3-c521-48e2-ee8c-34dab2940452"
      },
      "source": [
        "nanvalues_percent = ((missing_val_count_by_column[missing_val_count_by_column > 0]) / len(concat_data)*100).sort_values(ascending=False)\n",
        "missing_percent = pd.DataFrame({'Missing Percentage':nanvalues_percent})\n",
        "missing_percent"
      ],
      "execution_count": 25,
      "outputs": [
        {
          "output_type": "execute_result",
          "data": {
            "text/html": [
              "<div>\n",
              "<style scoped>\n",
              "    .dataframe tbody tr th:only-of-type {\n",
              "        vertical-align: middle;\n",
              "    }\n",
              "\n",
              "    .dataframe tbody tr th {\n",
              "        vertical-align: top;\n",
              "    }\n",
              "\n",
              "    .dataframe thead th {\n",
              "        text-align: right;\n",
              "    }\n",
              "</style>\n",
              "<table border=\"1\" class=\"dataframe\">\n",
              "  <thead>\n",
              "    <tr style=\"text-align: right;\">\n",
              "      <th></th>\n",
              "      <th>Missing Percentage</th>\n",
              "    </tr>\n",
              "  </thead>\n",
              "  <tbody>\n",
              "    <tr>\n",
              "      <th>PoolQC</th>\n",
              "      <td>99.691358</td>\n",
              "    </tr>\n",
              "    <tr>\n",
              "      <th>MiscFeature</th>\n",
              "      <td>96.399177</td>\n",
              "    </tr>\n",
              "    <tr>\n",
              "      <th>Alley</th>\n",
              "      <td>93.209877</td>\n",
              "    </tr>\n",
              "    <tr>\n",
              "      <th>Fence</th>\n",
              "      <td>80.418381</td>\n",
              "    </tr>\n",
              "    <tr>\n",
              "      <th>FireplaceQu</th>\n",
              "      <td>48.696845</td>\n",
              "    </tr>\n",
              "    <tr>\n",
              "      <th>LotFrontage</th>\n",
              "      <td>16.632373</td>\n",
              "    </tr>\n",
              "    <tr>\n",
              "      <th>GarageFinish</th>\n",
              "      <td>5.452675</td>\n",
              "    </tr>\n",
              "    <tr>\n",
              "      <th>GarageYrBlt</th>\n",
              "      <td>5.452675</td>\n",
              "    </tr>\n",
              "    <tr>\n",
              "      <th>GarageQual</th>\n",
              "      <td>5.452675</td>\n",
              "    </tr>\n",
              "    <tr>\n",
              "      <th>GarageCond</th>\n",
              "      <td>5.452675</td>\n",
              "    </tr>\n",
              "    <tr>\n",
              "      <th>GarageType</th>\n",
              "      <td>5.384088</td>\n",
              "    </tr>\n",
              "    <tr>\n",
              "      <th>BsmtExposure</th>\n",
              "      <td>2.812071</td>\n",
              "    </tr>\n",
              "    <tr>\n",
              "      <th>BsmtCond</th>\n",
              "      <td>2.812071</td>\n",
              "    </tr>\n",
              "    <tr>\n",
              "      <th>BsmtQual</th>\n",
              "      <td>2.777778</td>\n",
              "    </tr>\n",
              "    <tr>\n",
              "      <th>BsmtFinType2</th>\n",
              "      <td>2.743484</td>\n",
              "    </tr>\n",
              "    <tr>\n",
              "      <th>BsmtFinType1</th>\n",
              "      <td>2.709191</td>\n",
              "    </tr>\n",
              "    <tr>\n",
              "      <th>MasVnrType</th>\n",
              "      <td>0.823045</td>\n",
              "    </tr>\n",
              "    <tr>\n",
              "      <th>MasVnrArea</th>\n",
              "      <td>0.788752</td>\n",
              "    </tr>\n",
              "    <tr>\n",
              "      <th>MSZoning</th>\n",
              "      <td>0.137174</td>\n",
              "    </tr>\n",
              "    <tr>\n",
              "      <th>BsmtFullBath</th>\n",
              "      <td>0.068587</td>\n",
              "    </tr>\n",
              "    <tr>\n",
              "      <th>BsmtHalfBath</th>\n",
              "      <td>0.068587</td>\n",
              "    </tr>\n",
              "    <tr>\n",
              "      <th>Utilities</th>\n",
              "      <td>0.068587</td>\n",
              "    </tr>\n",
              "    <tr>\n",
              "      <th>Functional</th>\n",
              "      <td>0.068587</td>\n",
              "    </tr>\n",
              "    <tr>\n",
              "      <th>Exterior2nd</th>\n",
              "      <td>0.034294</td>\n",
              "    </tr>\n",
              "    <tr>\n",
              "      <th>Exterior1st</th>\n",
              "      <td>0.034294</td>\n",
              "    </tr>\n",
              "    <tr>\n",
              "      <th>SaleType</th>\n",
              "      <td>0.034294</td>\n",
              "    </tr>\n",
              "    <tr>\n",
              "      <th>BsmtFinSF1</th>\n",
              "      <td>0.034294</td>\n",
              "    </tr>\n",
              "    <tr>\n",
              "      <th>BsmtFinSF2</th>\n",
              "      <td>0.034294</td>\n",
              "    </tr>\n",
              "    <tr>\n",
              "      <th>BsmtUnfSF</th>\n",
              "      <td>0.034294</td>\n",
              "    </tr>\n",
              "    <tr>\n",
              "      <th>Electrical</th>\n",
              "      <td>0.034294</td>\n",
              "    </tr>\n",
              "    <tr>\n",
              "      <th>KitchenQual</th>\n",
              "      <td>0.034294</td>\n",
              "    </tr>\n",
              "    <tr>\n",
              "      <th>GarageCars</th>\n",
              "      <td>0.034294</td>\n",
              "    </tr>\n",
              "    <tr>\n",
              "      <th>GarageArea</th>\n",
              "      <td>0.034294</td>\n",
              "    </tr>\n",
              "    <tr>\n",
              "      <th>TotalBsmtSF</th>\n",
              "      <td>0.034294</td>\n",
              "    </tr>\n",
              "  </tbody>\n",
              "</table>\n",
              "</div>"
            ],
            "text/plain": [
              "              Missing Percentage\n",
              "PoolQC                 99.691358\n",
              "MiscFeature            96.399177\n",
              "Alley                  93.209877\n",
              "Fence                  80.418381\n",
              "FireplaceQu            48.696845\n",
              "LotFrontage            16.632373\n",
              "GarageFinish            5.452675\n",
              "GarageYrBlt             5.452675\n",
              "GarageQual              5.452675\n",
              "GarageCond              5.452675\n",
              "GarageType              5.384088\n",
              "BsmtExposure            2.812071\n",
              "BsmtCond                2.812071\n",
              "BsmtQual                2.777778\n",
              "BsmtFinType2            2.743484\n",
              "BsmtFinType1            2.709191\n",
              "MasVnrType              0.823045\n",
              "MasVnrArea              0.788752\n",
              "MSZoning                0.137174\n",
              "BsmtFullBath            0.068587\n",
              "BsmtHalfBath            0.068587\n",
              "Utilities               0.068587\n",
              "Functional              0.068587\n",
              "Exterior2nd             0.034294\n",
              "Exterior1st             0.034294\n",
              "SaleType                0.034294\n",
              "BsmtFinSF1              0.034294\n",
              "BsmtFinSF2              0.034294\n",
              "BsmtUnfSF               0.034294\n",
              "Electrical              0.034294\n",
              "KitchenQual             0.034294\n",
              "GarageCars              0.034294\n",
              "GarageArea              0.034294\n",
              "TotalBsmtSF             0.034294"
            ]
          },
          "metadata": {
            "tags": []
          },
          "execution_count": 25
        }
      ]
    },
    {
      "cell_type": "code",
      "metadata": {
        "id": "xhC-WxU-mchL",
        "colab_type": "code",
        "colab": {
          "base_uri": "https://localhost:8080/",
          "height": 35
        },
        "outputId": "b24863e2-1c21-487c-ed18-e71c0142175a"
      },
      "source": [
        "nanvalues.count()"
      ],
      "execution_count": 26,
      "outputs": [
        {
          "output_type": "execute_result",
          "data": {
            "text/plain": [
              "34"
            ]
          },
          "metadata": {
            "tags": []
          },
          "execution_count": 26
        }
      ]
    },
    {
      "cell_type": "markdown",
      "metadata": {
        "id": "pw4MOkfPmh-w",
        "colab_type": "text"
      },
      "source": [
        "We got 34 different columns with NaN-values. Some of them have a really high percentage of missing values. We have to handle all of them before we gonna go on."
      ]
    },
    {
      "cell_type": "code",
      "metadata": {
        "id": "FB04tYHk-OPe",
        "colab_type": "code",
        "colab": {
          "base_uri": "https://localhost:8080/",
          "height": 418
        },
        "outputId": "d3acfeb9-83e1-4ae6-d7c4-cfb588aaa770"
      },
      "source": [
        "# Visualising percentage of NaN-values per feature\n",
        "plt.figure(figsize=[10,5])\n",
        "plt.bar(missing_percent.index, missing_percent['Missing Percentage'],color='green')\n",
        "plt.xlabel('Features with NaN-values', fontsize=15)\n",
        "plt.xticks(rotation='90')\n",
        "plt.ylabel('Percent of NaN-values', fontsize=15)\n",
        "plt.title('Percentage of NaN-values by feature', fontsize=15)\n",
        "plt.show()"
      ],
      "execution_count": 27,
      "outputs": [
        {
          "output_type": "display_data",
          "data": {
            "image/png": "[encoded data removed]",
            "text/plain": [
              "<Figure size 720x360 with 1 Axes>"
            ]
          },
          "metadata": {
            "tags": [],
            "needs_background": "light"
          }
        }
      ]
    },
    {
      "cell_type": "markdown",
      "metadata": {
        "id": "gIZwqGHrwaFQ",
        "colab_type": "text"
      },
      "source": [
        "One way to handle the colums with a very high amount of missing data would be to drop them. But first let's have a look at the data description (data_description.txt) to see if it would make sense to drop them:\n",
        "\n",
        "[More on handling NaN-values](https://www.kaggle.com/dansbecker/handling-missing-values)\n",
        "\n",
        "If you go through all features you realise it doesn't make sense to delete those features. So we gonna go another way to handle the missing values: Imputation!\n",
        "\n"
      ]
    },
    {
      "cell_type": "markdown",
      "metadata": {
        "id": "Nuzn9br-2_DE",
        "colab_type": "text"
      },
      "source": [
        "First we replace all the following features with 'None', because of the following explanations you get if you look them up in the description.txt:\n",
        "\n",
        "*   PoolQC: NaN-value stands for 'No Pool'\n",
        "*   MiscFeature: NaN-value stands for 'None'\n",
        "*   Alley: NaN-value stands for 'No alley access'\n",
        "*   Fence: NaN-value stands for 'No Fence'\n",
        "*   FireplaceQu: NaN-value stands for 'No Fireplace'\n",
        "*   GarageFinish: NaN-value stands for 'NoGarage'\n",
        "*   GarageQual: NaN-value stands for 'No Garage'\n",
        "*   GarageCond: NaN-value stands for 'No Garage'\n",
        "*   GarageType: NaN-value stands for 'No Garage'\n",
        "*   BsmtExposure: NaN-value stands for 'No Basement'\n",
        "*   BsmtCond: NaN-value stands for 'No Basement'\n",
        "*   BsmtQual: NaN-value stands for 'No Basement'\n",
        "*   BsmtFinType2: NaN-value stands for 'No Basement'\n",
        "*   BsmtFinType1: NaN-value stands for 'No Basement'\n",
        "*   MasVnrType: NaN-value stands for 'None'\n",
        "\n",
        "You could change them all one by one or all at once as seen in the following code:"
      ]
    },
    {
      "cell_type": "code",
      "metadata": {
        "id": "JYnZ9b0dlQmp",
        "colab_type": "code",
        "colab": {}
      },
      "source": [
        "#replacing NaN-values in colums where it means 'None' with 'None'\n",
        "missing_none_col = ['PoolQC', 'MiscFeature', 'Alley', 'Fence', 'FireplaceQu', 'GarageFinish', 'GarageQual', 'GarageCond', 'GarageType', 'BsmtExposure',\n",
        "                   'BsmtCond', 'BsmtQual', 'BsmtFinType2', 'BsmtFinType1', 'MasVnrType'] \n",
        "for i in missing_none_col:\n",
        "    concat_data[i] = concat_data[i].fillna('None')"
      ],
      "execution_count": 28,
      "outputs": []
    },
    {
      "cell_type": "markdown",
      "metadata": {
        "id": "LN8ncrrC3PDA",
        "colab_type": "text"
      },
      "source": [
        "Afterwards we replace all the following features with a '0':\n",
        "*   GarageYrBlt: NaN-value stands for 'No Garage' and consequently there is no date available.\n",
        "*   MasVnrArea: NaN-value stands for an area of 0 square feet.\n",
        "*   BsmtFullBath: NaN-value stands for 0 full bathrooms in the basement.\n",
        "*   BsmtHalfBath: NaN-value stands for 0 half bathrooms in the basement.\n",
        "*   BsmtFinSF1: NaN-value stands for an area of 0 square feet.\n",
        "*   BsmtFinSF2: NaN-value stands for an area of 0 square feet.\n",
        "*   BsmtUnfSF: NaN-value stands for an area of 0 square feet.\n",
        "*   GarageCars: NaN-value stands for zero cars (probably connected to having no garage at all --> no place for cars).\n",
        "*   GarageArea: NaN-value stands for an area of 0 square feet (probably connected to having no garage at all).\n",
        "*   TotalBsmtSF: NaN-value stands for an area of 0 square feet (probably connected to having no basement at all).\n",
        "\n",
        "We gonna change them all at once again:"
      ]
    },
    {
      "cell_type": "code",
      "metadata": {
        "id": "OpG_yekxpAHA",
        "colab_type": "code",
        "colab": {}
      },
      "source": [
        "#replacing NaN-values with a 0\n",
        "missing_zero_col = ['GarageYrBlt', 'MasVnrArea', 'BsmtFullBath', 'BsmtHalfBath', 'BsmtFinSF1', 'BsmtFinSF2', 'BsmtUnfSF', 'GarageCars', 'GarageArea', 'TotalBsmtSF']\n",
        "\n",
        "for i in missing_zero_col:\n",
        "    concat_data[i] = concat_data[i].fillna(0)"
      ],
      "execution_count": 29,
      "outputs": []
    },
    {
      "cell_type": "markdown",
      "metadata": {
        "id": "Kx07APfckree",
        "colab_type": "text"
      },
      "source": [
        "If you browse the description it says for the feature 'Functional' to assume 'typical' unless deductions are warranted. Therefore we gonna replace the NaN-values with 'Typ':"
      ]
    },
    {
      "cell_type": "code",
      "metadata": {
        "id": "meQG5oq0kq9i",
        "colab_type": "code",
        "colab": {}
      },
      "source": [
        "#replacing NaN-values with 'Typ'\n",
        "concat_data.Functional = concat_data.Functional.fillna('Typ')"
      ],
      "execution_count": 30,
      "outputs": []
    },
    {
      "cell_type": "markdown",
      "metadata": {
        "id": "fiKQRAXZlgTd",
        "colab_type": "text"
      },
      "source": [
        "The LotFrontage describes the 'Linear feet of street connected to property'. Assuming that it's almost the same to houses in the neighborhood, we fill the NaN-values with the median LotFrontage of the neighborhood:"
      ]
    },
    {
      "cell_type": "code",
      "metadata": {
        "id": "Q0rviB2LlT9J",
        "colab_type": "code",
        "colab": {}
      },
      "source": [
        "#replacing NaN-values by the median value of the neighborhood\n",
        "concat_data.LotFrontage = concat_data.groupby('Neighborhood').LotFrontage.transform(lambda x: x.fillna(x.median()))"
      ],
      "execution_count": 31,
      "outputs": []
    },
    {
      "cell_type": "markdown",
      "metadata": {
        "id": "GTk98ETzxa4B",
        "colab_type": "text"
      },
      "source": [
        "There are some features including NaN-values left, which don't have a good explanation in the description. But they are all categorical features so it makes sense to replace the NaN-values with the value that appears most [(mode)](https://pandas.pydata.org/pandas-docs/stable/reference/api/pandas.DataFrame.mode.html):"
      ]
    },
    {
      "cell_type": "code",
      "metadata": {
        "id": "Lrtfvo78uT8p",
        "colab_type": "code",
        "colab": {
          "base_uri": "https://localhost:8080/",
          "height": 124
        },
        "outputId": "6bae18a3-0da6-49a7-9efa-232de2f2fc72"
      },
      "source": [
        "concat_data.Electrical.value_counts()"
      ],
      "execution_count": 32,
      "outputs": [
        {
          "output_type": "execute_result",
          "data": {
            "text/plain": [
              "SBrkr    2668\n",
              "FuseA     188\n",
              "FuseF      50\n",
              "FuseP       8\n",
              "Mix         1\n",
              "Name: Electrical, dtype: int64"
            ]
          },
          "metadata": {
            "tags": []
          },
          "execution_count": 32
        }
      ]
    },
    {
      "cell_type": "code",
      "metadata": {
        "id": "ChDD4FTgvBmo",
        "colab_type": "code",
        "colab": {}
      },
      "source": [
        "#replace NaN-values with the value that appears most (mode) \n",
        "concat_data.Electrical = concat_data.Electrical.fillna(concat_data.Electrical.mode()[0])\n",
        "concat_data.KitchenQual = concat_data.KitchenQual.fillna(concat_data.KitchenQual.mode()[0])\n",
        "concat_data.Exterior1st = concat_data.Exterior1st.fillna(concat_data.Exterior1st.mode()[0])\n",
        "concat_data.Exterior2nd = concat_data.Exterior2nd.fillna(concat_data.Exterior2nd.mode()[0])\n",
        "concat_data.Utilities = concat_data.Utilities.fillna(concat_data.Utilities.mode()[0])\n",
        "concat_data.SaleType = concat_data.SaleType.fillna(concat_data.SaleType.mode()[0])\n",
        "concat_data.MSZoning = concat_data.groupby('MSSubClass').MSZoning.transform(lambda x: x.fillna(x.mode()[0]))"
      ],
      "execution_count": 33,
      "outputs": []
    },
    {
      "cell_type": "markdown",
      "metadata": {
        "id": "LdctEMfpxk7J",
        "colab_type": "text"
      },
      "source": [
        "If we check for example the feature 'Electrical' we can see that the one NaN-value got replaced by 'SBrkr', which is the most appearing value. So the code worked correctly."
      ]
    },
    {
      "cell_type": "code",
      "metadata": {
        "id": "aCT4JdAxw0O-",
        "colab_type": "code",
        "colab": {
          "base_uri": "https://localhost:8080/",
          "height": 124
        },
        "outputId": "be543d26-6086-40b0-ef3e-a1a11ff9833a"
      },
      "source": [
        "concat_data.Electrical.value_counts()"
      ],
      "execution_count": 34,
      "outputs": [
        {
          "output_type": "execute_result",
          "data": {
            "text/plain": [
              "SBrkr    2669\n",
              "FuseA     188\n",
              "FuseF      50\n",
              "FuseP       8\n",
              "Mix         1\n",
              "Name: Electrical, dtype: int64"
            ]
          },
          "metadata": {
            "tags": []
          },
          "execution_count": 34
        }
      ]
    },
    {
      "cell_type": "markdown",
      "metadata": {
        "id": "gsTYISuAmhcf",
        "colab_type": "text"
      },
      "source": [
        "Let's check if we handled all features including NaN-values:"
      ]
    },
    {
      "cell_type": "code",
      "metadata": {
        "id": "PwJ5IxGn2O60",
        "colab_type": "code",
        "colab": {
          "base_uri": "https://localhost:8080/",
          "height": 52
        },
        "outputId": "8fc78051-17f1-43cf-e064-a29d1e74bacb"
      },
      "source": [
        "#search NaN-values per column in combined data\n",
        "missing_val_count_by_column = (concat_data.isnull().sum())\n",
        "\n",
        "#show all columns which have NaN-values and the number of NaN-values in descending order \n",
        "nanvalues = missing_val_count_by_column[missing_val_count_by_column > 0].sort_values(ascending=False)\n",
        "print('Number of NaN-values per column:\\n',nanvalues)"
      ],
      "execution_count": 35,
      "outputs": [
        {
          "output_type": "stream",
          "text": [
            "Number of NaN-values per column:\n",
            " Series([], dtype: int64)\n"
          ],
          "name": "stdout"
        }
      ]
    },
    {
      "cell_type": "markdown",
      "metadata": {
        "id": "K1Zl_blu2YgJ",
        "colab_type": "text"
      },
      "source": [
        "As you can see, we handled all missing values and there are no NaN-values left anymore.\n",
        "\n",
        "After we fixed the missing values we need to change some features from numerical to categorical because they have been declared wrong:\n",
        "\n"
      ]
    },
    {
      "cell_type": "code",
      "metadata": {
        "id": "lRwwLhgoP5mS",
        "colab_type": "code",
        "colab": {}
      },
      "source": [
        "#change datatype of the MSSubClass, YrSold and MoSold\n",
        "concat_data.MSSubClass = concat_data.MSSubClass.apply(str)\n",
        "concat_data.YrSold = concat_data.YrSold.astype(str)\n",
        "concat_data.MoSold = concat_data.MoSold.astype(str)"
      ],
      "execution_count": 36,
      "outputs": []
    },
    {
      "cell_type": "markdown",
      "metadata": {
        "id": "LEb4_yYK3acp",
        "colab_type": "text"
      },
      "source": [
        "# 8. Label Encoder"
      ]
    },
    {
      "cell_type": "markdown",
      "metadata": {
        "id": "n7RYmnECgC3z",
        "colab_type": "text"
      },
      "source": [
        "Some categorical features contain ordinal information. This means that the values can be ranked respectively be set in an relationship. You need to have a look on the description to find all of those features.\n",
        "\n",
        "Therefore, we use the [LabelEncoder](https://scikit-learn.org/stable/modules/generated/sklearn.preprocessing.LabelEncoder.html) to transform those features."
      ]
    },
    {
      "cell_type": "code",
      "metadata": {
        "id": "ATCjcw_B4FOJ",
        "colab_type": "code",
        "colab": {
          "base_uri": "https://localhost:8080/",
          "height": 212
        },
        "outputId": "51c0c430-b9bb-4319-e71e-bc8b84525bb7"
      },
      "source": [
        "#show all categorical features\n",
        "categoric = concat_data.dtypes[concat_data.dtypes == 'object'].index \n",
        "categoric"
      ],
      "execution_count": 37,
      "outputs": [
        {
          "output_type": "execute_result",
          "data": {
            "text/plain": [
              "Index(['MSSubClass', 'MSZoning', 'Street', 'Alley', 'LotShape', 'LandContour',\n",
              "       'Utilities', 'LotConfig', 'LandSlope', 'Neighborhood', 'Condition1',\n",
              "       'Condition2', 'BldgType', 'HouseStyle', 'RoofStyle', 'RoofMatl',\n",
              "       'Exterior1st', 'Exterior2nd', 'MasVnrType', 'ExterQual', 'ExterCond',\n",
              "       'Foundation', 'BsmtQual', 'BsmtCond', 'BsmtExposure', 'BsmtFinType1',\n",
              "       'BsmtFinType2', 'Heating', 'HeatingQC', 'CentralAir', 'Electrical',\n",
              "       'KitchenQual', 'Functional', 'FireplaceQu', 'GarageType',\n",
              "       'GarageFinish', 'GarageQual', 'GarageCond', 'PavedDrive', 'PoolQC',\n",
              "       'Fence', 'MiscFeature', 'MoSold', 'YrSold', 'SaleType',\n",
              "       'SaleCondition'],\n",
              "      dtype='object')"
            ]
          },
          "metadata": {
            "tags": []
          },
          "execution_count": 37
        }
      ]
    },
    {
      "cell_type": "code",
      "metadata": {
        "id": "_H-efQfC4Tgr",
        "colab_type": "code",
        "colab": {}
      },
      "source": [
        "#define all ordinal features\n",
        "ordinal = ['MSSubClass', 'Street', 'Alley', 'LotShape', 'LandSlope', 'OverallCond', 'ExterQual', 'ExterCond', 'BsmtQual', 'BsmtCond', \n",
        "           'BsmtExposure', 'BsmtFinType1', 'BsmtFinType2',  'HeatingQC', 'CentralAir', 'KitchenQual', 'Functional', 'FireplaceQu', \n",
        "           'GarageFinish', 'GarageQual', 'GarageCond', 'PavedDrive', 'PoolQC', 'Fence', 'MoSold', 'YrSold']\n",
        "        \n",
        "#apply LabelEncoder to ordinal features\n",
        "for c in ordinal:\n",
        "    lbl = LabelEncoder() \n",
        "    lbl.fit(list(concat_data[c].values)) \n",
        "    concat_data[c] = lbl.transform(list(concat_data[c].values))"
      ],
      "execution_count": 38,
      "outputs": []
    },
    {
      "cell_type": "code",
      "metadata": {
        "id": "i1u-Fogt6g7o",
        "colab_type": "code",
        "colab": {
          "base_uri": "https://localhost:8080/",
          "height": 124
        },
        "outputId": "3717c4c4-463b-410b-8799-4d1778f1f070"
      },
      "source": [
        "#show remaining categorical features\n",
        "categoric = concat_data.dtypes[concat_data.dtypes == 'object'].index \n",
        "categoric"
      ],
      "execution_count": 39,
      "outputs": [
        {
          "output_type": "execute_result",
          "data": {
            "text/plain": [
              "Index(['MSZoning', 'LandContour', 'Utilities', 'LotConfig', 'Neighborhood',\n",
              "       'Condition1', 'Condition2', 'BldgType', 'HouseStyle', 'RoofStyle',\n",
              "       'RoofMatl', 'Exterior1st', 'Exterior2nd', 'MasVnrType', 'Foundation',\n",
              "       'Heating', 'Electrical', 'GarageType', 'MiscFeature', 'SaleType',\n",
              "       'SaleCondition'],\n",
              "      dtype='object')"
            ]
          },
          "metadata": {
            "tags": []
          },
          "execution_count": 39
        }
      ]
    },
    {
      "cell_type": "markdown",
      "metadata": {
        "id": "w7UK_tmD6zQN",
        "colab_type": "text"
      },
      "source": [
        "As you can see there are some categorical features left. We gonna handle them later on with 'get_dummies'."
      ]
    },
    {
      "cell_type": "markdown",
      "metadata": {
        "id": "IupO5jaEVaIx",
        "colab_type": "text"
      },
      "source": [
        "# 9. Fixing skewness of numerical features"
      ]
    },
    {
      "cell_type": "markdown",
      "metadata": {
        "id": "5jtnsNCYf_1Y",
        "colab_type": "text"
      },
      "source": [
        "In this step we gonna check if some numerical features are skewed as well and, if so, we gonna fix them.\n",
        "\n",
        "For SalePrice we used the numpy function log1p. Now we gonna use a box-cox transformation."
      ]
    },
    {
      "cell_type": "code",
      "metadata": {
        "id": "m1U3SNYJ8509",
        "colab_type": "code",
        "colab": {}
      },
      "source": [
        "#show numerical features\n",
        "numeric = concat_data.dtypes[concat_data.dtypes != 'object'].index "
      ],
      "execution_count": 40,
      "outputs": []
    },
    {
      "cell_type": "code",
      "metadata": {
        "id": "c1R48Rfl95WJ",
        "colab_type": "code",
        "colab": {
          "base_uri": "https://localhost:8080/",
          "height": 1000
        },
        "outputId": "bfb8a144-e9c4-482f-f8d8-bf785f75c9d1"
      },
      "source": [
        "#show the skewness value of numerical features and list them in descending order\n",
        "skew_numeric = concat_data[numeric].apply(lambda x: skew(x)).sort_values(ascending=False)\n",
        "skew_numeric"
      ],
      "execution_count": 41,
      "outputs": [
        {
          "output_type": "execute_result",
          "data": {
            "text/plain": [
              "MiscVal          21.935910\n",
              "PoolArea         17.685603\n",
              "LotArea          13.262550\n",
              "LowQualFinSF     12.082427\n",
              "3SsnPorch        11.370087\n",
              "LandSlope         4.994554\n",
              "KitchenAbvGr      4.299698\n",
              "BsmtFinSF2        4.143683\n",
              "EnclosedPorch     4.001570\n",
              "ScreenPorch       3.944305\n",
              "BsmtHalfBath      3.929197\n",
              "MasVnrArea        2.621183\n",
              "OpenPorchSF       2.531807\n",
              "WoodDeckSF        1.846168\n",
              "1stFlrSF          1.258759\n",
              "LotFrontage       1.103492\n",
              "GrLivArea         1.068956\n",
              "BsmtFinSF1        0.982003\n",
              "BsmtUnfSF         0.919162\n",
              "2ndFlrSF          0.861039\n",
              "TotRmsAbvGrd      0.748849\n",
              "Fireplaces        0.725620\n",
              "HalfBath          0.696122\n",
              "TotalBsmtSF       0.672442\n",
              "BsmtFullBath      0.623366\n",
              "OverallCond       0.569642\n",
              "HeatingQC         0.484973\n",
              "FireplaceQu       0.332022\n",
              "BedroomAbvGr      0.326012\n",
              "GarageArea        0.217093\n",
              "OverallQual       0.189367\n",
              "FullBath          0.164891\n",
              "MSSubClass        0.139182\n",
              "YrSold            0.132135\n",
              "BsmtFinType1      0.082983\n",
              "GarageCars       -0.218964\n",
              "YearRemodAdd     -0.449662\n",
              "BsmtQual         -0.488856\n",
              "YearBuilt        -0.599716\n",
              "GarageFinish     -0.610915\n",
              "LotShape         -0.619582\n",
              "MoSold           -0.646625\n",
              "Alley            -0.651538\n",
              "BsmtExposure     -1.118556\n",
              "KitchenQual      -1.450102\n",
              "ExterQual        -1.799582\n",
              "Fence            -1.992085\n",
              "ExterCond        -2.495874\n",
              "BsmtCond         -2.860614\n",
              "PavedDrive       -2.977069\n",
              "BsmtFinType2     -3.042305\n",
              "GarageQual       -3.072106\n",
              "CentralAir       -3.456821\n",
              "GarageCond       -3.593540\n",
              "GarageYrBlt      -3.903843\n",
              "Functional       -4.069054\n",
              "Street          -15.492067\n",
              "PoolQC          -21.213939\n",
              "dtype: float64"
            ]
          },
          "metadata": {
            "tags": []
          },
          "execution_count": 41
        }
      ]
    },
    {
      "cell_type": "markdown",
      "metadata": {
        "id": "TsBiv_0x8kNx",
        "colab_type": "text"
      },
      "source": [
        "A skewness value up to 0.5 is a reasonable value. So we filter and transform only the features which have a higher value."
      ]
    },
    {
      "cell_type": "code",
      "metadata": {
        "id": "z4YrcnM9BRb8",
        "colab_type": "code",
        "colab": {}
      },
      "source": [
        "#filter all skewed features with a higher skewness value than 0.5\n",
        "high_skew = skew_numeric[skew_numeric > 0.5]\n",
        "fix_skew = high_skew.index"
      ],
      "execution_count": 42,
      "outputs": []
    },
    {
      "cell_type": "code",
      "metadata": {
        "id": "_fPbnMN4CXqu",
        "colab_type": "code",
        "colab": {}
      },
      "source": [
        "#tranfsorm skewed data\n",
        "for i in fix_skew:\n",
        "    concat_data[i] = boxcox1p(concat_data[i], boxcox_normmax(concat_data[i] + 1))"
      ],
      "execution_count": 43,
      "outputs": []
    },
    {
      "cell_type": "markdown",
      "metadata": {
        "id": "dHuDHn7EHA1d",
        "colab_type": "text"
      },
      "source": [
        "# 10. Adding new features"
      ]
    },
    {
      "cell_type": "markdown",
      "metadata": {
        "id": "nrzZcyAVfvJ2",
        "colab_type": "text"
      },
      "source": [
        "Adding some new features to reduce complexity and dimensionality of data to make predictions easier. Because of time shortage I've only done some example features (time consuming to find matching relations between features), which show how to do it. There are more possible features which can be created in the future, to improve the predicitions furthermore. "
      ]
    },
    {
      "cell_type": "code",
      "metadata": {
        "id": "TzBBvR3_HC2E",
        "colab_type": "code",
        "colab": {}
      },
      "source": [
        "#create a variable which shows the total area of a house in square feet\n",
        "concat_data['TotalSF'] = concat_data['TotalBsmtSF'] + concat_data['1stFlrSF'] + concat_data['2ndFlrSF'] + concat_data['GrLivArea'] + concat_data['GarageArea']\n",
        "\n",
        "#create a variable which combines all types of porches\n",
        "concat_data['PorchSF'] = concat_data['WoodDeckSF'] + concat_data['OpenPorchSF'] + concat_data['EnclosedPorch'] + concat_data['3SsnPorch'] + concat_data['ScreenPorch']\n",
        "\n",
        "#create a variable which differs between having a pool and having no pool\n",
        "concat_data['gotPool'] = concat_data['PoolArea'].apply(lambda x: 1 if x > 0 else 0)"
      ],
      "execution_count": 44,
      "outputs": []
    },
    {
      "cell_type": "markdown",
      "metadata": {
        "id": "4mK9k_zNQNhH",
        "colab_type": "text"
      },
      "source": [
        "# 11. Get dummies and split up data"
      ]
    },
    {
      "cell_type": "markdown",
      "metadata": {
        "id": "dMaW0PrsfsvN",
        "colab_type": "text"
      },
      "source": [
        "Before we start modelling we need to change the rest of the categorical features to numerical ones, because the algorithms/models we gonna use work better with numerical features.\n",
        "\n",
        "Therefore, I decided to go with [pandas.get_dummies](https://pandas.pydata.org/pandas-docs/stable/reference/api/pandas.get_dummies.html), which converts categorical variables into dummy/indicator variables."
      ]
    },
    {
      "cell_type": "code",
      "metadata": {
        "id": "F3-ApqTsQOxX",
        "colab_type": "code",
        "colab": {
          "base_uri": "https://localhost:8080/",
          "height": 35
        },
        "outputId": "562f65db-80c7-4db6-9e1d-f0e028843cc1"
      },
      "source": [
        "#get dummies\n",
        "final_data = pd.get_dummies(concat_data)\n",
        "#show shape\n",
        "final_data.shape"
      ],
      "execution_count": 45,
      "outputs": [
        {
          "output_type": "execute_result",
          "data": {
            "text/plain": [
              "(2916, 224)"
            ]
          },
          "metadata": {
            "tags": []
          },
          "execution_count": 45
        }
      ]
    },
    {
      "cell_type": "code",
      "metadata": {
        "id": "JKwm_uk2tJOY",
        "colab_type": "code",
        "colab": {
          "base_uri": "https://localhost:8080/",
          "height": 243
        },
        "outputId": "80e4e2c5-41d8-4895-8c44-455d360c6ee3"
      },
      "source": [
        "#show first rows of final_data\n",
        "final_data.head()"
      ],
      "execution_count": 46,
      "outputs": [
        {
          "output_type": "execute_result",
          "data": {
            "text/html": [
              "<div>\n",
              "<style scoped>\n",
              "    .dataframe tbody tr th:only-of-type {\n",
              "        vertical-align: middle;\n",
              "    }\n",
              "\n",
              "    .dataframe tbody tr th {\n",
              "        vertical-align: top;\n",
              "    }\n",
              "\n",
              "    .dataframe thead th {\n",
              "        text-align: right;\n",
              "    }\n",
              "</style>\n",
              "<table border=\"1\" class=\"dataframe\">\n",
              "  <thead>\n",
              "    <tr style=\"text-align: right;\">\n",
              "      <th></th>\n",
              "      <th>MSSubClass</th>\n",
              "      <th>LotFrontage</th>\n",
              "      <th>LotArea</th>\n",
              "      <th>Street</th>\n",
              "      <th>Alley</th>\n",
              "      <th>LotShape</th>\n",
              "      <th>LandSlope</th>\n",
              "      <th>OverallQual</th>\n",
              "      <th>OverallCond</th>\n",
              "      <th>YearBuilt</th>\n",
              "      <th>YearRemodAdd</th>\n",
              "      <th>MasVnrArea</th>\n",
              "      <th>ExterQual</th>\n",
              "      <th>ExterCond</th>\n",
              "      <th>BsmtQual</th>\n",
              "      <th>BsmtCond</th>\n",
              "      <th>BsmtExposure</th>\n",
              "      <th>BsmtFinType1</th>\n",
              "      <th>BsmtFinSF1</th>\n",
              "      <th>BsmtFinType2</th>\n",
              "      <th>BsmtFinSF2</th>\n",
              "      <th>BsmtUnfSF</th>\n",
              "      <th>TotalBsmtSF</th>\n",
              "      <th>HeatingQC</th>\n",
              "      <th>CentralAir</th>\n",
              "      <th>1stFlrSF</th>\n",
              "      <th>2ndFlrSF</th>\n",
              "      <th>LowQualFinSF</th>\n",
              "      <th>GrLivArea</th>\n",
              "      <th>BsmtFullBath</th>\n",
              "      <th>BsmtHalfBath</th>\n",
              "      <th>FullBath</th>\n",
              "      <th>HalfBath</th>\n",
              "      <th>BedroomAbvGr</th>\n",
              "      <th>KitchenAbvGr</th>\n",
              "      <th>KitchenQual</th>\n",
              "      <th>TotRmsAbvGrd</th>\n",
              "      <th>Functional</th>\n",
              "      <th>Fireplaces</th>\n",
              "      <th>FireplaceQu</th>\n",
              "      <th>...</th>\n",
              "      <th>Foundation_Stone</th>\n",
              "      <th>Foundation_Wood</th>\n",
              "      <th>Heating_Floor</th>\n",
              "      <th>Heating_GasA</th>\n",
              "      <th>Heating_GasW</th>\n",
              "      <th>Heating_Grav</th>\n",
              "      <th>Heating_OthW</th>\n",
              "      <th>Heating_Wall</th>\n",
              "      <th>Electrical_FuseA</th>\n",
              "      <th>Electrical_FuseF</th>\n",
              "      <th>Electrical_FuseP</th>\n",
              "      <th>Electrical_Mix</th>\n",
              "      <th>Electrical_SBrkr</th>\n",
              "      <th>GarageType_2Types</th>\n",
              "      <th>GarageType_Attchd</th>\n",
              "      <th>GarageType_Basment</th>\n",
              "      <th>GarageType_BuiltIn</th>\n",
              "      <th>GarageType_CarPort</th>\n",
              "      <th>GarageType_Detchd</th>\n",
              "      <th>GarageType_None</th>\n",
              "      <th>MiscFeature_Gar2</th>\n",
              "      <th>MiscFeature_None</th>\n",
              "      <th>MiscFeature_Othr</th>\n",
              "      <th>MiscFeature_Shed</th>\n",
              "      <th>MiscFeature_TenC</th>\n",
              "      <th>SaleType_COD</th>\n",
              "      <th>SaleType_CWD</th>\n",
              "      <th>SaleType_Con</th>\n",
              "      <th>SaleType_ConLD</th>\n",
              "      <th>SaleType_ConLI</th>\n",
              "      <th>SaleType_ConLw</th>\n",
              "      <th>SaleType_New</th>\n",
              "      <th>SaleType_Oth</th>\n",
              "      <th>SaleType_WD</th>\n",
              "      <th>SaleCondition_Abnorml</th>\n",
              "      <th>SaleCondition_AdjLand</th>\n",
              "      <th>SaleCondition_Alloca</th>\n",
              "      <th>SaleCondition_Family</th>\n",
              "      <th>SaleCondition_Normal</th>\n",
              "      <th>SaleCondition_Partial</th>\n",
              "    </tr>\n",
              "  </thead>\n",
              "  <tbody>\n",
              "    <tr>\n",
              "      <th>0</th>\n",
              "      <td>10</td>\n",
              "      <td>18.133318</td>\n",
              "      <td>14.054263</td>\n",
              "      <td>1</td>\n",
              "      <td>1</td>\n",
              "      <td>3</td>\n",
              "      <td>0.0</td>\n",
              "      <td>7</td>\n",
              "      <td>3.466517</td>\n",
              "      <td>2003</td>\n",
              "      <td>2003</td>\n",
              "      <td>19.438231</td>\n",
              "      <td>2</td>\n",
              "      <td>4</td>\n",
              "      <td>2</td>\n",
              "      <td>4</td>\n",
              "      <td>3</td>\n",
              "      <td>2</td>\n",
              "      <td>143.920047</td>\n",
              "      <td>6</td>\n",
              "      <td>0.0</td>\n",
              "      <td>30.010267</td>\n",
              "      <td>422.114947</td>\n",
              "      <td>0</td>\n",
              "      <td>1</td>\n",
              "      <td>5.929136</td>\n",
              "      <td>1026.391549</td>\n",
              "      <td>0.0</td>\n",
              "      <td>8.339939</td>\n",
              "      <td>0.993263</td>\n",
              "      <td>0.000000</td>\n",
              "      <td>2</td>\n",
              "      <td>1.068921</td>\n",
              "      <td>3</td>\n",
              "      <td>0.750955</td>\n",
              "      <td>2</td>\n",
              "      <td>2.262646</td>\n",
              "      <td>6</td>\n",
              "      <td>0.000000</td>\n",
              "      <td>3</td>\n",
              "      <td>...</td>\n",
              "      <td>0</td>\n",
              "      <td>0</td>\n",
              "      <td>0</td>\n",
              "      <td>1</td>\n",
              "      <td>0</td>\n",
              "      <td>0</td>\n",
              "      <td>0</td>\n",
              "      <td>0</td>\n",
              "      <td>0</td>\n",
              "      <td>0</td>\n",
              "      <td>0</td>\n",
              "      <td>0</td>\n",
              "      <td>1</td>\n",
              "      <td>0</td>\n",
              "      <td>1</td>\n",
              "      <td>0</td>\n",
              "      <td>0</td>\n",
              "      <td>0</td>\n",
              "      <td>0</td>\n",
              "      <td>0</td>\n",
              "      <td>0</td>\n",
              "      <td>1</td>\n",
              "      <td>0</td>\n",
              "      <td>0</td>\n",
              "      <td>0</td>\n",
              "      <td>0</td>\n",
              "      <td>0</td>\n",
              "      <td>0</td>\n",
              "      <td>0</td>\n",
              "      <td>0</td>\n",
              "      <td>0</td>\n",
              "      <td>0</td>\n",
              "      <td>0</td>\n",
              "      <td>1</td>\n",
              "      <td>0</td>\n",
              "      <td>0</td>\n",
              "      <td>0</td>\n",
              "      <td>0</td>\n",
              "      <td>1</td>\n",
              "      <td>0</td>\n",
              "    </tr>\n",
              "    <tr>\n",
              "      <th>1</th>\n",
              "      <td>5</td>\n",
              "      <td>20.660028</td>\n",
              "      <td>14.347269</td>\n",
              "      <td>1</td>\n",
              "      <td>1</td>\n",
              "      <td>3</td>\n",
              "      <td>0.0</td>\n",
              "      <td>6</td>\n",
              "      <td>5.763540</td>\n",
              "      <td>1976</td>\n",
              "      <td>1976</td>\n",
              "      <td>0.000000</td>\n",
              "      <td>3</td>\n",
              "      <td>4</td>\n",
              "      <td>2</td>\n",
              "      <td>4</td>\n",
              "      <td>1</td>\n",
              "      <td>0</td>\n",
              "      <td>181.454701</td>\n",
              "      <td>6</td>\n",
              "      <td>0.0</td>\n",
              "      <td>44.168168</td>\n",
              "      <td>593.327333</td>\n",
              "      <td>0</td>\n",
              "      <td>1</td>\n",
              "      <td>6.224032</td>\n",
              "      <td>0.000000</td>\n",
              "      <td>0.0</td>\n",
              "      <td>7.962253</td>\n",
              "      <td>0.000000</td>\n",
              "      <td>0.710938</td>\n",
              "      <td>2</td>\n",
              "      <td>0.000000</td>\n",
              "      <td>3</td>\n",
              "      <td>0.750955</td>\n",
              "      <td>3</td>\n",
              "      <td>1.997107</td>\n",
              "      <td>6</td>\n",
              "      <td>0.903299</td>\n",
              "      <td>5</td>\n",
              "      <td>...</td>\n",
              "      <td>0</td>\n",
              "      <td>0</td>\n",
              "      <td>0</td>\n",
              "      <td>1</td>\n",
              "      <td>0</td>\n",
              "      <td>0</td>\n",
              "      <td>0</td>\n",
              "      <td>0</td>\n",
              "      <td>0</td>\n",
              "      <td>0</td>\n",
              "      <td>0</td>\n",
              "      <td>0</td>\n",
              "      <td>1</td>\n",
              "      <td>0</td>\n",
              "      <td>1</td>\n",
              "      <td>0</td>\n",
              "      <td>0</td>\n",
              "      <td>0</td>\n",
              "      <td>0</td>\n",
              "      <td>0</td>\n",
              "      <td>0</td>\n",
              "      <td>1</td>\n",
              "      <td>0</td>\n",
              "      <td>0</td>\n",
              "      <td>0</td>\n",
              "      <td>0</td>\n",
              "      <td>0</td>\n",
              "      <td>0</td>\n",
              "      <td>0</td>\n",
              "      <td>0</td>\n",
              "      <td>0</td>\n",
              "      <td>0</td>\n",
              "      <td>0</td>\n",
              "      <td>1</td>\n",
              "      <td>0</td>\n",
              "      <td>0</td>\n",
              "      <td>0</td>\n",
              "      <td>0</td>\n",
              "      <td>1</td>\n",
              "      <td>0</td>\n",
              "    </tr>\n",
              "    <tr>\n",
              "      <th>2</th>\n",
              "      <td>10</td>\n",
              "      <td>18.656316</td>\n",
              "      <td>14.716277</td>\n",
              "      <td>1</td>\n",
              "      <td>1</td>\n",
              "      <td>0</td>\n",
              "      <td>0.0</td>\n",
              "      <td>7</td>\n",
              "      <td>3.466517</td>\n",
              "      <td>2001</td>\n",
              "      <td>2002</td>\n",
              "      <td>17.773262</td>\n",
              "      <td>2</td>\n",
              "      <td>4</td>\n",
              "      <td>2</td>\n",
              "      <td>4</td>\n",
              "      <td>2</td>\n",
              "      <td>2</td>\n",
              "      <td>110.299851</td>\n",
              "      <td>6</td>\n",
              "      <td>0.0</td>\n",
              "      <td>56.942688</td>\n",
              "      <td>449.676734</td>\n",
              "      <td>0</td>\n",
              "      <td>1</td>\n",
              "      <td>5.984244</td>\n",
              "      <td>1041.273148</td>\n",
              "      <td>0.0</td>\n",
              "      <td>8.394288</td>\n",
              "      <td>0.993263</td>\n",
              "      <td>0.000000</td>\n",
              "      <td>2</td>\n",
              "      <td>1.068921</td>\n",
              "      <td>3</td>\n",
              "      <td>0.750955</td>\n",
              "      <td>2</td>\n",
              "      <td>1.997107</td>\n",
              "      <td>6</td>\n",
              "      <td>0.903299</td>\n",
              "      <td>5</td>\n",
              "      <td>...</td>\n",
              "      <td>0</td>\n",
              "      <td>0</td>\n",
              "      <td>0</td>\n",
              "      <td>1</td>\n",
              "      <td>0</td>\n",
              "      <td>0</td>\n",
              "      <td>0</td>\n",
              "      <td>0</td>\n",
              "      <td>0</td>\n",
              "      <td>0</td>\n",
              "      <td>0</td>\n",
              "      <td>0</td>\n",
              "      <td>1</td>\n",
              "      <td>0</td>\n",
              "      <td>1</td>\n",
              "      <td>0</td>\n",
              "      <td>0</td>\n",
              "      <td>0</td>\n",
              "      <td>0</td>\n",
              "      <td>0</td>\n",
              "      <td>0</td>\n",
              "      <td>1</td>\n",
              "      <td>0</td>\n",
              "      <td>0</td>\n",
              "      <td>0</td>\n",
              "      <td>0</td>\n",
              "      <td>0</td>\n",
              "      <td>0</td>\n",
              "      <td>0</td>\n",
              "      <td>0</td>\n",
              "      <td>0</td>\n",
              "      <td>0</td>\n",
              "      <td>0</td>\n",
              "      <td>1</td>\n",
              "      <td>0</td>\n",
              "      <td>0</td>\n",
              "      <td>0</td>\n",
              "      <td>0</td>\n",
              "      <td>1</td>\n",
              "      <td>0</td>\n",
              "    </tr>\n",
              "    <tr>\n",
              "      <th>3</th>\n",
              "      <td>11</td>\n",
              "      <td>17.239197</td>\n",
              "      <td>14.335210</td>\n",
              "      <td>1</td>\n",
              "      <td>1</td>\n",
              "      <td>0</td>\n",
              "      <td>0.0</td>\n",
              "      <td>7</td>\n",
              "      <td>3.466517</td>\n",
              "      <td>1915</td>\n",
              "      <td>1970</td>\n",
              "      <td>0.000000</td>\n",
              "      <td>3</td>\n",
              "      <td>4</td>\n",
              "      <td>4</td>\n",
              "      <td>1</td>\n",
              "      <td>3</td>\n",
              "      <td>0</td>\n",
              "      <td>61.728759</td>\n",
              "      <td>6</td>\n",
              "      <td>0.0</td>\n",
              "      <td>64.863764</td>\n",
              "      <td>378.526862</td>\n",
              "      <td>2</td>\n",
              "      <td>1</td>\n",
              "      <td>6.017495</td>\n",
              "      <td>905.115976</td>\n",
              "      <td>0.0</td>\n",
              "      <td>8.345041</td>\n",
              "      <td>0.993263</td>\n",
              "      <td>0.000000</td>\n",
              "      <td>1</td>\n",
              "      <td>0.000000</td>\n",
              "      <td>3</td>\n",
              "      <td>0.750955</td>\n",
              "      <td>2</td>\n",
              "      <td>2.137976</td>\n",
              "      <td>6</td>\n",
              "      <td>0.903299</td>\n",
              "      <td>2</td>\n",
              "      <td>...</td>\n",
              "      <td>0</td>\n",
              "      <td>0</td>\n",
              "      <td>0</td>\n",
              "      <td>1</td>\n",
              "      <td>0</td>\n",
              "      <td>0</td>\n",
              "      <td>0</td>\n",
              "      <td>0</td>\n",
              "      <td>0</td>\n",
              "      <td>0</td>\n",
              "      <td>0</td>\n",
              "      <td>0</td>\n",
              "      <td>1</td>\n",
              "      <td>0</td>\n",
              "      <td>0</td>\n",
              "      <td>0</td>\n",
              "      <td>0</td>\n",
              "      <td>0</td>\n",
              "      <td>1</td>\n",
              "      <td>0</td>\n",
              "      <td>0</td>\n",
              "      <td>1</td>\n",
              "      <td>0</td>\n",
              "      <td>0</td>\n",
              "      <td>0</td>\n",
              "      <td>0</td>\n",
              "      <td>0</td>\n",
              "      <td>0</td>\n",
              "      <td>0</td>\n",
              "      <td>0</td>\n",
              "      <td>0</td>\n",
              "      <td>0</td>\n",
              "      <td>0</td>\n",
              "      <td>1</td>\n",
              "      <td>1</td>\n",
              "      <td>0</td>\n",
              "      <td>0</td>\n",
              "      <td>0</td>\n",
              "      <td>0</td>\n",
              "      <td>0</td>\n",
              "    </tr>\n",
              "    <tr>\n",
              "      <th>4</th>\n",
              "      <td>10</td>\n",
              "      <td>21.300075</td>\n",
              "      <td>15.277957</td>\n",
              "      <td>1</td>\n",
              "      <td>1</td>\n",
              "      <td>0</td>\n",
              "      <td>0.0</td>\n",
              "      <td>8</td>\n",
              "      <td>3.466517</td>\n",
              "      <td>2000</td>\n",
              "      <td>2000</td>\n",
              "      <td>25.411668</td>\n",
              "      <td>2</td>\n",
              "      <td>4</td>\n",
              "      <td>2</td>\n",
              "      <td>4</td>\n",
              "      <td>0</td>\n",
              "      <td>2</td>\n",
              "      <td>136.439665</td>\n",
              "      <td>6</td>\n",
              "      <td>0.0</td>\n",
              "      <td>61.217218</td>\n",
              "      <td>544.803190</td>\n",
              "      <td>0</td>\n",
              "      <td>1</td>\n",
              "      <td>6.150533</td>\n",
              "      <td>1273.975831</td>\n",
              "      <td>0.0</td>\n",
              "      <td>8.654709</td>\n",
              "      <td>0.993263</td>\n",
              "      <td>0.000000</td>\n",
              "      <td>2</td>\n",
              "      <td>1.068921</td>\n",
              "      <td>4</td>\n",
              "      <td>0.750955</td>\n",
              "      <td>2</td>\n",
              "      <td>2.374499</td>\n",
              "      <td>6</td>\n",
              "      <td>0.903299</td>\n",
              "      <td>5</td>\n",
              "      <td>...</td>\n",
              "      <td>0</td>\n",
              "      <td>0</td>\n",
              "      <td>0</td>\n",
              "      <td>1</td>\n",
              "      <td>0</td>\n",
              "      <td>0</td>\n",
              "      <td>0</td>\n",
              "      <td>0</td>\n",
              "      <td>0</td>\n",
              "      <td>0</td>\n",
              "      <td>0</td>\n",
              "      <td>0</td>\n",
              "      <td>1</td>\n",
              "      <td>0</td>\n",
              "      <td>1</td>\n",
              "      <td>0</td>\n",
              "      <td>0</td>\n",
              "      <td>0</td>\n",
              "      <td>0</td>\n",
              "      <td>0</td>\n",
              "      <td>0</td>\n",
              "      <td>1</td>\n",
              "      <td>0</td>\n",
              "      <td>0</td>\n",
              "      <td>0</td>\n",
              "      <td>0</td>\n",
              "      <td>0</td>\n",
              "      <td>0</td>\n",
              "      <td>0</td>\n",
              "      <td>0</td>\n",
              "      <td>0</td>\n",
              "      <td>0</td>\n",
              "      <td>0</td>\n",
              "      <td>1</td>\n",
              "      <td>0</td>\n",
              "      <td>0</td>\n",
              "      <td>0</td>\n",
              "      <td>0</td>\n",
              "      <td>1</td>\n",
              "      <td>0</td>\n",
              "    </tr>\n",
              "  </tbody>\n",
              "</table>\n",
              "<p>5 rows × 224 columns</p>\n",
              "</div>"
            ],
            "text/plain": [
              "   MSSubClass  LotFrontage  ...  SaleCondition_Normal  SaleCondition_Partial\n",
              "0          10    18.133318  ...                     1                      0\n",
              "1           5    20.660028  ...                     1                      0\n",
              "2          10    18.656316  ...                     1                      0\n",
              "3          11    17.239197  ...                     0                      0\n",
              "4          10    21.300075  ...                     1                      0\n",
              "\n",
              "[5 rows x 224 columns]"
            ]
          },
          "metadata": {
            "tags": []
          },
          "execution_count": 46
        }
      ]
    },
    {
      "cell_type": "markdown",
      "metadata": {
        "id": "L0NfkggqZ4L7",
        "colab_type": "text"
      },
      "source": [
        "After we've handled all features, we can split up the data again into train and test data."
      ]
    },
    {
      "cell_type": "code",
      "metadata": {
        "id": "-e1ZD4Jquc3N",
        "colab_type": "code",
        "colab": {
          "base_uri": "https://localhost:8080/",
          "height": 52
        },
        "outputId": "5ae5b2e9-51c5-4e7a-d1f4-b33b66a60046"
      },
      "source": [
        "#split up the concatenated data again in train and test\n",
        "train = final_data[:ntrain]\n",
        "test = final_data[ntrain:]\n",
        "#show the shape of both\n",
        "print(train.shape)\n",
        "print(test.shape)"
      ],
      "execution_count": 47,
      "outputs": [
        {
          "output_type": "stream",
          "text": [
            "(1457, 224)\n",
            "(1459, 224)\n"
          ],
          "name": "stdout"
        }
      ]
    },
    {
      "cell_type": "code",
      "metadata": {
        "id": "KOvchgbv1Dll",
        "colab_type": "code",
        "colab": {}
      },
      "source": [
        "#save train as variable X\n",
        "X = train"
      ],
      "execution_count": 48,
      "outputs": []
    },
    {
      "cell_type": "code",
      "metadata": {
        "id": "dpuyBPX3uL-M",
        "colab_type": "code",
        "colab": {
          "base_uri": "https://localhost:8080/",
          "height": 35
        },
        "outputId": "717e95cf-6bd9-4773-9c7a-339ab0191486"
      },
      "source": [
        "#split the train data into train and test sets\n",
        "X_train, X_test, y_train, y_test = train_test_split(X, y, test_size=0.3, random_state=42)\n",
        "#show the shape of the train and test sets\n",
        "print(X_train.shape,y_train.shape,X_test.shape,y_test.shape)"
      ],
      "execution_count": 49,
      "outputs": [
        {
          "output_type": "stream",
          "text": [
            "(1019, 224) (1019,) (438, 224) (438,)\n"
          ],
          "name": "stdout"
        }
      ]
    },
    {
      "cell_type": "markdown",
      "metadata": {
        "id": "RtkivvNX9Ip_",
        "colab_type": "text"
      },
      "source": [
        "# 12. Modelling"
      ]
    },
    {
      "cell_type": "markdown",
      "metadata": {
        "id": "n7-_sIqB0Z2r",
        "colab_type": "text"
      },
      "source": [
        "Defining the scores which we take to check the performance of the different models."
      ]
    },
    {
      "cell_type": "code",
      "metadata": {
        "id": "cOhNrHFw_b2Y",
        "colab_type": "code",
        "colab": {}
      },
      "source": [
        "#define calculation of train error\n",
        "def rmse_train(model):\n",
        "    return np.sqrt(-cross_val_score(model, X_train, y_train, scoring=\"neg_mean_squared_error\", cv = 10))\n",
        "\n",
        "#define calculation of test error\n",
        "def rmse_test(y_pred):\n",
        "    return np.sqrt(mean_squared_error(y_test, y_pred))"
      ],
      "execution_count": 50,
      "outputs": []
    },
    {
      "cell_type": "markdown",
      "metadata": {
        "id": "Z9Keg5zVx9pg",
        "colab_type": "text"
      },
      "source": [
        "## Setting up the chosen models\n",
        "\n",
        "I decided to do 5 different regression techniques, which are all part of scikit learn, and to compare the results afterwards. \n",
        "The regression techniques are:\n",
        "*   [RidgeCV](https://scikit-learn.org/stable/modules/generated/sklearn.linear_model.RidgeCV.html)\n",
        "*  [LassoCV](https://scikit-learn.org/stable/modules/generated/sklearn.linear_model.LassoCV.html)\n",
        "*   [ElasticNetCV](https://scikit-learn.org/stable/modules/generated/sklearn.linear_model.ElasticNetCV.html)\n",
        "*   [RandomForestRegressor](https://scikit-learn.org/stable/modules/generated/sklearn.ensemble.RandomForestRegressor.html) (suggested by Kaggle challenge overview)\n",
        "*   [GradientBoostingRegression](https://scikit-learn.org/stable/modules/generated/sklearn.ensemble.GradientBoostingRegressor.html) (suggested by Kaggle challenge overview)\n",
        "\n",
        "To find the best paramteres for the RandomForest and the GradientBoosting I included a RandomizedSearchCV. I've ran the notebook in Colab before and got the paramaters which I'm using in the set up of the models. Because of the time consumption (and the low compting power of my PC) I didn't run the RandomizedSearchCV again.\n",
        "\n",
        "[Helpful information for RandomizedSearchCV](https://towardsdatascience.com/hyperparameter-tuning-the-random-forest-in-python-using-scikit-learn-28d2aa77dd74)\n",
        "\n",
        "The parameter tuning can be expanded in the future to improve the models."
      ]
    },
    {
      "cell_type": "code",
      "metadata": {
        "id": "_PzdEQDNII4B",
        "colab_type": "code",
        "colab": {}
      },
      "source": [
        "#Number of trees in random forest\n",
        "#n_estimators = [int(x) for x in np.linspace(start = 200, stop = 2000, num = 10)]\n",
        "# Number of features to consider at every split\n",
        "#max_features = ['auto', 'sqrt']\n",
        "# Maximum number of levels in tree\n",
        "#max_depth = [int(x) for x in np.linspace(10, 110, num = 11)]\n",
        "#max_depth.append(None)\n",
        "# Minimum number of samples required to split a node\n",
        "#min_samples_split = [2, 5, 10]\n",
        "# Minimum number of samples required at each leaf node\n",
        "#min_samples_leaf = [1, 2, 4]\n",
        "# Method of selecting samples for training each tree\n",
        "#bootstrap = [True, False]\n",
        "# Create the random grid\n",
        "#random_grid = {'n_estimators': n_estimators,\n",
        "#               'max_features': max_features,\n",
        "#               'max_depth': max_depth,\n",
        "#               'min_samples_split': min_samples_split,\n",
        "#               'min_samples_leaf': min_samples_leaf,\n",
        "#               'bootstrap': bootstrap}"
      ],
      "execution_count": 51,
      "outputs": []
    },
    {
      "cell_type": "code",
      "metadata": {
        "id": "UpnEkGHlIUA3",
        "colab_type": "code",
        "colab": {}
      },
      "source": [
        "#Use the random grid to search for best hyperparameters\n",
        "#create the base model to tune\n",
        "#rf = RandomForestRegressor()\n",
        "#Random search of parameters, using 5 fold cross validation, \n",
        "#search across 100 different combinations, and use all available cores\n",
        "#rf_random = RandomizedSearchCV(estimator = rf, param_distributions = random_grid, n_iter = 100, cv = 5, verbose=2, random_state=42, n_jobs = -1)\n",
        "#fit the random search model\n",
        "#rf_random.fit(X_train,y_train)"
      ],
      "execution_count": 52,
      "outputs": []
    },
    {
      "cell_type": "code",
      "metadata": {
        "id": "maZGiH6LIfUk",
        "colab_type": "code",
        "colab": {}
      },
      "source": [
        "#rf_random.best_params_ "
      ],
      "execution_count": 53,
      "outputs": []
    },
    {
      "cell_type": "code",
      "metadata": {
        "id": "bl66MYbkTJx-",
        "colab_type": "code",
        "colab": {}
      },
      "source": [
        "#the same procedure as before but now with the GradientBoostingRegressor\n",
        "#gboost = GradientBoostingRegressor()\n",
        "\n",
        "#parameters = {'learning_rate': [0.01,0.05],\n",
        "#                  'n_estimators' : [2000,3000,5000],\n",
        "#                  'max_depth'    : [2,4,6],\n",
        "#                  'max_features': ['auto', 'sqrt'],\n",
        "#                  'min_samples_leaf': [5, 10, 15],\n",
        "#                  'min_samples_split': [5, 10]}\n",
        "#gboost_random = RandomizedSearchCV(estimator=gboost, n_iter = 100, param_distributions = parameters, cv = 3, n_jobs=-1, random_state = 42)\n",
        "#gboost_random.fit(X_train, y_train)"
      ],
      "execution_count": 54,
      "outputs": []
    },
    {
      "cell_type": "code",
      "metadata": {
        "id": "1O4F3on1UyXz",
        "colab_type": "code",
        "colab": {}
      },
      "source": [
        "#gboost_random.best_params_ "
      ],
      "execution_count": 55,
      "outputs": []
    },
    {
      "cell_type": "code",
      "metadata": {
        "id": "hHsrOREJFMqC",
        "colab_type": "code",
        "colab": {}
      },
      "source": [
        "#set up all models \n",
        "#LassoCV\n",
        "lasso_alphas = [0.0001, 0.0005, 0.001, 0.005, 0.01, 0.05, 0.1, 0.5, 1]\n",
        "lasso = make_pipeline(RobustScaler(), LassoCV(alphas = lasso_alphas, max_iter = 10000, random_state = 1))\n",
        "\n",
        "#RidgeCV\n",
        "ridge_alphas = [1e-10,1e-8,1e-5,1e-4,1e-3,1e-2,0.5,1,1.5,2,3,4,5,10,20,30,40]\n",
        "ridge = make_pipeline(RobustScaler(), RidgeCV(alphas=ridge_alphas))\n",
        "\n",
        "#ElasticNetCV\n",
        "elnet_alphas = [0.0001, 0.0002, 0.0003, 0.0004, 0.0005, 0.0006, 0.0007]\n",
        "elnet_l1ratio = [0.8, 0.85, 0.9, 0.95, 0.99, 1]\n",
        "elnet = make_pipeline(RobustScaler(), ElasticNetCV(max_iter=100000, alphas=elnet_alphas, l1_ratio=elnet_l1ratio, random_state = 1))\n",
        "\n",
        "#GradientBoostingRegressor\n",
        "gboost = GradientBoostingRegressor(n_estimators=5000, learning_rate=0.05,\n",
        "                                   max_depth=4, max_features='sqrt',\n",
        "                                   min_samples_leaf=15, min_samples_split=10, \n",
        "                                   random_state=42)\n",
        "\n",
        "#RandomForestRegressor\n",
        "rf = RandomForestRegressor(bootstrap = False, max_depth = 90, \n",
        "                           max_features = 'sqrt', min_samples_leaf = 1, \n",
        "                           min_samples_split = 5,n_estimators = 800, \n",
        "                           random_state = 42)"
      ],
      "execution_count": 56,
      "outputs": []
    },
    {
      "cell_type": "markdown",
      "metadata": {
        "id": "iQyd22aiy83S",
        "colab_type": "text"
      },
      "source": [
        "## Calculate the RMSE of all models\n",
        "\n",
        "I calculated the Root Mean Square Error of all models to check the performance and to be able to compare all models.\n",
        "\n",
        "The lower the RMSE score, the better the model."
      ]
    },
    {
      "cell_type": "code",
      "metadata": {
        "id": "zL3XMJjH90L6",
        "colab_type": "code",
        "colab": {
          "base_uri": "https://localhost:8080/",
          "height": 195
        },
        "outputId": "918fb20a-7ba0-4fcc-c362-8e6d256b06bf"
      },
      "source": [
        "#show  Root Mean Square Error (RMSE) of all models\n",
        "score_lasso = rmse_train(lasso)\n",
        "print(\"Lasso score: {:.4f} ({:.4f})\\n\".format(score_lasso.mean(), score_lasso.std()))\n",
        "\n",
        "score_ridge = rmse_train(ridge)\n",
        "print(\"Ridge score: {:.4f} ({:.4f})\\n\".format(score_ridge.mean(), score_ridge.std()))\n",
        "\n",
        "score_elnet = rmse_train(elnet)\n",
        "print(\"ElNet score: {:.4f} ({:.4f})\\n\".format(score_elnet.mean(), score_elnet.std()))\n",
        "\n",
        "score_gboost = rmse_train(gboost)\n",
        "print(\"GBoost score: {:.4f} ({:.4f})\\n\".format(score_gboost.mean(), score_gboost.std()))\n",
        "\n",
        "score_rf = rmse_train(rf)\n",
        "print(\"Random Forest score: {:.4f} ({:.4f})\\n\".format(score_rf.mean(), score_rf.std()))"
      ],
      "execution_count": 57,
      "outputs": [
        {
          "output_type": "stream",
          "text": [
            "Lasso score: 0.1099 (0.0112)\n",
            "\n",
            "Ridge score: 0.1092 (0.0113)\n",
            "\n",
            "ElNet score: 0.1101 (0.0114)\n",
            "\n",
            "GBoost score: 0.1164 (0.0129)\n",
            "\n",
            "Random Forest score: 0.1388 (0.0125)\n",
            "\n"
          ],
          "name": "stdout"
        }
      ]
    },
    {
      "cell_type": "code",
      "metadata": {
        "id": "Wgfyo2JR9hnS",
        "colab_type": "code",
        "colab": {
          "base_uri": "https://localhost:8080/",
          "height": 194
        },
        "outputId": "aad20fec-0b35-457e-c6eb-84a3ad989152"
      },
      "source": [
        "#create a table of train error results\n",
        "train_error = pd.DataFrame({\n",
        "    'model': ['Lasso',\n",
        "              'Ridge',\n",
        "              'ElasticNet',\n",
        "              'GBoost',\n",
        "              'RandomForest'],\n",
        "    'score': [score_lasso.mean(),\n",
        "              score_ridge.mean(),\n",
        "              score_elnet.mean(),\n",
        "              score_gboost.mean(),\n",
        "              score_rf.mean()]})\n",
        "\n",
        "#build dataframe of values\n",
        "train_error_df = train_error.sort_values(by='score', ascending=True).reset_index(drop=True)\n",
        "train_error_df"
      ],
      "execution_count": 58,
      "outputs": [
        {
          "output_type": "execute_result",
          "data": {
            "text/html": [
              "<div>\n",
              "<style scoped>\n",
              "    .dataframe tbody tr th:only-of-type {\n",
              "        vertical-align: middle;\n",
              "    }\n",
              "\n",
              "    .dataframe tbody tr th {\n",
              "        vertical-align: top;\n",
              "    }\n",
              "\n",
              "    .dataframe thead th {\n",
              "        text-align: right;\n",
              "    }\n",
              "</style>\n",
              "<table border=\"1\" class=\"dataframe\">\n",
              "  <thead>\n",
              "    <tr style=\"text-align: right;\">\n",
              "      <th></th>\n",
              "      <th>model</th>\n",
              "      <th>score</th>\n",
              "    </tr>\n",
              "  </thead>\n",
              "  <tbody>\n",
              "    <tr>\n",
              "      <th>0</th>\n",
              "      <td>Ridge</td>\n",
              "      <td>0.109226</td>\n",
              "    </tr>\n",
              "    <tr>\n",
              "      <th>1</th>\n",
              "      <td>Lasso</td>\n",
              "      <td>0.109905</td>\n",
              "    </tr>\n",
              "    <tr>\n",
              "      <th>2</th>\n",
              "      <td>ElasticNet</td>\n",
              "      <td>0.110080</td>\n",
              "    </tr>\n",
              "    <tr>\n",
              "      <th>3</th>\n",
              "      <td>GBoost</td>\n",
              "      <td>0.116379</td>\n",
              "    </tr>\n",
              "    <tr>\n",
              "      <th>4</th>\n",
              "      <td>RandomForest</td>\n",
              "      <td>0.138751</td>\n",
              "    </tr>\n",
              "  </tbody>\n",
              "</table>\n",
              "</div>"
            ],
            "text/plain": [
              "          model     score\n",
              "0         Ridge  0.109226\n",
              "1         Lasso  0.109905\n",
              "2    ElasticNet  0.110080\n",
              "3        GBoost  0.116379\n",
              "4  RandomForest  0.138751"
            ]
          },
          "metadata": {
            "tags": []
          },
          "execution_count": 58
        }
      ]
    },
    {
      "cell_type": "markdown",
      "metadata": {
        "id": "ABHfSaarzaaJ",
        "colab_type": "text"
      },
      "source": [
        "## Fitting the models"
      ]
    },
    {
      "cell_type": "code",
      "metadata": {
        "id": "GA2Wm0CNLVzL",
        "colab_type": "code",
        "colab": {}
      },
      "source": [
        "#fitting all models\n",
        "lasso_model = lasso.fit(X_train, y_train)\n",
        "ridge_model = ridge.fit(X_train, y_train)\n",
        "elnet_model = elnet.fit(X_train, y_train)\n",
        "gboost_model = gboost.fit(X_train, y_train)\n",
        "rf_model = rf.fit(X_train, y_train)"
      ],
      "execution_count": 59,
      "outputs": []
    },
    {
      "cell_type": "markdown",
      "metadata": {
        "id": "BZOZAUNLzhtH",
        "colab_type": "text"
      },
      "source": [
        "## Making predictions"
      ]
    },
    {
      "cell_type": "markdown",
      "metadata": {
        "id": "pBgaH8UNGJe1",
        "colab_type": "text"
      },
      "source": [
        "In the following step I'm making the predictions with all models on X_test and the original test dataset. Furthermore, I save each predicted prices in a variable to work with it in the next step. \n",
        "\n",
        "You also need to apply the np.expm1 to transform the SalePrice back after the log1p transformation before to get the right values."
      ]
    },
    {
      "cell_type": "code",
      "metadata": {
        "id": "2xii99OlTKyT",
        "colab_type": "code",
        "colab": {}
      },
      "source": [
        "#predictions with all models\n",
        "lasso_pred = lasso_model.predict(X_test)\n",
        "finallasso = np.expm1(lasso_model.predict(test))\n",
        "\n",
        "ridge_pred = ridge_model.predict(X_test)\n",
        "finalridge = np.expm1(ridge_model.predict(test))\n",
        "\n",
        "elnet_pred = elnet_model.predict(X_test)\n",
        "finalelnet = np.expm1(elnet_model.predict(test))\n",
        "\n",
        "gboost_pred = gboost_model.predict(X_test)\n",
        "finalgboost = np.expm1(gboost_model.predict(test))\n",
        "\n",
        "rf_pred = rf_model.predict(X_test)\n",
        "finalrf = np.expm1(rf_model.predict(test))"
      ],
      "execution_count": 60,
      "outputs": []
    },
    {
      "cell_type": "markdown",
      "metadata": {
        "id": "pIIHQj4X0HiK",
        "colab_type": "text"
      },
      "source": [
        "## Calculating the average SalePrice out of all predicted values"
      ]
    },
    {
      "cell_type": "markdown",
      "metadata": {
        "id": "x0MhFPnEWkdx",
        "colab_type": "text"
      },
      "source": [
        "My first idea was to simply take the predicted values from all models and divide them by the number of models. Consequently, the result is the average predicted SalePrice."
      ]
    },
    {
      "cell_type": "code",
      "metadata": {
        "id": "cMm6KpuLVjZD",
        "colab_type": "code",
        "colab": {}
      },
      "source": [
        "#calculate the average SalePrice out of all models\n",
        "average_pred = (lasso_pred + ridge_pred + elnet_pred + gboost_pred + rf_pred) / 5\n",
        "average = (finallasso + finalridge + finalelnet + finalgboost + finalrf) / 5"
      ],
      "execution_count": 61,
      "outputs": []
    },
    {
      "cell_type": "markdown",
      "metadata": {
        "id": "g8NLHE0m0Sg6",
        "colab_type": "text"
      },
      "source": [
        "## Stacking\n",
        "\n",
        "After combining the different models in an easy way by just taking the average SalePrice out of all five models, I decided to try Stacking as well. \n",
        "\n",
        "I used ridge as the meta_regressor because it has the best RMSE training score."
      ]
    },
    {
      "cell_type": "code",
      "metadata": {
        "id": "LEHE4ZzPEL3E",
        "colab_type": "code",
        "colab": {}
      },
      "source": [
        "#set up stacking model\n",
        "stack = StackingCVRegressor(regressors=(lasso, gboost, elnet, rf),\n",
        "                                meta_regressor= ridge,\n",
        "                                use_features_in_secondary=True)"
      ],
      "execution_count": 62,
      "outputs": []
    },
    {
      "cell_type": "code",
      "metadata": {
        "id": "bM2p3LpX-x1L",
        "colab_type": "code",
        "colab": {
          "base_uri": "https://localhost:8080/",
          "height": 35
        },
        "outputId": "6df23acd-143c-4414-d2c7-ee36738c7ba4"
      },
      "source": [
        "#calculate and show training error\n",
        "score_stack = np.sqrt(-cross_val_score(stack, np.array(X_train), np.array(y_train), scoring=\"neg_mean_squared_error\", cv = 10))\n",
        "\n",
        "print(score_stack.mean())"
      ],
      "execution_count": 63,
      "outputs": [
        {
          "output_type": "stream",
          "text": [
            "0.11379381746571267\n"
          ],
          "name": "stdout"
        }
      ]
    },
    {
      "cell_type": "code",
      "metadata": {
        "id": "BdICOss01Svp",
        "colab_type": "code",
        "colab": {}
      },
      "source": [
        "#fit stacking model\n",
        "stack_model = stack.fit(np.array(X_train), np.array(y_train))"
      ],
      "execution_count": 64,
      "outputs": []
    },
    {
      "cell_type": "code",
      "metadata": {
        "id": "WTefA0zM1GPP",
        "colab_type": "code",
        "colab": {}
      },
      "source": [
        "#predict with stacking model\n",
        "stack_pred = stack_model.predict(X_test)"
      ],
      "execution_count": 65,
      "outputs": []
    },
    {
      "cell_type": "code",
      "metadata": {
        "id": "i_p3Nf2OOmdo",
        "colab_type": "code",
        "colab": {}
      },
      "source": [
        "#show predictions of house prices with the stacking model\n",
        "finalstack = np.expm1(stack_model.predict(test))"
      ],
      "execution_count": 66,
      "outputs": []
    },
    {
      "cell_type": "code",
      "metadata": {
        "id": "x1AuuqwkBvqE",
        "colab_type": "code",
        "colab": {
          "base_uri": "https://localhost:8080/",
          "height": 252
        },
        "outputId": "8606b77e-2dca-4ba4-ff6f-209877a5ef16"
      },
      "source": [
        "#create a table of train error results\n",
        "test_error = pd.DataFrame({\n",
        "    'model': ['Lasso',\n",
        "              'Ridge',\n",
        "              'ElasticNet',\n",
        "              'GBoost',\n",
        "              'RandomForest',\n",
        "              'Average',\n",
        "              'Stack'],\n",
        "    'score': [rmse_test(lasso_pred),\n",
        "              rmse_test(ridge_pred),\n",
        "              rmse_test(elnet_pred),\n",
        "              rmse_test(gboost_pred),\n",
        "              rmse_test(rf_pred),\n",
        "              rmse_test(average_pred),\n",
        "              rmse_test(stack_pred)]})\n",
        "\n",
        "#build dataframe of values\n",
        "test_error_df = test_error.sort_values(by='score', ascending=True).reset_index(drop=True)\n",
        "test_error_df"
      ],
      "execution_count": 67,
      "outputs": [
        {
          "output_type": "execute_result",
          "data": {
            "text/html": [
              "<div>\n",
              "<style scoped>\n",
              "    .dataframe tbody tr th:only-of-type {\n",
              "        vertical-align: middle;\n",
              "    }\n",
              "\n",
              "    .dataframe tbody tr th {\n",
              "        vertical-align: top;\n",
              "    }\n",
              "\n",
              "    .dataframe thead th {\n",
              "        text-align: right;\n",
              "    }\n",
              "</style>\n",
              "<table border=\"1\" class=\"dataframe\">\n",
              "  <thead>\n",
              "    <tr style=\"text-align: right;\">\n",
              "      <th></th>\n",
              "      <th>model</th>\n",
              "      <th>score</th>\n",
              "    </tr>\n",
              "  </thead>\n",
              "  <tbody>\n",
              "    <tr>\n",
              "      <th>0</th>\n",
              "      <td>Stack</td>\n",
              "      <td>0.118424</td>\n",
              "    </tr>\n",
              "    <tr>\n",
              "      <th>1</th>\n",
              "      <td>Average</td>\n",
              "      <td>0.118922</td>\n",
              "    </tr>\n",
              "    <tr>\n",
              "      <th>2</th>\n",
              "      <td>ElasticNet</td>\n",
              "      <td>0.119127</td>\n",
              "    </tr>\n",
              "    <tr>\n",
              "      <th>3</th>\n",
              "      <td>Lasso</td>\n",
              "      <td>0.119198</td>\n",
              "    </tr>\n",
              "    <tr>\n",
              "      <th>4</th>\n",
              "      <td>Ridge</td>\n",
              "      <td>0.120332</td>\n",
              "    </tr>\n",
              "    <tr>\n",
              "      <th>5</th>\n",
              "      <td>GBoost</td>\n",
              "      <td>0.132068</td>\n",
              "    </tr>\n",
              "    <tr>\n",
              "      <th>6</th>\n",
              "      <td>RandomForest</td>\n",
              "      <td>0.134947</td>\n",
              "    </tr>\n",
              "  </tbody>\n",
              "</table>\n",
              "</div>"
            ],
            "text/plain": [
              "          model     score\n",
              "0         Stack  0.118424\n",
              "1       Average  0.118922\n",
              "2    ElasticNet  0.119127\n",
              "3         Lasso  0.119198\n",
              "4         Ridge  0.120332\n",
              "5        GBoost  0.132068\n",
              "6  RandomForest  0.134947"
            ]
          },
          "metadata": {
            "tags": []
          },
          "execution_count": 67
        }
      ]
    },
    {
      "cell_type": "markdown",
      "metadata": {
        "id": "aAThUismM667",
        "colab_type": "text"
      },
      "source": [
        "The test error score for the simple average model is the lowest. Therefore, we gonna use it for the final submission."
      ]
    },
    {
      "cell_type": "markdown",
      "metadata": {
        "id": "temJ4SqwXUWq",
        "colab_type": "text"
      },
      "source": [
        "# 13. Submission"
      ]
    },
    {
      "cell_type": "code",
      "metadata": {
        "id": "PZ8OO8l6bvJ0",
        "colab_type": "code",
        "colab": {
          "base_uri": "https://localhost:8080/",
          "height": 194
        },
        "outputId": "62a50521-cdb5-45eb-bad9-1fb9836a2971"
      },
      "source": [
        "#submission taking the simple average predictions\n",
        "sub = pd.DataFrame()\n",
        "sub['Id'] = test_id\n",
        "sub['SalePrice'] = average\n",
        "sub.to_csv('submission.csv',index=False)\n",
        "sub.head()"
      ],
      "execution_count": 68,
      "outputs": [
        {
          "output_type": "execute_result",
          "data": {
            "text/html": [
              "<div>\n",
              "<style scoped>\n",
              "    .dataframe tbody tr th:only-of-type {\n",
              "        vertical-align: middle;\n",
              "    }\n",
              "\n",
              "    .dataframe tbody tr th {\n",
              "        vertical-align: top;\n",
              "    }\n",
              "\n",
              "    .dataframe thead th {\n",
              "        text-align: right;\n",
              "    }\n",
              "</style>\n",
              "<table border=\"1\" class=\"dataframe\">\n",
              "  <thead>\n",
              "    <tr style=\"text-align: right;\">\n",
              "      <th></th>\n",
              "      <th>Id</th>\n",
              "      <th>SalePrice</th>\n",
              "    </tr>\n",
              "  </thead>\n",
              "  <tbody>\n",
              "    <tr>\n",
              "      <th>0</th>\n",
              "      <td>1461</td>\n",
              "      <td>121292.805968</td>\n",
              "    </tr>\n",
              "    <tr>\n",
              "      <th>1</th>\n",
              "      <td>1462</td>\n",
              "      <td>158148.767785</td>\n",
              "    </tr>\n",
              "    <tr>\n",
              "      <th>2</th>\n",
              "      <td>1463</td>\n",
              "      <td>185354.348017</td>\n",
              "    </tr>\n",
              "    <tr>\n",
              "      <th>3</th>\n",
              "      <td>1464</td>\n",
              "      <td>194800.356819</td>\n",
              "    </tr>\n",
              "    <tr>\n",
              "      <th>4</th>\n",
              "      <td>1465</td>\n",
              "      <td>195120.105323</td>\n",
              "    </tr>\n",
              "  </tbody>\n",
              "</table>\n",
              "</div>"
            ],
            "text/plain": [
              "     Id      SalePrice\n",
              "0  1461  121292.805968\n",
              "1  1462  158148.767785\n",
              "2  1463  185354.348017\n",
              "3  1464  194800.356819\n",
              "4  1465  195120.105323"
            ]
          },
          "metadata": {
            "tags": []
          },
          "execution_count": 68
        }
      ]
    }
  ]
}